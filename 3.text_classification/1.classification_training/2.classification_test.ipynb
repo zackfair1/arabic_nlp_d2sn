{
 "cells": [
  {
   "cell_type": "markdown",
   "metadata": {},
   "source": [
    "<h2>Load and use the exported model from before"
   ]
  },
  {
   "cell_type": "code",
   "execution_count": 1,
   "metadata": {},
   "outputs": [],
   "source": [
    "# !pip install tensorflow\n",
    "# !pip install ktrain\n",
    "\n",
    "import pandas as pd\n",
    "import numpy as np\n",
    "from tqdm import tqdm\n",
    "tqdm.pandas()\n",
    "\n",
    "import warnings, os, re, ktrain\n",
    "warnings.filterwarnings(\"ignore\")"
   ]
  },
  {
   "cell_type": "markdown",
   "metadata": {},
   "source": [
    "<h4>Main dataset to classify"
   ]
  },
  {
   "cell_type": "code",
   "execution_count": 2,
   "metadata": {},
   "outputs": [
    {
     "name": "stderr",
     "output_type": "stream",
     "text": [
      "100%|██████████| 51087/51087 [00:00<00:00, 81479.20it/s]\n"
     ]
    },
    {
     "data": {
      "text/html": [
       "<div>\n",
       "<style scoped>\n",
       "    .dataframe tbody tr th:only-of-type {\n",
       "        vertical-align: middle;\n",
       "    }\n",
       "\n",
       "    .dataframe tbody tr th {\n",
       "        vertical-align: top;\n",
       "    }\n",
       "\n",
       "    .dataframe thead th {\n",
       "        text-align: right;\n",
       "    }\n",
       "</style>\n",
       "<table border=\"1\" class=\"dataframe\">\n",
       "  <thead>\n",
       "    <tr style=\"text-align: right;\">\n",
       "      <th></th>\n",
       "      <th>texts</th>\n",
       "    </tr>\n",
       "  </thead>\n",
       "  <tbody>\n",
       "    <tr>\n",
       "      <th>0</th>\n",
       "      <td>قال تعالى إنّهُم يَرَوْنَهُ بعيداًونَراهُ قريبا</td>\n",
       "    </tr>\n",
       "    <tr>\n",
       "      <th>1</th>\n",
       "      <td>الجيش الروسي يباد في مدينة إيربين الآن</td>\n",
       "    </tr>\n",
       "    <tr>\n",
       "      <th>2</th>\n",
       "      <td>لم يتبقى الا سنوات قليلة</td>\n",
       "    </tr>\n",
       "    <tr>\n",
       "      <th>7</th>\n",
       "      <td>لم نسمع منذ فترة عن هجمات داعش في افغانستان سي...</td>\n",
       "    </tr>\n",
       "    <tr>\n",
       "      <th>8</th>\n",
       "      <td>الولايات المتحدة تخطط لدعم طالبان ضد داعش مسرح...</td>\n",
       "    </tr>\n",
       "    <tr>\n",
       "      <th>...</th>\n",
       "      <td>...</td>\n",
       "    </tr>\n",
       "    <tr>\n",
       "      <th>70952</th>\n",
       "      <td>اهلا وسهلا بكم احبتي الكرام قروب مثل قروب دكتو...</td>\n",
       "    </tr>\n",
       "    <tr>\n",
       "      <th>70953</th>\n",
       "      <td>اهلين</td>\n",
       "    </tr>\n",
       "    <tr>\n",
       "      <th>70954</th>\n",
       "      <td>اريد اكثر عدد يدخل هنا</td>\n",
       "    </tr>\n",
       "    <tr>\n",
       "      <th>70955</th>\n",
       "      <td>اهلا فيج اختي</td>\n",
       "    </tr>\n",
       "    <tr>\n",
       "      <th>70956</th>\n",
       "      <td>موجودة</td>\n",
       "    </tr>\n",
       "  </tbody>\n",
       "</table>\n",
       "<p>45065 rows × 1 columns</p>\n",
       "</div>"
      ],
      "text/plain": [
       "                                                   texts\n",
       "0        قال تعالى إنّهُم يَرَوْنَهُ بعيداًونَراهُ قريبا\n",
       "1                 الجيش الروسي يباد في مدينة إيربين الآن\n",
       "2                               لم يتبقى الا سنوات قليلة\n",
       "7      لم نسمع منذ فترة عن هجمات داعش في افغانستان سي...\n",
       "8      الولايات المتحدة تخطط لدعم طالبان ضد داعش مسرح...\n",
       "...                                                  ...\n",
       "70952  اهلا وسهلا بكم احبتي الكرام قروب مثل قروب دكتو...\n",
       "70953                                              اهلين\n",
       "70954                             اريد اكثر عدد يدخل هنا\n",
       "70955                                      اهلا فيج اختي\n",
       "70956                                             موجودة\n",
       "\n",
       "[45065 rows x 1 columns]"
      ]
     },
     "execution_count": 2,
     "metadata": {},
     "output_type": "execute_result"
    }
   ],
   "source": [
    "# --------- Main dataframe without NaN\n",
    "df = pd.read_csv(r'texts.csv').dropna()\n",
    "# Only arabic characters (no punctuations too)\n",
    "df['texts'] = df.texts.progress_map(lambda x : ' '.join(re.findall(r'[\\u0600-\\u06FF]+', x)))\n",
    "# Drop empty values (FINAL DF)\n",
    "df = df.replace(r'^\\s*$', np.nan, regex=True).dropna()\n",
    "# Keep only texts with length of 30 and more\n",
    "df = df[df.texts.str.len() >= 30]\n",
    "\n",
    "# Main categories\n",
    "categories = ['Culture','Diverse','Economy','Politics','Sport']\n",
    "\n",
    "df"
   ]
  },
  {
   "cell_type": "markdown",
   "metadata": {},
   "source": [
    "<h3>Main predictor model"
   ]
  },
  {
   "cell_type": "code",
   "execution_count": 7,
   "metadata": {},
   "outputs": [
    {
     "data": {
      "text/plain": [
       "<ktrain.text.predictor.TextPredictor at 0x18834cede50>"
      ]
     },
     "execution_count": 7,
     "metadata": {},
     "output_type": "execute_result"
    }
   ],
   "source": [
    "pred = ktrain.load_predictor('3arabert_classifier')\n",
    "pred"
   ]
  },
  {
   "cell_type": "code",
   "execution_count": 9,
   "metadata": {},
   "outputs": [
    {
     "name": "stderr",
     "output_type": "stream",
     "text": [
      " 64%|██████▍   | 19199/30094 [14:37<10:54, 16.64it/s]"
     ]
    }
   ],
   "source": [
    "# ~ 30 minutes\n",
    "df['predicted_class'] = df.texts.progress_map(lambda x : pred.predict(x))\n",
    "df['category'] = df['predicted_class'].progress_map(lambda x : categories[x])\n",
    "\n",
    "# # OR \n",
    "# df['category'] = df.texts.progress_map(lambda x : categories[pred.predict(x)])"
   ]
  },
  {
   "cell_type": "code",
   "execution_count": null,
   "metadata": {},
   "outputs": [],
   "source": [
    "df.to_csv('final_classified_texts.csv', index=False)"
   ]
  }
 ],
 "metadata": {
  "interpreter": {
   "hash": "6a90448524f656655376e589a7c5d3deb138177bb112388cb30ddfc6b5ff35d8"
  },
  "kernelspec": {
   "display_name": "Python 3.9.10 64-bit",
   "language": "python",
   "name": "python3"
  },
  "language_info": {
   "codemirror_mode": {
    "name": "ipython",
    "version": 3
   },
   "file_extension": ".py",
   "mimetype": "text/x-python",
   "name": "python",
   "nbconvert_exporter": "python",
   "pygments_lexer": "ipython3",
   "version": "3.9.10"
  },
  "orig_nbformat": 4
 },
 "nbformat": 4,
 "nbformat_minor": 2
}
