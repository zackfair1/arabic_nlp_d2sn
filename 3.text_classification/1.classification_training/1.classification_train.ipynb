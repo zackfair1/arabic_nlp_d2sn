{
 "cells": [
  {
   "cell_type": "markdown",
   "metadata": {},
   "source": [
    "<h2>Train the model to predict classes for my main dataset using a neural network (ktrain)"
   ]
  },
  {
   "cell_type": "code",
   "execution_count": 1,
   "metadata": {},
   "outputs": [],
   "source": [
    "# !pip install tensorflow\n",
    "# !pip install ktrain\n",
    "# # Credits: https://www.narcis.nl/dataset/RecordID/oai%3Aeasy.dans.knaw.nl%3Aeasy-dataset%3A79182\n",
    "\n",
    "import pandas as pd\n",
    "import numpy as np\n",
    "from tqdm import tqdm\n",
    "tqdm.pandas()\n",
    "from sklearn.model_selection import train_test_split\n",
    "\n",
    "import warnings, os, re\n",
    "warnings.filterwarnings(\"ignore\")"
   ]
  },
  {
   "cell_type": "markdown",
   "metadata": {},
   "source": [
    "<h3>The training dataset</h3>\n",
    "<p>It comes in 5 classes as follows:\n",
    "<li>0: Culture\n",
    "<li>1: Diverse\n",
    "<li>2: Economy\n",
    "<li>3: Politics\n",
    "<li>4: Sport"
   ]
  },
  {
   "cell_type": "code",
   "execution_count": null,
   "metadata": {},
   "outputs": [],
   "source": [
    "# Function to read csv inside zip file for pandas\n",
    "def extract_df(url):\n",
    "    # Necessary packages\n",
    "    import re, requests, shutil, zipfile, os\n",
    "    import pandas as pd\n",
    "    # The url where we can fide the file\n",
    "    url_df = url\n",
    "    # The name of the zip file\n",
    "    file_df = re.findall(r'([^\\/]+$)', url)[0]\n",
    "    if '.zip' not in file_df:\n",
    "        files_dir = file_df+'.zip'\n",
    "    else:\n",
    "        files_dir = file_df\n",
    "    if not os.path.exists(files_dir):\n",
    "        os.mkdir(files_dir)\n",
    "    # Command to donwload the file at the given url\n",
    "    r = requests.get(url_df)\n",
    "    # Then we open the file\n",
    "    open(file_df, 'wb').write(r.content)\n",
    "    # We extract the content of the .zip file\n",
    "    with zipfile.ZipFile(file_df, 'r') as unzip:\n",
    "        unzip.extractall(files_dir)\n",
    "     # we finally read the csv and make some cleaning\n",
    "    df = pd.read_csv(os.path.join(\n",
    "        files_dir, [i for i in unzip.namelist() if i.endswith('.csv')][0]))\n",
    "    # We remove files/dir\n",
    "    shutil.rmtree(files_dir)\n",
    "    os.remove(file_df)\n",
    "    return df"
   ]
  },
  {
   "cell_type": "code",
   "execution_count": 50,
   "metadata": {},
   "outputs": [
    {
     "data": {
      "text/html": [
       "<div>\n",
       "<style scoped>\n",
       "    .dataframe tbody tr th:only-of-type {\n",
       "        vertical-align: middle;\n",
       "    }\n",
       "\n",
       "    .dataframe tbody tr th {\n",
       "        vertical-align: top;\n",
       "    }\n",
       "\n",
       "    .dataframe thead th {\n",
       "        text-align: right;\n",
       "    }\n",
       "</style>\n",
       "<table border=\"1\" class=\"dataframe\">\n",
       "  <thead>\n",
       "    <tr style=\"text-align: right;\">\n",
       "      <th></th>\n",
       "      <th>text</th>\n",
       "      <th>target</th>\n",
       "    </tr>\n",
       "  </thead>\n",
       "  <tbody>\n",
       "    <tr>\n",
       "      <th>0</th>\n",
       "      <td>بين أستوديوهات ورزازات وصحراء مرزوكة وآثار ولي...</td>\n",
       "      <td>0</td>\n",
       "    </tr>\n",
       "    <tr>\n",
       "      <th>1</th>\n",
       "      <td>قررت النجمة الأمريكية أوبرا وينفري ألا يقتصر ع...</td>\n",
       "      <td>0</td>\n",
       "    </tr>\n",
       "    <tr>\n",
       "      <th>2</th>\n",
       "      <td>أخبارنا المغربية الوزاني تصوير الشملالي ألهب ا...</td>\n",
       "      <td>0</td>\n",
       "    </tr>\n",
       "    <tr>\n",
       "      <th>3</th>\n",
       "      <td>اخبارنا المغربية قال ابراهيم الراشدي محامي سعد...</td>\n",
       "      <td>0</td>\n",
       "    </tr>\n",
       "    <tr>\n",
       "      <th>4</th>\n",
       "      <td>تزال صناعة الجلود في المغرب تتبع الطريقة التقل...</td>\n",
       "      <td>0</td>\n",
       "    </tr>\n",
       "    <tr>\n",
       "      <th>...</th>\n",
       "      <td>...</td>\n",
       "      <td>...</td>\n",
       "    </tr>\n",
       "    <tr>\n",
       "      <th>111723</th>\n",
       "      <td>اللاعب تأخر في العودة إلى التداريب والمدرب غاض...</td>\n",
       "      <td>4</td>\n",
       "    </tr>\n",
       "    <tr>\n",
       "      <th>111724</th>\n",
       "      <td>المشرف العام لحسنية أكادير قال إنه سيغادر الفر...</td>\n",
       "      <td>4</td>\n",
       "    </tr>\n",
       "    <tr>\n",
       "      <th>111725</th>\n",
       "      <td>نسب إليه نتائج الوداد وصحوة الرجاء وآخر صيحاته...</td>\n",
       "      <td>4</td>\n",
       "    </tr>\n",
       "    <tr>\n",
       "      <th>111726</th>\n",
       "      <td>ستحتضن الرباط في الفترة مابين يوليوز المقبل دو...</td>\n",
       "      <td>4</td>\n",
       "    </tr>\n",
       "    <tr>\n",
       "      <th>111727</th>\n",
       "      <td>رضخ أحمد أهمو رئيس أمل تيزنيت لكرة القدم لضغوط...</td>\n",
       "      <td>4</td>\n",
       "    </tr>\n",
       "  </tbody>\n",
       "</table>\n",
       "<p>111728 rows × 2 columns</p>\n",
       "</div>"
      ],
      "text/plain": [
       "                                                     text  target\n",
       "0       بين أستوديوهات ورزازات وصحراء مرزوكة وآثار ولي...       0\n",
       "1       قررت النجمة الأمريكية أوبرا وينفري ألا يقتصر ع...       0\n",
       "2       أخبارنا المغربية الوزاني تصوير الشملالي ألهب ا...       0\n",
       "3       اخبارنا المغربية قال ابراهيم الراشدي محامي سعد...       0\n",
       "4       تزال صناعة الجلود في المغرب تتبع الطريقة التقل...       0\n",
       "...                                                   ...     ...\n",
       "111723  اللاعب تأخر في العودة إلى التداريب والمدرب غاض...       4\n",
       "111724  المشرف العام لحسنية أكادير قال إنه سيغادر الفر...       4\n",
       "111725  نسب إليه نتائج الوداد وصحوة الرجاء وآخر صيحاته...       4\n",
       "111726  ستحتضن الرباط في الفترة مابين يوليوز المقبل دو...       4\n",
       "111727  رضخ أحمد أهمو رئيس أمل تيزنيت لكرة القدم لضغوط...       4\n",
       "\n",
       "[111728 rows x 2 columns]"
      ]
     },
     "execution_count": 50,
     "metadata": {},
     "output_type": "execute_result"
    }
   ],
   "source": [
    "categories = ['Culture','Diverse','Economy','Politics','Sport']\n",
    "train_df = extract_df('https://data.mendeley.com/public-files/datasets/v524p5dhpj/files/72c2e306-9538-4c74-a28f-558fbe87c382/file_downloaded').rename(columns={'targe':'target'})\n",
    "train_df"
   ]
  },
  {
   "cell_type": "code",
   "execution_count": 4,
   "metadata": {},
   "outputs": [],
   "source": [
    "# Train test split\n",
    "texts = train_df.text.tolist()\n",
    "target = train_df.target.tolist()\n",
    "\n",
    "x_train, x_test, y_train, y_test = train_test_split(texts, target, test_size=.2, random_state=23)"
   ]
  },
  {
   "cell_type": "markdown",
   "metadata": {},
   "source": [
    "<h4>Transformer Tokenizer for training"
   ]
  },
  {
   "cell_type": "code",
   "execution_count": 5,
   "metadata": {},
   "outputs": [],
   "source": [
    "# !pip install ktrain --user\n",
    "import ktrain\n",
    "from ktrain import text\n",
    "from transformers import AutoTokenizer, AutoModel, AutoModelForMaskedLM\n",
    "model_name = \"asafaya/bert-base-arabic\"\n",
    "tokenizer = AutoTokenizer.from_pretrained(model_name)\n",
    "# model = AutoModelForMaskedLM.from_pretrained(model_name)"
   ]
  },
  {
   "cell_type": "code",
   "execution_count": 6,
   "metadata": {},
   "outputs": [],
   "source": [
    "%reload_ext autoreload\n",
    "%autoreload 2\n",
    "%matplotlib inline\n",
    "os.environ[\"CUDA_DEVICE_ORDER\"]=\"PCI_BUS_ID\";\n",
    "os.environ[\"CUDA_VISIBLE_DEVICES\"]=\"0\";\n",
    "\n",
    "transformer = text.Transformer(model_name, maxlen=512, class_names=categories)\n",
    "\n",
    "# transformer.get_model()"
   ]
  },
  {
   "cell_type": "markdown",
   "metadata": {},
   "source": [
    "<h5>New dataframe, then preprocess and then get the model from the transformer"
   ]
  },
  {
   "cell_type": "code",
   "execution_count": 7,
   "metadata": {},
   "outputs": [
    {
     "data": {
      "text/html": [
       "<div>\n",
       "<style scoped>\n",
       "    .dataframe tbody tr th:only-of-type {\n",
       "        vertical-align: middle;\n",
       "    }\n",
       "\n",
       "    .dataframe tbody tr th {\n",
       "        vertical-align: top;\n",
       "    }\n",
       "\n",
       "    .dataframe thead th {\n",
       "        text-align: right;\n",
       "    }\n",
       "</style>\n",
       "<table border=\"1\" class=\"dataframe\">\n",
       "  <thead>\n",
       "    <tr style=\"text-align: right;\">\n",
       "      <th></th>\n",
       "      <th>text</th>\n",
       "      <th>target</th>\n",
       "      <th>0</th>\n",
       "      <th>1</th>\n",
       "      <th>2</th>\n",
       "      <th>3</th>\n",
       "      <th>4</th>\n",
       "    </tr>\n",
       "  </thead>\n",
       "  <tbody>\n",
       "    <tr>\n",
       "      <th>0</th>\n",
       "      <td>بين أستوديوهات ورزازات وصحراء مرزوكة وآثار ولي...</td>\n",
       "      <td>0</td>\n",
       "      <td>1</td>\n",
       "      <td>0</td>\n",
       "      <td>0</td>\n",
       "      <td>0</td>\n",
       "      <td>0</td>\n",
       "    </tr>\n",
       "    <tr>\n",
       "      <th>1</th>\n",
       "      <td>قررت النجمة الأمريكية أوبرا وينفري ألا يقتصر ع...</td>\n",
       "      <td>0</td>\n",
       "      <td>1</td>\n",
       "      <td>0</td>\n",
       "      <td>0</td>\n",
       "      <td>0</td>\n",
       "      <td>0</td>\n",
       "    </tr>\n",
       "    <tr>\n",
       "      <th>2</th>\n",
       "      <td>أخبارنا المغربية الوزاني تصوير الشملالي ألهب ا...</td>\n",
       "      <td>0</td>\n",
       "      <td>1</td>\n",
       "      <td>0</td>\n",
       "      <td>0</td>\n",
       "      <td>0</td>\n",
       "      <td>0</td>\n",
       "    </tr>\n",
       "    <tr>\n",
       "      <th>3</th>\n",
       "      <td>اخبارنا المغربية قال ابراهيم الراشدي محامي سعد...</td>\n",
       "      <td>0</td>\n",
       "      <td>1</td>\n",
       "      <td>0</td>\n",
       "      <td>0</td>\n",
       "      <td>0</td>\n",
       "      <td>0</td>\n",
       "    </tr>\n",
       "    <tr>\n",
       "      <th>4</th>\n",
       "      <td>تزال صناعة الجلود في المغرب تتبع الطريقة التقل...</td>\n",
       "      <td>0</td>\n",
       "      <td>1</td>\n",
       "      <td>0</td>\n",
       "      <td>0</td>\n",
       "      <td>0</td>\n",
       "      <td>0</td>\n",
       "    </tr>\n",
       "    <tr>\n",
       "      <th>...</th>\n",
       "      <td>...</td>\n",
       "      <td>...</td>\n",
       "      <td>...</td>\n",
       "      <td>...</td>\n",
       "      <td>...</td>\n",
       "      <td>...</td>\n",
       "      <td>...</td>\n",
       "    </tr>\n",
       "    <tr>\n",
       "      <th>111723</th>\n",
       "      <td>اللاعب تأخر في العودة إلى التداريب والمدرب غاض...</td>\n",
       "      <td>4</td>\n",
       "      <td>0</td>\n",
       "      <td>0</td>\n",
       "      <td>0</td>\n",
       "      <td>0</td>\n",
       "      <td>1</td>\n",
       "    </tr>\n",
       "    <tr>\n",
       "      <th>111724</th>\n",
       "      <td>المشرف العام لحسنية أكادير قال إنه سيغادر الفر...</td>\n",
       "      <td>4</td>\n",
       "      <td>0</td>\n",
       "      <td>0</td>\n",
       "      <td>0</td>\n",
       "      <td>0</td>\n",
       "      <td>1</td>\n",
       "    </tr>\n",
       "    <tr>\n",
       "      <th>111725</th>\n",
       "      <td>نسب إليه نتائج الوداد وصحوة الرجاء وآخر صيحاته...</td>\n",
       "      <td>4</td>\n",
       "      <td>0</td>\n",
       "      <td>0</td>\n",
       "      <td>0</td>\n",
       "      <td>0</td>\n",
       "      <td>1</td>\n",
       "    </tr>\n",
       "    <tr>\n",
       "      <th>111726</th>\n",
       "      <td>ستحتضن الرباط في الفترة مابين يوليوز المقبل دو...</td>\n",
       "      <td>4</td>\n",
       "      <td>0</td>\n",
       "      <td>0</td>\n",
       "      <td>0</td>\n",
       "      <td>0</td>\n",
       "      <td>1</td>\n",
       "    </tr>\n",
       "    <tr>\n",
       "      <th>111727</th>\n",
       "      <td>رضخ أحمد أهمو رئيس أمل تيزنيت لكرة القدم لضغوط...</td>\n",
       "      <td>4</td>\n",
       "      <td>0</td>\n",
       "      <td>0</td>\n",
       "      <td>0</td>\n",
       "      <td>0</td>\n",
       "      <td>1</td>\n",
       "    </tr>\n",
       "  </tbody>\n",
       "</table>\n",
       "<p>108789 rows × 7 columns</p>\n",
       "</div>"
      ],
      "text/plain": [
       "                                                     text  target  0  1  2  3  \\\n",
       "0       بين أستوديوهات ورزازات وصحراء مرزوكة وآثار ولي...       0  1  0  0  0   \n",
       "1       قررت النجمة الأمريكية أوبرا وينفري ألا يقتصر ع...       0  1  0  0  0   \n",
       "2       أخبارنا المغربية الوزاني تصوير الشملالي ألهب ا...       0  1  0  0  0   \n",
       "3       اخبارنا المغربية قال ابراهيم الراشدي محامي سعد...       0  1  0  0  0   \n",
       "4       تزال صناعة الجلود في المغرب تتبع الطريقة التقل...       0  1  0  0  0   \n",
       "...                                                   ...     ... .. .. .. ..   \n",
       "111723  اللاعب تأخر في العودة إلى التداريب والمدرب غاض...       4  0  0  0  0   \n",
       "111724  المشرف العام لحسنية أكادير قال إنه سيغادر الفر...       4  0  0  0  0   \n",
       "111725  نسب إليه نتائج الوداد وصحوة الرجاء وآخر صيحاته...       4  0  0  0  0   \n",
       "111726  ستحتضن الرباط في الفترة مابين يوليوز المقبل دو...       4  0  0  0  0   \n",
       "111727  رضخ أحمد أهمو رئيس أمل تيزنيت لكرة القدم لضغوط...       4  0  0  0  0   \n",
       "\n",
       "        4  \n",
       "0       0  \n",
       "1       0  \n",
       "2       0  \n",
       "3       0  \n",
       "4       0  \n",
       "...    ..  \n",
       "111723  1  \n",
       "111724  1  \n",
       "111725  1  \n",
       "111726  1  \n",
       "111727  1  \n",
       "\n",
       "[108789 rows x 7 columns]"
      ]
     },
     "execution_count": 7,
     "metadata": {},
     "output_type": "execute_result"
    }
   ],
   "source": [
    "df_2 = pd.concat([train_df, pd.get_dummies(train_df.target)],axis=1)\n",
    "df_2"
   ]
  },
  {
   "cell_type": "markdown",
   "metadata": {},
   "source": [
    "<h5>Initiate the training and testing data, clear the GPU usage, then initiate the model"
   ]
  },
  {
   "cell_type": "code",
   "execution_count": 8,
   "metadata": {},
   "outputs": [
    {
     "name": "stdout",
     "output_type": "stream",
     "text": [
      "[0, 1, 2, 3, 4]\n",
      "       0  1  2  3  4\n",
      "97777  0  0  0  0  1\n",
      "34053  0  0  1  0  0\n",
      "28753  0  1  0  0  0\n",
      "73464  0  0  0  0  1\n",
      "48180  0  0  0  1  0\n",
      "[0, 1, 2, 3, 4]\n",
      "        0  1  2  3  4\n",
      "92405   0  0  0  0  1\n",
      "50903   0  0  0  1  0\n",
      "30133   0  1  0  0  0\n",
      "74727   0  0  0  0  1\n",
      "109525  0  0  0  0  1\n",
      "language: ar\n",
      "Word Counts: 404129\n",
      "Nrows: 97910\n",
      "97910 train sequences\n",
      "train sequence lengths:\n",
      "\tmean : 229\n",
      "\t95percentile : 534\n",
      "\t99percentile : 944\n",
      "Adding 3-gram features\n",
      "max_features changed to 18354937 with addition of ngrams\n",
      "Average train sequence length with ngrams: 683\n",
      "train (w/ngrams) sequence lengths:\n",
      "\tmean : 683\n",
      "\t95percentile : 1599\n",
      "\t99percentile : 2829\n",
      "x_train shape: (97910,400)\n",
      "y_train shape: (97910, 5)\n",
      "Is Multi-Label? False\n",
      "10879 test sequences\n",
      "test sequence lengths:\n",
      "\tmean : 229\n",
      "\t95percentile : 534\n",
      "\t99percentile : 924\n",
      "Average test sequence length with ngrams: 535\n",
      "test (w/ngrams) sequence lengths:\n",
      "\tmean : 535\n",
      "\t95percentile : 1250\n",
      "\t99percentile : 2103\n",
      "x_test shape: (10879,400)\n",
      "y_test shape: (10879, 5)\n"
     ]
    }
   ],
   "source": [
    "(x_train, y_train), (x_test, y_test), preproc = text.texts_from_df(df_2, 'text', label_columns=[0,1,2,3,4], preprocess_mode='standard', val_pct=0.1, ngram_range=3)"
   ]
  },
  {
   "cell_type": "code",
   "execution_count": 9,
   "metadata": {},
   "outputs": [
    {
     "name": "stdout",
     "output_type": "stream",
     "text": [
      "Is Multi-Label? False\n",
      "compiling word ID features...\n",
      "maxlen is 400\n",
      "building document-term matrix... this may take a few moments...\n",
      "rows: 1-10000\n",
      "rows: 10001-20000\n",
      "rows: 20001-30000\n",
      "rows: 30001-40000\n",
      "rows: 40001-50000\n",
      "rows: 50001-60000\n",
      "rows: 60001-70000\n",
      "rows: 70001-80000\n",
      "rows: 80001-90000\n",
      "rows: 90001-97910\n",
      "computing log-count ratios...\n",
      "done.\n"
     ]
    }
   ],
   "source": [
    "# Clear the GPU memory\n",
    "from numba import cuda\n",
    "device = cuda.get_current_device()\n",
    "device.reset()\n",
    "\n",
    "# The model using NBSVM (Naive Bayes SVM) for text classification \n",
    "model = text.text_classifier('nbsvm', (x_train, y_train) , preproc=preproc)\n",
    "learner = ktrain.get_learner(model, \n",
    "                             train_data=(x_train, y_train), \n",
    "                             val_data=(x_test, y_test), \n",
    "                             batch_size=16)"
   ]
  },
  {
   "cell_type": "markdown",
   "metadata": {},
   "source": []
  },
  {
   "cell_type": "markdown",
   "metadata": {},
   "source": [
    "<h4>Decide the best learning rate"
   ]
  },
  {
   "cell_type": "code",
   "execution_count": 10,
   "metadata": {},
   "outputs": [
    {
     "name": "stdout",
     "output_type": "stream",
     "text": [
      "simulating training for different learning rates... this may take a few moments...\n",
      "Epoch 1/1024\n",
      "6120/6120 [==============================] - 21s 3ms/step - loss: 6.0822 - accuracy: 0.8351\n",
      "\n",
      "\n",
      "done.\n",
      "Visually inspect loss plot and select learning rate associated with falling loss\n"
     ]
    },
    {
     "data": {
      "image/png": "[encoded data removed]",
      "text/plain": [
       "<Figure size 432x288 with 1 Axes>"
      ]
     },
     "metadata": {
      "needs_background": "light"
     },
     "output_type": "display_data"
    }
   ],
   "source": [
    "learner.lr_find(show_plot=True)"
   ]
  },
  {
   "cell_type": "markdown",
   "metadata": {},
   "source": [
    "<h4>Train the Model"
   ]
  },
  {
   "cell_type": "code",
   "execution_count": 11,
   "metadata": {},
   "outputs": [
    {
     "name": "stdout",
     "output_type": "stream",
     "text": [
      "\n",
      "\n",
      "begin training using triangular learning rate policy with max lr of 0.005...\n",
      "6120/6120 [==============================] - 63s 10ms/step - loss: 0.1664 - accuracy: 0.9672 - val_loss: 0.3068 - val_accuracy: 0.9534\n"
     ]
    },
    {
     "data": {
      "text/plain": [
       "<keras.callbacks.History at 0x204ee4193d0>"
      ]
     },
     "execution_count": 11,
     "metadata": {},
     "output_type": "execute_result"
    }
   ],
   "source": [
    "learner.autofit(5e-3, 1)"
   ]
  },
  {
   "cell_type": "code",
   "execution_count": 20,
   "metadata": {},
   "outputs": [
    {
     "data": {
      "text/plain": [
       "<ktrain.core.ArrayLearner at 0x203bf6d0610>"
      ]
     },
     "execution_count": 20,
     "metadata": {},
     "output_type": "execute_result"
    }
   ],
   "source": [
    "learner"
   ]
  },
  {
   "cell_type": "code",
   "execution_count": 53,
   "metadata": {},
   "outputs": [
    {
     "name": "stdout",
     "output_type": "stream",
     "text": [
      "              precision    recall  f1-score   support\n",
      "\n",
      "     Culture       0.95      0.95      0.95      1413\n",
      "     Diverse       0.96      0.95      0.96      1627\n",
      "     Economy       0.89      0.90      0.89      1391\n",
      "    Politics       0.91      0.91      0.91      2093\n",
      "       Sport       0.99      0.99      0.99      4355\n",
      "\n",
      "    accuracy                           0.95     10879\n",
      "   macro avg       0.94      0.94      0.94     10879\n",
      "weighted avg       0.95      0.95      0.95     10879\n",
      "\n"
     ]
    },
    {
     "data": {
      "text/plain": [
       "array([[1346,   10,   10,   38,    9],\n",
       "       [  13, 1542,   32,   33,    7],\n",
       "       [  18,   11, 1247,  109,    6],\n",
       "       [  38,   32,  105, 1909,    9],\n",
       "       [   7,    6,    8,    6, 4328]], dtype=int64)"
      ]
     },
     "execution_count": 53,
     "metadata": {},
     "output_type": "execute_result"
    }
   ],
   "source": [
    "# Accuracy rate\n",
    "learner.validate(class_names=categories)"
   ]
  },
  {
   "cell_type": "markdown",
   "metadata": {},
   "source": [
    "<h4>Making Predictions on New Data\n"
   ]
  },
  {
   "cell_type": "code",
   "execution_count": 66,
   "metadata": {},
   "outputs": [
    {
     "data": {
      "text/plain": [
       "('Politics', 'Sport', 'Culture')"
      ]
     },
     "execution_count": 66,
     "metadata": {},
     "output_type": "execute_result"
    }
   ],
   "source": [
    "# Predictor\n",
    "predictor = ktrain.get_predictor(learner.model, preproc=preproc)\n",
    "\n",
    "# انتخاب = election ---- كرة القدم = football ---- جائزة أفضل ممثل = prize for the best actor\n",
    "categories[predictor.predict('انتخاب')], categories[predictor.predict('كرة القدم')], categories[predictor.predict('جائزة أفضل ممثل')]\n"
   ]
  },
  {
   "cell_type": "markdown",
   "metadata": {},
   "source": [
    "<h4>Save the model"
   ]
  },
  {
   "cell_type": "code",
   "execution_count": 70,
   "metadata": {},
   "outputs": [],
   "source": [
    "predictor.save('3arabert_classifier')"
   ]
  },
  {
   "cell_type": "code",
   "execution_count": null,
   "metadata": {},
   "outputs": [],
   "source": []
  },
  {
   "cell_type": "markdown",
   "metadata": {},
   "source": [
    "<h4>Credits: </h4>\n",
    "<li><a href=\"https://github.com/amaiya/ktrain\">https://github.com/amaiya/ktrain</a>\n",
    "<li><a href=\"htts://github.com/amaiya/ktrain/blob/master/examples/text\">htts://github.com/amaiya/ktrain/blob/master/examples/text</a>"
   ]
  }
 ],
 "metadata": {
  "interpreter": {
   "hash": "6a90448524f656655376e589a7c5d3deb138177bb112388cb30ddfc6b5ff35d8"
  },
  "kernelspec": {
   "display_name": "Python 3.9.10 64-bit",
   "language": "python",
   "name": "python3"
  },
  "language_info": {
   "codemirror_mode": {
    "name": "ipython",
    "version": 3
   },
   "file_extension": ".py",
   "mimetype": "text/x-python",
   "name": "python",
   "nbconvert_exporter": "python",
   "pygments_lexer": "ipython3",
   "version": "3.9.10"
  },
  "orig_nbformat": 4
 },
 "nbformat": 4,
 "nbformat_minor": 2
}
