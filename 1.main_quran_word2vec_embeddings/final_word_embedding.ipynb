{
 "cells": [
  {
   "cell_type": "code",
   "execution_count": 1,
   "metadata": {},
   "outputs": [],
   "source": [
    "import pandas as pd\n",
    "from gensim.models import Word2Vec\n",
    "import plotly.express as px\n",
    "from sklearn.decomposition import PCA\n",
    "from umap.umap_ import UMAP\n",
    "import os\n",
    "import tqdm\n",
    "tqdm.tqdm.pandas()\n",
    "import numpy as np\n",
    "import warnings\n",
    "warnings.filterwarnings('ignore')\n",
    "\n",
    "class pca_umap():\n",
    "    \"\"\"This class serves for visualizing PCA & UMAP based on search text. Note that it may not work with other types of dataframes or may take quite the time to load larger datasets\"\"\"\n",
    "\n",
    "    def __init__(self):\n",
    "        # Model\n",
    "        self.model = Word2Vec.load('https://github.com/zackfair1/reddit_files/blob/master/quran_w2v.model?raw=true')\n",
    "        # PCA\n",
    "        self.pca_df = pd.read_csv('https://raw.githubusercontent.com/zackfair1/reddit_files/master/pca_df.csv')\n",
    "        # UMAP\n",
    "        self.umap_df = pd.read_csv('https://raw.githubusercontent.com/zackfair1/reddit_files/master/umap_df.csv', index_col=0)\n",
    "        # Main w2v dataframe\n",
    "        self.df = pd.DataFrame(self.model.wv.vectors, index=self.model.wv.index_to_key)\n",
    "        \n",
    "    def find_most_similar(self, word): # <--- Most similar words\n",
    "        try:\n",
    "            list_words = []\n",
    "            if type(word) == list:\n",
    "                for w in word:\n",
    "                    list_words.append(list(np.stack(self.model.wv.most_similar(w), axis=1)[0]) + [w])\n",
    "                return self.flatten(list_words)\n",
    "            else:\n",
    "                word = [word]\n",
    "                return list(np.stack(self.model.wv.most_similar(word), axis=1)[0]) + word\n",
    "        except:\n",
    "            return\n",
    "    \n",
    "    def map_ref(self, value, dictionary): # <--- Map the dictionary for the right keys...\n",
    "        for k, v in dictionary.items():\n",
    "            if value in v:\n",
    "                return k\n",
    "            \n",
    "    def df_most_similar_(self, df, word):\n",
    "        try:\n",
    "            if type(word) == list:\n",
    "                lookup = []\n",
    "                reference = {}\n",
    "                for w in word:\n",
    "                    for sim in self.find_most_similar(w):\n",
    "                        lookup.append(sim)\n",
    "                        reference[sim] = w\n",
    "                df = df[df.word.isin(lookup)]\n",
    "                reference = {v:[i for i in reference.keys() if reference[i] == v ] for k,v in reference.items()}\n",
    "                df['ref'] = df['word'].progress_map(lambda x : self.map_ref(x, reference))\n",
    "                return df\n",
    "            else:\n",
    "                df = df[df.word.isin(self.find_most_similar(word))]\n",
    "                df['ref'] = word\n",
    "                return df\n",
    "        except Exception as e:\n",
    "            return f'Try some other words. Error: {e}'\n",
    "        \n",
    "    def plot_pca_similar(self, words): # <--- PCA Similar words to particular word(s) plot\n",
    "        df = self.df_most_similar_(self.pca_df.reset_index(), words)\n",
    "        fig_pca = px.scatter_3d(df, x='dim1', y='dim2', z='dim3', color='ref', text='word')\n",
    "        fig_pca.update_layout(margin=dict(l=0, r=0, b=0, t=0))\n",
    "        # fig_pca.show()\n",
    "        return fig_pca\n",
    "    \n",
    "    def plot_umap_similar(self, words):\n",
    "        df = self.df_most_similar_(self.umap_df, words)\n",
    "        fig_umap = px.scatter_3d(df, x='dim1',y='dim2',z='dim3',text='word',color='ref')\n",
    "        fig_umap.update_layout(margin=dict(l=0, r=0, b=0, t=0))\n",
    "        # fig_umap.show()\n",
    "        return fig_umap\n",
    "\n",
    "w2v = pca_umap()"
   ]
  },
  {
   "cell_type": "markdown",
   "metadata": {},
   "source": [
    "<h2>Dash Dashboard Web App"
   ]
  },
  {
   "cell_type": "code",
   "execution_count": null,
   "metadata": {},
   "outputs": [],
   "source": [
    "from dash import Dash, dcc, html, Input, Output\n",
    "\n",
    "app = Dash(__name__)\n",
    "app.layout = html.Div([\n",
    "    html.H1('Quran Word Embedding', style={'flex-basis':'100%','width':'51%','text-align':'center','text-transform':'uppercase','font-size':'2em','font-weight':'bold'}), # Title\n",
    "\n",
    "    html.Div([                  # <---- PCA\n",
    "        html.H3('PCA', style={'text-align':'center'}),\n",
    "        html.Div([              # <---- dropdown 2\n",
    "        dcc.Dropdown(options=w2v.pca_df.word.unique(), value=['الله'], id='demo-dropdown-2', multi=True),\n",
    "        html.Div(id='dd-output-container-2', style={'display':'none'}),\n",
    "        dcc.Graph(id='figure_2'),\n",
    "    ], style={'height':'50vh', 'margin':'2vw', 'height':'auto'}),\n",
    "    ], style={'width':'75%', 'box-shadow':'-1px 3px 18px -6px rgba(0,0,0,0.15)','border-radius':'1%', 'margin':'20px 0'}),\n",
    "    \n",
    "    html.Div([                  # <---- UMAP\n",
    "        html.H3('UMAP', style={'text-align':'center'}),\n",
    "        html.Div([              # <---- dropdown 1\n",
    "        dcc.Dropdown(options=w2v.umap_df.word.unique(), value=['الله'], id='demo-dropdown', multi=True),\n",
    "        html.Div(id='dd-output-container', style={'display':'none'}),\n",
    "        dcc.Graph(id='figure_1'),\n",
    "    ], style={'height':'50vh', 'margin':'2vw', 'height':'auto'}),\n",
    "    ], style={'width':'75%', 'box-shadow':'-1px 3px 18px -6px rgba(0,0,0,0.15)','border-radius':'1%', 'margin':'20px 0'}),\n",
    "    \n",
    "    html.Div([                  # <---- Tensorboard\n",
    "        html.H3('Tensorboard Embedding Projector', style={'text-align':'center'}),\n",
    "        html.Iframe(src='https://projector.tensorflow.org/?config=https://raw.githubusercontent.com/zackfair1/reddit_files/master/q_config.json', style={'width':'100%', 'box-shadow':'-1px 3px 18px -6px rgba(0,0,0,0.15)','border-radius':'1%', 'height':'100%','margin':'2vh 0'})\n",
    "    ], style={'width':'95%', 'box-shadow':'-1px 3px 18px -6px rgba(0,0,0,0.15)','border-radius':'1%', 'height':'100vh'}),\n",
    "    \n",
    "], style={'width':'95vw', 'display':'flex','justify-content':'space-around','flex-wrap':'wrap', 'font-family':'Arial, sans-serif','margin':'25px auto', 'margin':'0 0 2vh 0'})\n",
    "\n",
    "@app.callback(\n",
    "    Output('dd-output-container', 'children'),\n",
    "    Output('figure_1', 'figure'),\n",
    "    [Input('demo-dropdown', 'value')]\n",
    ")\n",
    "def update_output(value):\n",
    "    return value, w2v.plot_umap_similar(value) #, f'You have selected {value}'\n",
    "\n",
    "@app.callback(\n",
    "    Output('dd-output-container-2', 'children'),\n",
    "    Output('figure_2', 'figure'),\n",
    "    [Input('demo-dropdown-2', 'value')]\n",
    ")\n",
    "def update_output(value):\n",
    "    return value,w2v.plot_pca_similar(value) #, f'You have selected {value}'\n",
    "\n",
    "if __name__ == '__main__':\n",
    "    app.run_server(debug=False)"
   ]
  },
  {
   "cell_type": "markdown",
   "metadata": {},
   "source": [
    "<h2>Word Embedding Tensorboard</h2>\n",
    "<i>Credits: <a href='https://www.tensorflow.org/tensorboard/tensorboard_projector_plugin'>https://www.tensorflow.org/tensorboard/tensorboard_projector_plugin</a></i>"
   ]
  },
  {
   "cell_type": "code",
   "execution_count": 3,
   "metadata": {},
   "outputs": [
    {
     "name": "stderr",
     "output_type": "stream",
     "text": [
      "100%|██████████| 2078/2078 [00:00<00:00, 591219.90it/s]\n"
     ]
    }
   ],
   "source": [
    "import tensorflow as tf\n",
    "from tensorboard.plugins import projector\n",
    "import shutil # To make a copy\n",
    "\n",
    "# Launching a tensorboard session\n",
    "%load_ext tensorboard\n",
    "\n",
    "# Set up a logs directory, so Tensorboard knows where to look for files.\n",
    "log_dir='logs/quran/'\n",
    "try:      # To clear the data before\n",
    "  shutil.rmtree(log_dir)\n",
    "except:\n",
    "  pass\n",
    "if not os.path.exists(log_dir):\n",
    "    os.makedirs(log_dir)\n",
    "\n",
    "# Save Labels separately on a line-by-line manner. (METADATA)\n",
    "with open('metadata.tsv', \"w\", encoding='utf-8') as f:\n",
    "  for w in tqdm.tqdm(w2v.df.index):\n",
    "    f.write(f\"{w}\\n\")\n",
    "\n",
    "# Make copy inside the dir (to work with)\n",
    "src = 'metadata.tsv'\n",
    "dst = os.path.join(log_dir, 'metadata.tsv')\n",
    "shutil.copyfile(src, dst)\n",
    "\n",
    "# Weights / Vectors\n",
    "weights = tf.Variable(w2v.df.values)"
   ]
  },
  {
   "cell_type": "code",
   "execution_count": 4,
   "metadata": {},
   "outputs": [
    {
     "data": {
      "text/plain": [
       "'logs/quran/embedding.ckpt-1'"
      ]
     },
     "execution_count": 4,
     "metadata": {},
     "output_type": "execute_result"
    }
   ],
   "source": [
    "# Create a checkpoint from embedding, the filename and key are the\n",
    "# name of the tensor.\n",
    "checkpoint = tf.train.Checkpoint(embedding=weights)\n",
    "checkpoint.save(os.path.join(log_dir, \"embedding.ckpt\"))"
   ]
  },
  {
   "cell_type": "code",
   "execution_count": 5,
   "metadata": {},
   "outputs": [],
   "source": [
    "config = projector.ProjectorConfig()\n",
    "embedding = config.embeddings.add()\n",
    "embedding.tensor_name = \"embedding/.ATTRIBUTES/VARIABLE_VALUE\"\n",
    "embedding.metadata_path = 'metadata.tsv'\n",
    "projector.visualize_embeddings(log_dir, config)"
   ]
  },
  {
   "cell_type": "markdown",
   "metadata": {},
   "source": [
    "<h5>If not running, just rerun or open in by clicking \"Launch TensorBoard Session\" >> <b>browse to Projector</h5> \n"
   ]
  },
  {
   "cell_type": "code",
   "execution_count": 8,
   "metadata": {},
   "outputs": [
    {
     "data": {
      "text/plain": [
       "Reusing TensorBoard on port 5000 (pid 5388), started 0:00:45 ago. (Use '!kill 5388' to kill it.)"
      ]
     },
     "metadata": {},
     "output_type": "display_data"
    },
    {
     "data": {
      "text/html": [
       "\n",
       "      <iframe id=\"tensorboard-frame-75888f907c7665f5\" width=\"100%\" height=\"800\" frameborder=\"0\">\n",
       "      </iframe>\n",
       "      <script>\n",
       "        (function() {\n",
       "          const frame = document.getElementById(\"tensorboard-frame-75888f907c7665f5\");\n",
       "          const url = new URL(\"http://localhost\");\n",
       "          const port = 5000;\n",
       "          if (port) {\n",
       "            url.port = port;\n",
       "          }\n",
       "          frame.src = url;\n",
       "        })();\n",
       "      </script>\n",
       "    "
      ],
      "text/plain": [
       "<IPython.core.display.HTML object>"
      ]
     },
     "metadata": {},
     "output_type": "display_data"
    }
   ],
   "source": [
    "%tensorboard --logdir logs/quran --port=5000"
   ]
  },
  {
   "cell_type": "code",
   "execution_count": null,
   "metadata": {},
   "outputs": [],
   "source": [
    "# # To use on the projector app for the config file... (github)\n",
    "# w2v.df.to_csv(r'features.txt', header=None, index=None, sep='\\t', mode='a')"
   ]
  },
  {
   "cell_type": "code",
   "execution_count": null,
   "metadata": {},
   "outputs": [],
   "source": []
  },
  {
   "cell_type": "code",
   "execution_count": null,
   "metadata": {},
   "outputs": [],
   "source": []
  },
  {
   "cell_type": "code",
   "execution_count": null,
   "metadata": {},
   "outputs": [],
   "source": []
  }
 ],
 "metadata": {
  "interpreter": {
   "hash": "6a90448524f656655376e589a7c5d3deb138177bb112388cb30ddfc6b5ff35d8"
  },
  "kernelspec": {
   "display_name": "Python 3.9.10 64-bit",
   "language": "python",
   "name": "python3"
  },
  "language_info": {
   "codemirror_mode": {
    "name": "ipython",
    "version": 3
   },
   "file_extension": ".py",
   "mimetype": "text/x-python",
   "name": "python",
   "nbconvert_exporter": "python",
   "pygments_lexer": "ipython3",
   "version": "3.9.10"
  },
  "orig_nbformat": 4
 },
 "nbformat": 4,
 "nbformat_minor": 2
}
