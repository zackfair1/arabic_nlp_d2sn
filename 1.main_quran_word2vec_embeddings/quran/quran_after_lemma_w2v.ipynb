{
 "cells": [
  {
   "cell_type": "markdown",
   "metadata": {},
   "source": [
    "<h2>Main dataframe"
   ]
  },
  {
   "cell_type": "code",
   "execution_count": 1,
   "metadata": {},
   "outputs": [
    {
     "name": "stderr",
     "output_type": "stream",
     "text": [
      "100%|██████████| 6345/6345 [00:00<00:00, 19884.69it/s]\n"
     ]
    }
   ],
   "source": [
    "import pandas as pd\n",
    "import numpy as np\n",
    "import ast\n",
    "import tqdm\n",
    "tqdm.tqdm.pandas()\n",
    "quran = pd.read_csv(r\"CSVs_&_other_files\\quran_with_lemma.csv\")\n",
    "quran['lemmatized'] = quran.lemmatized.progress_map(lambda x : ast.literal_eval(x))\n",
    "quran = quran[~quran.text.str.contains('بسم الله')]"
   ]
  },
  {
   "cell_type": "code",
   "execution_count": 2,
   "metadata": {},
   "outputs": [
    {
     "data": {
      "text/html": [
       "<div>\n",
       "<style scoped>\n",
       "    .dataframe tbody tr th:only-of-type {\n",
       "        vertical-align: middle;\n",
       "    }\n",
       "\n",
       "    .dataframe tbody tr th {\n",
       "        vertical-align: top;\n",
       "    }\n",
       "\n",
       "    .dataframe thead th {\n",
       "        text-align: right;\n",
       "    }\n",
       "</style>\n",
       "<table border=\"1\" class=\"dataframe\">\n",
       "  <thead>\n",
       "    <tr style=\"text-align: right;\">\n",
       "      <th></th>\n",
       "      <th>text</th>\n",
       "      <th>sura</th>\n",
       "      <th>lemmatized</th>\n",
       "    </tr>\n",
       "  </thead>\n",
       "  <tbody>\n",
       "    <tr>\n",
       "      <th>1</th>\n",
       "      <td>الحمد لله رب العٰلمين</td>\n",
       "      <td>سورة الفاتحة</td>\n",
       "      <td>[حمد, الله, رب, علم]</td>\n",
       "    </tr>\n",
       "    <tr>\n",
       "      <th>2</th>\n",
       "      <td>الرحمٰن الرحيم</td>\n",
       "      <td>سورة الفاتحة</td>\n",
       "      <td>[رحمن, رحيم]</td>\n",
       "    </tr>\n",
       "    <tr>\n",
       "      <th>3</th>\n",
       "      <td>مٰلك يوم الدين</td>\n",
       "      <td>سورة الفاتحة</td>\n",
       "      <td>[ملك, يوم, دين]</td>\n",
       "    </tr>\n",
       "    <tr>\n",
       "      <th>4</th>\n",
       "      <td>اياك نعبد واياك نستعين</td>\n",
       "      <td>سورة الفاتحة</td>\n",
       "      <td>[اياك, عبد, اياك, استعان]</td>\n",
       "    </tr>\n",
       "    <tr>\n",
       "      <th>5</th>\n",
       "      <td>اهدنا الصرٰط المستقيم</td>\n",
       "      <td>سورة الفاتحة</td>\n",
       "      <td>[اهد, صراط, مستقيم]</td>\n",
       "    </tr>\n",
       "    <tr>\n",
       "      <th>...</th>\n",
       "      <td>...</td>\n",
       "      <td>...</td>\n",
       "      <td>...</td>\n",
       "    </tr>\n",
       "    <tr>\n",
       "      <th>6340</th>\n",
       "      <td>ملك الناس</td>\n",
       "      <td>سورة الناس</td>\n",
       "      <td>[ملك, ناس]</td>\n",
       "    </tr>\n",
       "    <tr>\n",
       "      <th>6341</th>\n",
       "      <td>الٰه الناس</td>\n",
       "      <td>سورة الناس</td>\n",
       "      <td>[اله, ناس]</td>\n",
       "    </tr>\n",
       "    <tr>\n",
       "      <th>6342</th>\n",
       "      <td>من شر الوسواس الخناس</td>\n",
       "      <td>سورة الناس</td>\n",
       "      <td>[من, شر, وسواس, خناس]</td>\n",
       "    </tr>\n",
       "    <tr>\n",
       "      <th>6343</th>\n",
       "      <td>الذي يوسوس في صدور الناس</td>\n",
       "      <td>سورة الناس</td>\n",
       "      <td>[الذي, يوسوس, في, صدور, ناس]</td>\n",
       "    </tr>\n",
       "    <tr>\n",
       "      <th>6344</th>\n",
       "      <td>من الجنة والناس</td>\n",
       "      <td>سورة الناس</td>\n",
       "      <td>[من, جنة, ناس]</td>\n",
       "    </tr>\n",
       "  </tbody>\n",
       "</table>\n",
       "<p>6230 rows × 3 columns</p>\n",
       "</div>"
      ],
      "text/plain": [
       "                          text          sura                    lemmatized\n",
       "1        الحمد لله رب العٰلمين  سورة الفاتحة          [حمد, الله, رب, علم]\n",
       "2               الرحمٰن الرحيم  سورة الفاتحة                  [رحمن, رحيم]\n",
       "3               مٰلك يوم الدين  سورة الفاتحة               [ملك, يوم, دين]\n",
       "4       اياك نعبد واياك نستعين  سورة الفاتحة     [اياك, عبد, اياك, استعان]\n",
       "5        اهدنا الصرٰط المستقيم  سورة الفاتحة           [اهد, صراط, مستقيم]\n",
       "...                        ...           ...                           ...\n",
       "6340                 ملك الناس    سورة الناس                    [ملك, ناس]\n",
       "6341                الٰه الناس    سورة الناس                    [اله, ناس]\n",
       "6342      من شر الوسواس الخناس    سورة الناس         [من, شر, وسواس, خناس]\n",
       "6343  الذي يوسوس في صدور الناس    سورة الناس  [الذي, يوسوس, في, صدور, ناس]\n",
       "6344           من الجنة والناس    سورة الناس                [من, جنة, ناس]\n",
       "\n",
       "[6230 rows x 3 columns]"
      ]
     },
     "execution_count": 2,
     "metadata": {},
     "output_type": "execute_result"
    }
   ],
   "source": [
    "quran"
   ]
  },
  {
   "cell_type": "markdown",
   "metadata": {},
   "source": [
    "<h5>Necessary libraries"
   ]
  },
  {
   "cell_type": "code",
   "execution_count": 3,
   "metadata": {},
   "outputs": [],
   "source": [
    "# For word2vec & topic modeling...\n",
    "import gensim\n",
    "# For visualization\n",
    "import plotly.express as px\n",
    "# Arabic stopwords\n",
    "import nltk\n",
    "import arabicstopwords.arabicstopwords as stp\n",
    "# More stopwords\n",
    "stopwords_2 = pd.read_csv(r\"CSVs_&_other_files\\stopwords.csv\", sep=';').rename(columns={r\"#الكلمة\":'words'})['words'].tolist()\n",
    "arb_stopwords = set(nltk.corpus.stopwords.words(\"arabic\") + list(stp.stopwords_list()) + stopwords_2 + ['ان','الا','اذ','وان','الى','او','انا','ام','الى','الي'])"
   ]
  },
  {
   "cell_type": "code",
   "execution_count": 4,
   "metadata": {},
   "outputs": [],
   "source": [
    "quran_texts = quran['lemmatized'].tolist()"
   ]
  },
  {
   "cell_type": "markdown",
   "metadata": {},
   "source": [
    "<h2>EDA - Exploratory Data Analysis"
   ]
  },
  {
   "cell_type": "markdown",
   "metadata": {},
   "source": [
    "<h4>All the quran vocabulary without stopwords"
   ]
  },
  {
   "cell_type": "code",
   "execution_count": 5,
   "metadata": {},
   "outputs": [],
   "source": [
    "all_vocab = []\n",
    "for text in quran_texts:\n",
    "    all_vocab.append([term for term in text if term not in arb_stopwords])"
   ]
  },
  {
   "cell_type": "markdown",
   "metadata": {},
   "source": [
    "<h5>The most used words in the quran"
   ]
  },
  {
   "cell_type": "code",
   "execution_count": 6,
   "metadata": {},
   "outputs": [
    {
     "data": {
      "application/vnd.plotly.v1+json": {
       "config": {
        "plotlyServerURL": "https://plot.ly"
       },
       "data": [
        {
         "alignmentgroup": "True",
         "hovertemplate": "count=%{x}<br>words=%{y}<extra></extra>",
         "legendgroup": "",
         "marker": {
          "color": "#636efa",
          "pattern": {
           "shape": ""
          }
         },
         "name": "",
         "offsetgroup": "",
         "orientation": "h",
         "showlegend": false,
         "textposition": "auto",
         "type": "bar",
         "x": [
          786,
          178,
          125,
          99,
          76,
          68,
          66,
          66,
          56,
          54
         ],
         "xaxis": "x",
         "y": [
          "قال",
          "الله",
          "ياي",
          "يوم",
          "جاء",
          "خلق",
          "الم",
          "كفر",
          "كذب",
          "ءامن"
         ],
         "yaxis": "y"
        }
       ],
       "layout": {
        "barmode": "relative",
        "height": 600,
        "legend": {
         "tracegroupgap": 0
        },
        "template": {
         "data": {
          "bar": [
           {
            "error_x": {
             "color": "#2a3f5f"
            },
            "error_y": {
             "color": "#2a3f5f"
            },
            "marker": {
             "line": {
              "color": "#E5ECF6",
              "width": 0.5
             },
             "pattern": {
              "fillmode": "overlay",
              "size": 10,
              "solidity": 0.2
             }
            },
            "type": "bar"
           }
          ],
          "barpolar": [
           {
            "marker": {
             "line": {
              "color": "#E5ECF6",
              "width": 0.5
             },
             "pattern": {
              "fillmode": "overlay",
              "size": 10,
              "solidity": 0.2
             }
            },
            "type": "barpolar"
           }
          ],
          "carpet": [
           {
            "aaxis": {
             "endlinecolor": "#2a3f5f",
             "gridcolor": "white",
             "linecolor": "white",
             "minorgridcolor": "white",
             "startlinecolor": "#2a3f5f"
            },
            "baxis": {
             "endlinecolor": "#2a3f5f",
             "gridcolor": "white",
             "linecolor": "white",
             "minorgridcolor": "white",
             "startlinecolor": "#2a3f5f"
            },
            "type": "carpet"
           }
          ],
          "choropleth": [
           {
            "colorbar": {
             "outlinewidth": 0,
             "ticks": ""
            },
            "type": "choropleth"
           }
          ],
          "contour": [
           {
            "colorbar": {
             "outlinewidth": 0,
             "ticks": ""
            },
            "colorscale": [
             [
              0,
              "#0d0887"
             ],
             [
              0.1111111111111111,
              "#46039f"
             ],
             [
              0.2222222222222222,
              "#7201a8"
             ],
             [
              0.3333333333333333,
              "#9c179e"
             ],
             [
              0.4444444444444444,
              "#bd3786"
             ],
             [
              0.5555555555555556,
              "#d8576b"
             ],
             [
              0.6666666666666666,
              "#ed7953"
             ],
             [
              0.7777777777777778,
              "#fb9f3a"
             ],
             [
              0.8888888888888888,
              "#fdca26"
             ],
             [
              1,
              "#f0f921"
             ]
            ],
            "type": "contour"
           }
          ],
          "contourcarpet": [
           {
            "colorbar": {
             "outlinewidth": 0,
             "ticks": ""
            },
            "type": "contourcarpet"
           }
          ],
          "heatmap": [
           {
            "colorbar": {
             "outlinewidth": 0,
             "ticks": ""
            },
            "colorscale": [
             [
              0,
              "#0d0887"
             ],
             [
              0.1111111111111111,
              "#46039f"
             ],
             [
              0.2222222222222222,
              "#7201a8"
             ],
             [
              0.3333333333333333,
              "#9c179e"
             ],
             [
              0.4444444444444444,
              "#bd3786"
             ],
             [
              0.5555555555555556,
              "#d8576b"
             ],
             [
              0.6666666666666666,
              "#ed7953"
             ],
             [
              0.7777777777777778,
              "#fb9f3a"
             ],
             [
              0.8888888888888888,
              "#fdca26"
             ],
             [
              1,
              "#f0f921"
             ]
            ],
            "type": "heatmap"
           }
          ],
          "heatmapgl": [
           {
            "colorbar": {
             "outlinewidth": 0,
             "ticks": ""
            },
            "colorscale": [
             [
              0,
              "#0d0887"
             ],
             [
              0.1111111111111111,
              "#46039f"
             ],
             [
              0.2222222222222222,
              "#7201a8"
             ],
             [
              0.3333333333333333,
              "#9c179e"
             ],
             [
              0.4444444444444444,
              "#bd3786"
             ],
             [
              0.5555555555555556,
              "#d8576b"
             ],
             [
              0.6666666666666666,
              "#ed7953"
             ],
             [
              0.7777777777777778,
              "#fb9f3a"
             ],
             [
              0.8888888888888888,
              "#fdca26"
             ],
             [
              1,
              "#f0f921"
             ]
            ],
            "type": "heatmapgl"
           }
          ],
          "histogram": [
           {
            "marker": {
             "pattern": {
              "fillmode": "overlay",
              "size": 10,
              "solidity": 0.2
             }
            },
            "type": "histogram"
           }
          ],
          "histogram2d": [
           {
            "colorbar": {
             "outlinewidth": 0,
             "ticks": ""
            },
            "colorscale": [
             [
              0,
              "#0d0887"
             ],
             [
              0.1111111111111111,
              "#46039f"
             ],
             [
              0.2222222222222222,
              "#7201a8"
             ],
             [
              0.3333333333333333,
              "#9c179e"
             ],
             [
              0.4444444444444444,
              "#bd3786"
             ],
             [
              0.5555555555555556,
              "#d8576b"
             ],
             [
              0.6666666666666666,
              "#ed7953"
             ],
             [
              0.7777777777777778,
              "#fb9f3a"
             ],
             [
              0.8888888888888888,
              "#fdca26"
             ],
             [
              1,
              "#f0f921"
             ]
            ],
            "type": "histogram2d"
           }
          ],
          "histogram2dcontour": [
           {
            "colorbar": {
             "outlinewidth": 0,
             "ticks": ""
            },
            "colorscale": [
             [
              0,
              "#0d0887"
             ],
             [
              0.1111111111111111,
              "#46039f"
             ],
             [
              0.2222222222222222,
              "#7201a8"
             ],
             [
              0.3333333333333333,
              "#9c179e"
             ],
             [
              0.4444444444444444,
              "#bd3786"
             ],
             [
              0.5555555555555556,
              "#d8576b"
             ],
             [
              0.6666666666666666,
              "#ed7953"
             ],
             [
              0.7777777777777778,
              "#fb9f3a"
             ],
             [
              0.8888888888888888,
              "#fdca26"
             ],
             [
              1,
              "#f0f921"
             ]
            ],
            "type": "histogram2dcontour"
           }
          ],
          "mesh3d": [
           {
            "colorbar": {
             "outlinewidth": 0,
             "ticks": ""
            },
            "type": "mesh3d"
           }
          ],
          "parcoords": [
           {
            "line": {
             "colorbar": {
              "outlinewidth": 0,
              "ticks": ""
             }
            },
            "type": "parcoords"
           }
          ],
          "pie": [
           {
            "automargin": true,
            "type": "pie"
           }
          ],
          "scatter": [
           {
            "marker": {
             "colorbar": {
              "outlinewidth": 0,
              "ticks": ""
             }
            },
            "type": "scatter"
           }
          ],
          "scatter3d": [
           {
            "line": {
             "colorbar": {
              "outlinewidth": 0,
              "ticks": ""
             }
            },
            "marker": {
             "colorbar": {
              "outlinewidth": 0,
              "ticks": ""
             }
            },
            "type": "scatter3d"
           }
          ],
          "scattercarpet": [
           {
            "marker": {
             "colorbar": {
              "outlinewidth": 0,
              "ticks": ""
             }
            },
            "type": "scattercarpet"
           }
          ],
          "scattergeo": [
           {
            "marker": {
             "colorbar": {
              "outlinewidth": 0,
              "ticks": ""
             }
            },
            "type": "scattergeo"
           }
          ],
          "scattergl": [
           {
            "marker": {
             "colorbar": {
              "outlinewidth": 0,
              "ticks": ""
             }
            },
            "type": "scattergl"
           }
          ],
          "scattermapbox": [
           {
            "marker": {
             "colorbar": {
              "outlinewidth": 0,
              "ticks": ""
             }
            },
            "type": "scattermapbox"
           }
          ],
          "scatterpolar": [
           {
            "marker": {
             "colorbar": {
              "outlinewidth": 0,
              "ticks": ""
             }
            },
            "type": "scatterpolar"
           }
          ],
          "scatterpolargl": [
           {
            "marker": {
             "colorbar": {
              "outlinewidth": 0,
              "ticks": ""
             }
            },
            "type": "scatterpolargl"
           }
          ],
          "scatterternary": [
           {
            "marker": {
             "colorbar": {
              "outlinewidth": 0,
              "ticks": ""
             }
            },
            "type": "scatterternary"
           }
          ],
          "surface": [
           {
            "colorbar": {
             "outlinewidth": 0,
             "ticks": ""
            },
            "colorscale": [
             [
              0,
              "#0d0887"
             ],
             [
              0.1111111111111111,
              "#46039f"
             ],
             [
              0.2222222222222222,
              "#7201a8"
             ],
             [
              0.3333333333333333,
              "#9c179e"
             ],
             [
              0.4444444444444444,
              "#bd3786"
             ],
             [
              0.5555555555555556,
              "#d8576b"
             ],
             [
              0.6666666666666666,
              "#ed7953"
             ],
             [
              0.7777777777777778,
              "#fb9f3a"
             ],
             [
              0.8888888888888888,
              "#fdca26"
             ],
             [
              1,
              "#f0f921"
             ]
            ],
            "type": "surface"
           }
          ],
          "table": [
           {
            "cells": {
             "fill": {
              "color": "#EBF0F8"
             },
             "line": {
              "color": "white"
             }
            },
            "header": {
             "fill": {
              "color": "#C8D4E3"
             },
             "line": {
              "color": "white"
             }
            },
            "type": "table"
           }
          ]
         },
         "layout": {
          "annotationdefaults": {
           "arrowcolor": "#2a3f5f",
           "arrowhead": 0,
           "arrowwidth": 1
          },
          "autotypenumbers": "strict",
          "coloraxis": {
           "colorbar": {
            "outlinewidth": 0,
            "ticks": ""
           }
          },
          "colorscale": {
           "diverging": [
            [
             0,
             "#8e0152"
            ],
            [
             0.1,
             "#c51b7d"
            ],
            [
             0.2,
             "#de77ae"
            ],
            [
             0.3,
             "#f1b6da"
            ],
            [
             0.4,
             "#fde0ef"
            ],
            [
             0.5,
             "#f7f7f7"
            ],
            [
             0.6,
             "#e6f5d0"
            ],
            [
             0.7,
             "#b8e186"
            ],
            [
             0.8,
             "#7fbc41"
            ],
            [
             0.9,
             "#4d9221"
            ],
            [
             1,
             "#276419"
            ]
           ],
           "sequential": [
            [
             0,
             "#0d0887"
            ],
            [
             0.1111111111111111,
             "#46039f"
            ],
            [
             0.2222222222222222,
             "#7201a8"
            ],
            [
             0.3333333333333333,
             "#9c179e"
            ],
            [
             0.4444444444444444,
             "#bd3786"
            ],
            [
             0.5555555555555556,
             "#d8576b"
            ],
            [
             0.6666666666666666,
             "#ed7953"
            ],
            [
             0.7777777777777778,
             "#fb9f3a"
            ],
            [
             0.8888888888888888,
             "#fdca26"
            ],
            [
             1,
             "#f0f921"
            ]
           ],
           "sequentialminus": [
            [
             0,
             "#0d0887"
            ],
            [
             0.1111111111111111,
             "#46039f"
            ],
            [
             0.2222222222222222,
             "#7201a8"
            ],
            [
             0.3333333333333333,
             "#9c179e"
            ],
            [
             0.4444444444444444,
             "#bd3786"
            ],
            [
             0.5555555555555556,
             "#d8576b"
            ],
            [
             0.6666666666666666,
             "#ed7953"
            ],
            [
             0.7777777777777778,
             "#fb9f3a"
            ],
            [
             0.8888888888888888,
             "#fdca26"
            ],
            [
             1,
             "#f0f921"
            ]
           ]
          },
          "colorway": [
           "#636efa",
           "#EF553B",
           "#00cc96",
           "#ab63fa",
           "#FFA15A",
           "#19d3f3",
           "#FF6692",
           "#B6E880",
           "#FF97FF",
           "#FECB52"
          ],
          "font": {
           "color": "#2a3f5f"
          },
          "geo": {
           "bgcolor": "white",
           "lakecolor": "white",
           "landcolor": "#E5ECF6",
           "showlakes": true,
           "showland": true,
           "subunitcolor": "white"
          },
          "hoverlabel": {
           "align": "left"
          },
          "hovermode": "closest",
          "mapbox": {
           "style": "light"
          },
          "paper_bgcolor": "white",
          "plot_bgcolor": "#E5ECF6",
          "polar": {
           "angularaxis": {
            "gridcolor": "white",
            "linecolor": "white",
            "ticks": ""
           },
           "bgcolor": "#E5ECF6",
           "radialaxis": {
            "gridcolor": "white",
            "linecolor": "white",
            "ticks": ""
           }
          },
          "scene": {
           "xaxis": {
            "backgroundcolor": "#E5ECF6",
            "gridcolor": "white",
            "gridwidth": 2,
            "linecolor": "white",
            "showbackground": true,
            "ticks": "",
            "zerolinecolor": "white"
           },
           "yaxis": {
            "backgroundcolor": "#E5ECF6",
            "gridcolor": "white",
            "gridwidth": 2,
            "linecolor": "white",
            "showbackground": true,
            "ticks": "",
            "zerolinecolor": "white"
           },
           "zaxis": {
            "backgroundcolor": "#E5ECF6",
            "gridcolor": "white",
            "gridwidth": 2,
            "linecolor": "white",
            "showbackground": true,
            "ticks": "",
            "zerolinecolor": "white"
           }
          },
          "shapedefaults": {
           "line": {
            "color": "#2a3f5f"
           }
          },
          "ternary": {
           "aaxis": {
            "gridcolor": "white",
            "linecolor": "white",
            "ticks": ""
           },
           "baxis": {
            "gridcolor": "white",
            "linecolor": "white",
            "ticks": ""
           },
           "bgcolor": "#E5ECF6",
           "caxis": {
            "gridcolor": "white",
            "linecolor": "white",
            "ticks": ""
           }
          },
          "title": {
           "x": 0.05
          },
          "xaxis": {
           "automargin": true,
           "gridcolor": "white",
           "linecolor": "white",
           "ticks": "",
           "title": {
            "standoff": 15
           },
           "zerolinecolor": "white",
           "zerolinewidth": 2
          },
          "yaxis": {
           "automargin": true,
           "gridcolor": "white",
           "linecolor": "white",
           "ticks": "",
           "title": {
            "standoff": 15
           },
           "zerolinecolor": "white",
           "zerolinewidth": 2
          }
         }
        },
        "title": {
         "text": "The top 10 words in terms of occurrences"
        },
        "xaxis": {
         "anchor": "y",
         "domain": [
          0,
          1
         ],
         "title": {
          "text": "count"
         }
        },
        "yaxis": {
         "anchor": "x",
         "domain": [
          0,
          1
         ],
         "title": {
          "text": "words"
         }
        }
       }
      }
     },
     "metadata": {},
     "output_type": "display_data"
    }
   ],
   "source": [
    "words_count = pd.DataFrame(all_vocab).rename(columns={0:'words'}).reset_index().groupby('words').count().sort_values('index', ascending=False).reset_index().rename(columns={'index':'count'}).head(10)\n",
    "fig = px.bar(words_count, x='count', y='words', orientation='h', title=f'The top {len(words_count)} words in terms of occurrences', height=600)\n",
    "fig.show()"
   ]
  },
  {
   "cell_type": "markdown",
   "metadata": {},
   "source": [
    "<h5>The longest Sura's (Number of words by each sura)"
   ]
  },
  {
   "cell_type": "code",
   "execution_count": 7,
   "metadata": {},
   "outputs": [
    {
     "name": "stderr",
     "output_type": "stream",
     "text": [
      "100%|██████████| 6230/6230 [00:00<00:00, 778296.12it/s]\n"
     ]
    },
    {
     "data": {
      "application/vnd.plotly.v1+json": {
       "config": {
        "plotlyServerURL": "https://plot.ly"
       },
       "data": [
        {
         "alignmentgroup": "True",
         "customdata": [
          [
           "سورة البقرة",
           286
          ],
          [
           "سورة النساء",
           176
          ],
          [
           "سورة ال عمران",
           200
          ],
          [
           "سورة الاعراف",
           206
          ],
          [
           "سورة الانعام",
           165
          ],
          [
           "سورة المائدة",
           120
          ],
          [
           "سورة التوبة",
           129
          ],
          [
           "سورة هود",
           122
          ],
          [
           "سورة النحل",
           128
          ],
          [
           "سورة يونس",
           109
          ],
          [
           "سورة يوسف",
           111
          ],
          [
           "سورة الكهف",
           110
          ],
          [
           "سورة الاسراء",
           111
          ],
          [
           "سورة القصص",
           88
          ],
          [
           "سورة طه",
           135
          ]
         ],
         "hovertemplate": "Sura: %{x}<br>Number of words: %{y}<br>N° of aya's: %{customdata[1]}",
         "legendgroup": "",
         "marker": {
          "color": "#636efa",
          "pattern": {
           "shape": ""
          }
         },
         "name": "",
         "offsetgroup": "",
         "orientation": "v",
         "showlegend": false,
         "text": [
          286,
          176,
          200,
          206,
          165,
          120,
          129,
          122,
          128,
          109,
          111,
          110,
          111,
          88,
          135
         ],
         "textposition": "auto",
         "type": "bar",
         "x": [
          "سورة البقرة",
          "سورة النساء",
          "سورة ال عمران",
          "سورة الاعراف",
          "سورة الانعام",
          "سورة المائدة",
          "سورة التوبة",
          "سورة هود",
          "سورة النحل",
          "سورة يونس",
          "سورة يوسف",
          "سورة الكهف",
          "سورة الاسراء",
          "سورة القصص",
          "سورة طه"
         ],
         "xaxis": "x",
         "y": [
          6117,
          3747,
          3481,
          3320,
          3050,
          2804,
          2498,
          1906,
          1844,
          1833,
          1777,
          1579,
          1556,
          1430,
          1335
         ],
         "yaxis": "y"
        }
       ],
       "layout": {
        "barmode": "relative",
        "legend": {
         "tracegroupgap": 0
        },
        "template": {
         "data": {
          "bar": [
           {
            "error_x": {
             "color": "#2a3f5f"
            },
            "error_y": {
             "color": "#2a3f5f"
            },
            "marker": {
             "line": {
              "color": "#E5ECF6",
              "width": 0.5
             },
             "pattern": {
              "fillmode": "overlay",
              "size": 10,
              "solidity": 0.2
             }
            },
            "type": "bar"
           }
          ],
          "barpolar": [
           {
            "marker": {
             "line": {
              "color": "#E5ECF6",
              "width": 0.5
             },
             "pattern": {
              "fillmode": "overlay",
              "size": 10,
              "solidity": 0.2
             }
            },
            "type": "barpolar"
           }
          ],
          "carpet": [
           {
            "aaxis": {
             "endlinecolor": "#2a3f5f",
             "gridcolor": "white",
             "linecolor": "white",
             "minorgridcolor": "white",
             "startlinecolor": "#2a3f5f"
            },
            "baxis": {
             "endlinecolor": "#2a3f5f",
             "gridcolor": "white",
             "linecolor": "white",
             "minorgridcolor": "white",
             "startlinecolor": "#2a3f5f"
            },
            "type": "carpet"
           }
          ],
          "choropleth": [
           {
            "colorbar": {
             "outlinewidth": 0,
             "ticks": ""
            },
            "type": "choropleth"
           }
          ],
          "contour": [
           {
            "colorbar": {
             "outlinewidth": 0,
             "ticks": ""
            },
            "colorscale": [
             [
              0,
              "#0d0887"
             ],
             [
              0.1111111111111111,
              "#46039f"
             ],
             [
              0.2222222222222222,
              "#7201a8"
             ],
             [
              0.3333333333333333,
              "#9c179e"
             ],
             [
              0.4444444444444444,
              "#bd3786"
             ],
             [
              0.5555555555555556,
              "#d8576b"
             ],
             [
              0.6666666666666666,
              "#ed7953"
             ],
             [
              0.7777777777777778,
              "#fb9f3a"
             ],
             [
              0.8888888888888888,
              "#fdca26"
             ],
             [
              1,
              "#f0f921"
             ]
            ],
            "type": "contour"
           }
          ],
          "contourcarpet": [
           {
            "colorbar": {
             "outlinewidth": 0,
             "ticks": ""
            },
            "type": "contourcarpet"
           }
          ],
          "heatmap": [
           {
            "colorbar": {
             "outlinewidth": 0,
             "ticks": ""
            },
            "colorscale": [
             [
              0,
              "#0d0887"
             ],
             [
              0.1111111111111111,
              "#46039f"
             ],
             [
              0.2222222222222222,
              "#7201a8"
             ],
             [
              0.3333333333333333,
              "#9c179e"
             ],
             [
              0.4444444444444444,
              "#bd3786"
             ],
             [
              0.5555555555555556,
              "#d8576b"
             ],
             [
              0.6666666666666666,
              "#ed7953"
             ],
             [
              0.7777777777777778,
              "#fb9f3a"
             ],
             [
              0.8888888888888888,
              "#fdca26"
             ],
             [
              1,
              "#f0f921"
             ]
            ],
            "type": "heatmap"
           }
          ],
          "heatmapgl": [
           {
            "colorbar": {
             "outlinewidth": 0,
             "ticks": ""
            },
            "colorscale": [
             [
              0,
              "#0d0887"
             ],
             [
              0.1111111111111111,
              "#46039f"
             ],
             [
              0.2222222222222222,
              "#7201a8"
             ],
             [
              0.3333333333333333,
              "#9c179e"
             ],
             [
              0.4444444444444444,
              "#bd3786"
             ],
             [
              0.5555555555555556,
              "#d8576b"
             ],
             [
              0.6666666666666666,
              "#ed7953"
             ],
             [
              0.7777777777777778,
              "#fb9f3a"
             ],
             [
              0.8888888888888888,
              "#fdca26"
             ],
             [
              1,
              "#f0f921"
             ]
            ],
            "type": "heatmapgl"
           }
          ],
          "histogram": [
           {
            "marker": {
             "pattern": {
              "fillmode": "overlay",
              "size": 10,
              "solidity": 0.2
             }
            },
            "type": "histogram"
           }
          ],
          "histogram2d": [
           {
            "colorbar": {
             "outlinewidth": 0,
             "ticks": ""
            },
            "colorscale": [
             [
              0,
              "#0d0887"
             ],
             [
              0.1111111111111111,
              "#46039f"
             ],
             [
              0.2222222222222222,
              "#7201a8"
             ],
             [
              0.3333333333333333,
              "#9c179e"
             ],
             [
              0.4444444444444444,
              "#bd3786"
             ],
             [
              0.5555555555555556,
              "#d8576b"
             ],
             [
              0.6666666666666666,
              "#ed7953"
             ],
             [
              0.7777777777777778,
              "#fb9f3a"
             ],
             [
              0.8888888888888888,
              "#fdca26"
             ],
             [
              1,
              "#f0f921"
             ]
            ],
            "type": "histogram2d"
           }
          ],
          "histogram2dcontour": [
           {
            "colorbar": {
             "outlinewidth": 0,
             "ticks": ""
            },
            "colorscale": [
             [
              0,
              "#0d0887"
             ],
             [
              0.1111111111111111,
              "#46039f"
             ],
             [
              0.2222222222222222,
              "#7201a8"
             ],
             [
              0.3333333333333333,
              "#9c179e"
             ],
             [
              0.4444444444444444,
              "#bd3786"
             ],
             [
              0.5555555555555556,
              "#d8576b"
             ],
             [
              0.6666666666666666,
              "#ed7953"
             ],
             [
              0.7777777777777778,
              "#fb9f3a"
             ],
             [
              0.8888888888888888,
              "#fdca26"
             ],
             [
              1,
              "#f0f921"
             ]
            ],
            "type": "histogram2dcontour"
           }
          ],
          "mesh3d": [
           {
            "colorbar": {
             "outlinewidth": 0,
             "ticks": ""
            },
            "type": "mesh3d"
           }
          ],
          "parcoords": [
           {
            "line": {
             "colorbar": {
              "outlinewidth": 0,
              "ticks": ""
             }
            },
            "type": "parcoords"
           }
          ],
          "pie": [
           {
            "automargin": true,
            "type": "pie"
           }
          ],
          "scatter": [
           {
            "marker": {
             "colorbar": {
              "outlinewidth": 0,
              "ticks": ""
             }
            },
            "type": "scatter"
           }
          ],
          "scatter3d": [
           {
            "line": {
             "colorbar": {
              "outlinewidth": 0,
              "ticks": ""
             }
            },
            "marker": {
             "colorbar": {
              "outlinewidth": 0,
              "ticks": ""
             }
            },
            "type": "scatter3d"
           }
          ],
          "scattercarpet": [
           {
            "marker": {
             "colorbar": {
              "outlinewidth": 0,
              "ticks": ""
             }
            },
            "type": "scattercarpet"
           }
          ],
          "scattergeo": [
           {
            "marker": {
             "colorbar": {
              "outlinewidth": 0,
              "ticks": ""
             }
            },
            "type": "scattergeo"
           }
          ],
          "scattergl": [
           {
            "marker": {
             "colorbar": {
              "outlinewidth": 0,
              "ticks": ""
             }
            },
            "type": "scattergl"
           }
          ],
          "scattermapbox": [
           {
            "marker": {
             "colorbar": {
              "outlinewidth": 0,
              "ticks": ""
             }
            },
            "type": "scattermapbox"
           }
          ],
          "scatterpolar": [
           {
            "marker": {
             "colorbar": {
              "outlinewidth": 0,
              "ticks": ""
             }
            },
            "type": "scatterpolar"
           }
          ],
          "scatterpolargl": [
           {
            "marker": {
             "colorbar": {
              "outlinewidth": 0,
              "ticks": ""
             }
            },
            "type": "scatterpolargl"
           }
          ],
          "scatterternary": [
           {
            "marker": {
             "colorbar": {
              "outlinewidth": 0,
              "ticks": ""
             }
            },
            "type": "scatterternary"
           }
          ],
          "surface": [
           {
            "colorbar": {
             "outlinewidth": 0,
             "ticks": ""
            },
            "colorscale": [
             [
              0,
              "#0d0887"
             ],
             [
              0.1111111111111111,
              "#46039f"
             ],
             [
              0.2222222222222222,
              "#7201a8"
             ],
             [
              0.3333333333333333,
              "#9c179e"
             ],
             [
              0.4444444444444444,
              "#bd3786"
             ],
             [
              0.5555555555555556,
              "#d8576b"
             ],
             [
              0.6666666666666666,
              "#ed7953"
             ],
             [
              0.7777777777777778,
              "#fb9f3a"
             ],
             [
              0.8888888888888888,
              "#fdca26"
             ],
             [
              1,
              "#f0f921"
             ]
            ],
            "type": "surface"
           }
          ],
          "table": [
           {
            "cells": {
             "fill": {
              "color": "#EBF0F8"
             },
             "line": {
              "color": "white"
             }
            },
            "header": {
             "fill": {
              "color": "#C8D4E3"
             },
             "line": {
              "color": "white"
             }
            },
            "type": "table"
           }
          ]
         },
         "layout": {
          "annotationdefaults": {
           "arrowcolor": "#2a3f5f",
           "arrowhead": 0,
           "arrowwidth": 1
          },
          "autotypenumbers": "strict",
          "coloraxis": {
           "colorbar": {
            "outlinewidth": 0,
            "ticks": ""
           }
          },
          "colorscale": {
           "diverging": [
            [
             0,
             "#8e0152"
            ],
            [
             0.1,
             "#c51b7d"
            ],
            [
             0.2,
             "#de77ae"
            ],
            [
             0.3,
             "#f1b6da"
            ],
            [
             0.4,
             "#fde0ef"
            ],
            [
             0.5,
             "#f7f7f7"
            ],
            [
             0.6,
             "#e6f5d0"
            ],
            [
             0.7,
             "#b8e186"
            ],
            [
             0.8,
             "#7fbc41"
            ],
            [
             0.9,
             "#4d9221"
            ],
            [
             1,
             "#276419"
            ]
           ],
           "sequential": [
            [
             0,
             "#0d0887"
            ],
            [
             0.1111111111111111,
             "#46039f"
            ],
            [
             0.2222222222222222,
             "#7201a8"
            ],
            [
             0.3333333333333333,
             "#9c179e"
            ],
            [
             0.4444444444444444,
             "#bd3786"
            ],
            [
             0.5555555555555556,
             "#d8576b"
            ],
            [
             0.6666666666666666,
             "#ed7953"
            ],
            [
             0.7777777777777778,
             "#fb9f3a"
            ],
            [
             0.8888888888888888,
             "#fdca26"
            ],
            [
             1,
             "#f0f921"
            ]
           ],
           "sequentialminus": [
            [
             0,
             "#0d0887"
            ],
            [
             0.1111111111111111,
             "#46039f"
            ],
            [
             0.2222222222222222,
             "#7201a8"
            ],
            [
             0.3333333333333333,
             "#9c179e"
            ],
            [
             0.4444444444444444,
             "#bd3786"
            ],
            [
             0.5555555555555556,
             "#d8576b"
            ],
            [
             0.6666666666666666,
             "#ed7953"
            ],
            [
             0.7777777777777778,
             "#fb9f3a"
            ],
            [
             0.8888888888888888,
             "#fdca26"
            ],
            [
             1,
             "#f0f921"
            ]
           ]
          },
          "colorway": [
           "#636efa",
           "#EF553B",
           "#00cc96",
           "#ab63fa",
           "#FFA15A",
           "#19d3f3",
           "#FF6692",
           "#B6E880",
           "#FF97FF",
           "#FECB52"
          ],
          "font": {
           "color": "#2a3f5f"
          },
          "geo": {
           "bgcolor": "white",
           "lakecolor": "white",
           "landcolor": "#E5ECF6",
           "showlakes": true,
           "showland": true,
           "subunitcolor": "white"
          },
          "hoverlabel": {
           "align": "left"
          },
          "hovermode": "closest",
          "mapbox": {
           "style": "light"
          },
          "paper_bgcolor": "white",
          "plot_bgcolor": "#E5ECF6",
          "polar": {
           "angularaxis": {
            "gridcolor": "white",
            "linecolor": "white",
            "ticks": ""
           },
           "bgcolor": "#E5ECF6",
           "radialaxis": {
            "gridcolor": "white",
            "linecolor": "white",
            "ticks": ""
           }
          },
          "scene": {
           "xaxis": {
            "backgroundcolor": "#E5ECF6",
            "gridcolor": "white",
            "gridwidth": 2,
            "linecolor": "white",
            "showbackground": true,
            "ticks": "",
            "zerolinecolor": "white"
           },
           "yaxis": {
            "backgroundcolor": "#E5ECF6",
            "gridcolor": "white",
            "gridwidth": 2,
            "linecolor": "white",
            "showbackground": true,
            "ticks": "",
            "zerolinecolor": "white"
           },
           "zaxis": {
            "backgroundcolor": "#E5ECF6",
            "gridcolor": "white",
            "gridwidth": 2,
            "linecolor": "white",
            "showbackground": true,
            "ticks": "",
            "zerolinecolor": "white"
           }
          },
          "shapedefaults": {
           "line": {
            "color": "#2a3f5f"
           }
          },
          "ternary": {
           "aaxis": {
            "gridcolor": "white",
            "linecolor": "white",
            "ticks": ""
           },
           "baxis": {
            "gridcolor": "white",
            "linecolor": "white",
            "ticks": ""
           },
           "bgcolor": "#E5ECF6",
           "caxis": {
            "gridcolor": "white",
            "linecolor": "white",
            "ticks": ""
           }
          },
          "title": {
           "x": 0.05
          },
          "xaxis": {
           "automargin": true,
           "gridcolor": "white",
           "linecolor": "white",
           "ticks": "",
           "title": {
            "standoff": 15
           },
           "zerolinecolor": "white",
           "zerolinewidth": 2
          },
          "yaxis": {
           "automargin": true,
           "gridcolor": "white",
           "linecolor": "white",
           "ticks": "",
           "title": {
            "standoff": 15
           },
           "zerolinecolor": "white",
           "zerolinewidth": 2
          }
         }
        },
        "title": {
         "text": "The top 15 by sura"
        },
        "xaxis": {
         "anchor": "y",
         "domain": [
          0,
          1
         ],
         "title": {
          "text": "sura"
         }
        },
        "yaxis": {
         "anchor": "x",
         "domain": [
          0,
          1
         ],
         "title": {
          "text": "word_count"
         }
        }
       }
      }
     },
     "metadata": {},
     "output_type": "display_data"
    }
   ],
   "source": [
    "quran['separated_text'] = quran['text'].str.split(' ')\n",
    "quran['word_count'] = quran.separated_text.progress_map(lambda x : len(x))\n",
    "sura_word_count = quran.groupby('sura').agg({'text':'count','word_count':'sum'}).sort_values('word_count', ascending=False).reset_index().head(15)\n",
    "fig = px.bar(sura_word_count, x='sura',y='word_count', text='text', title=f'The top {len(sura_word_count)} by sura')\n",
    "fig.update_traces(customdata  = np.stack((sura_word_count['sura'],sura_word_count[\"text\"]), axis=1), hovertemplate='Sura: %{x}<br>Number of words: %{y}<br>N° of aya\\'s: %{customdata[1]}')\n",
    "fig.show()"
   ]
  },
  {
   "cell_type": "code",
   "execution_count": null,
   "metadata": {},
   "outputs": [],
   "source": []
  },
  {
   "cell_type": "markdown",
   "metadata": {},
   "source": [
    "<h2>Word Embedding - Word2vec Gensim"
   ]
  },
  {
   "cell_type": "code",
   "execution_count": 8,
   "metadata": {},
   "outputs": [
    {
     "data": {
      "text/plain": [
       "[['حمد', 'الله'],\n",
       " ['رحمن', 'رحيم'],\n",
       " ['ملك', 'يوم', 'دين'],\n",
       " ['اياك', 'عبد', 'اياك', 'استعان'],\n",
       " ['اهد', 'صراط', 'مستقيم'],\n",
       " ['صراط', 'انعم', 'مغضوب', 'ضال'],\n",
       " ['الم'],\n",
       " ['كتاب', 'ريب', 'هدى', 'متقي'],\n",
       " ['آمن', 'غيب', 'أقام', 'صلو', 'رزقن', 'أنفق'],\n",
       " ['آمن', 'انزل', 'يك', 'انزل', 'اخر', 'يوقن']]"
      ]
     },
     "execution_count": 8,
     "metadata": {},
     "output_type": "execute_result"
    }
   ],
   "source": [
    "# Prepare the texts from the dataframe (lemmatized column)\n",
    "all_vocab[:10]"
   ]
  },
  {
   "cell_type": "code",
   "execution_count": 59,
   "metadata": {},
   "outputs": [],
   "source": [
    "# Word2vec model\n",
    "from gensim.models import Word2Vec\n",
    "old_model = Word2Vec(\n",
    "    window=6,\n",
    "    min_count=2,\n",
    "    workers=8,\n",
    "    sg=1\n",
    ")"
   ]
  },
  {
   "cell_type": "code",
   "execution_count": 60,
   "metadata": {},
   "outputs": [
    {
     "data": {
      "text/plain": [
       "(315580, 405972)"
      ]
     },
     "execution_count": 60,
     "metadata": {},
     "output_type": "execute_result"
    }
   ],
   "source": [
    "# Build & train the model\n",
    "old_model.build_vocab(all_vocab)\n",
    "old_model.train(all_vocab, total_examples=old_model.corpus_count, epochs=9)"
   ]
  },
  {
   "cell_type": "code",
   "execution_count": 61,
   "metadata": {},
   "outputs": [
    {
     "data": {
      "text/plain": [
       "3007"
      ]
     },
     "execution_count": 61,
     "metadata": {},
     "output_type": "execute_result"
    }
   ],
   "source": [
    "len(old_model.wv.index_to_key)"
   ]
  },
  {
   "cell_type": "code",
   "execution_count": 63,
   "metadata": {},
   "outputs": [
    {
     "data": {
      "text/plain": [
       "([('قوي', 0.8867161273956299),\n",
       "  ('مولى', 0.8820168972015381),\n",
       "  ('وسع', 0.8815350532531738),\n",
       "  ('كفى', 0.8704085946083069),\n",
       "  ('زاد', 0.8695888519287109),\n",
       "  ('آتى', 0.8677806854248047),\n",
       "  ('حميد', 0.864806056022644),\n",
       "  ('انتقام', 0.8608192801475525),\n",
       "  ('سريع', 0.8594005107879639),\n",
       "  ('درج', 0.8588250279426575)],\n",
       " [('أنذر', 0.947134792804718),\n",
       "  ('فرق', 0.9454087018966675),\n",
       "  ('ملة', 0.9437821507453918),\n",
       "  ('اوتي', 0.942821204662323),\n",
       "  ('يهودي', 0.9421708583831787),\n",
       "  ('لسان', 0.9418265223503113),\n",
       "  ('وحى', 0.9417304396629333),\n",
       "  ('نبي', 0.9407532215118408),\n",
       "  ('طائفة', 0.9397169351577759),\n",
       "  ('ياهل', 0.9395691156387329)],\n",
       " [('مريم', 0.977805495262146),\n",
       "  ('هرو', 0.9685515761375427),\n",
       "  ('ءاتي', 0.9656402468681335),\n",
       "  ('اوتي', 0.9653311371803284),\n",
       "  ('بني', 0.9571349024772644),\n",
       "  ('يعقوب', 0.9550411701202393),\n",
       "  ('ابرهيم', 0.9540287852287292),\n",
       "  ('اذكر', 0.9530991315841675),\n",
       "  ('اسباط', 0.952572226524353),\n",
       "  ('اسحق', 0.948630690574646)])"
      ]
     },
     "execution_count": 63,
     "metadata": {},
     "output_type": "execute_result"
    }
   ],
   "source": [
    "old_model.wv.most_similar('الله'), old_model.wv.most_similar('محمد'), old_model.wv.most_similar('عيسى')"
   ]
  },
  {
   "cell_type": "code",
   "execution_count": 260,
   "metadata": {},
   "outputs": [],
   "source": [
    "# # Save the model\n",
    "# old_model.save('quran_w2v.model')"
   ]
  },
  {
   "cell_type": "markdown",
   "metadata": {},
   "source": [
    "<h4>Use the saved model"
   ]
  },
  {
   "cell_type": "code",
   "execution_count": 584,
   "metadata": {},
   "outputs": [
    {
     "data": {
      "text/plain": [
       "[('توبة', 0.9959176778793335),\n",
       " ('تقوى', 0.9958256483078003),\n",
       " ('فقير', 0.9956135153770447),\n",
       " ('ركع', 0.9953169822692871),\n",
       " ('اهتد', 0.9952019453048706),\n",
       " ('المن', 0.9950589537620544),\n",
       " ('قل', 0.9949949383735657),\n",
       " ('سل', 0.9949104189872742),\n",
       " ('بلد', 0.9948599338531494),\n",
       " ('خشي', 0.9947698712348938)]"
      ]
     },
     "execution_count": 584,
     "metadata": {},
     "output_type": "execute_result"
    }
   ],
   "source": [
    "# Load the model\n",
    "from gensim.models import Word2Vec\n",
    "import pandas as pd\n",
    "model = Word2Vec.load(\"quran_w2v.model\")\n",
    "\n",
    "# Most similar words to...\n",
    "model.wv.most_similar('محمد')"
   ]
  },
  {
   "cell_type": "code",
   "execution_count": 585,
   "metadata": {},
   "outputs": [
    {
     "data": {
      "text/html": [
       "<div>\n",
       "<style scoped>\n",
       "    .dataframe tbody tr th:only-of-type {\n",
       "        vertical-align: middle;\n",
       "    }\n",
       "\n",
       "    .dataframe tbody tr th {\n",
       "        vertical-align: top;\n",
       "    }\n",
       "\n",
       "    .dataframe thead th {\n",
       "        text-align: right;\n",
       "    }\n",
       "</style>\n",
       "<table border=\"1\" class=\"dataframe\">\n",
       "  <thead>\n",
       "    <tr style=\"text-align: right;\">\n",
       "      <th></th>\n",
       "      <th>dim1</th>\n",
       "      <th>dim2</th>\n",
       "      <th>dim3</th>\n",
       "      <th>dim4</th>\n",
       "      <th>dim5</th>\n",
       "      <th>dim6</th>\n",
       "      <th>dim7</th>\n",
       "      <th>dim8</th>\n",
       "      <th>dim9</th>\n",
       "      <th>dim10</th>\n",
       "      <th>...</th>\n",
       "      <th>dim91</th>\n",
       "      <th>dim92</th>\n",
       "      <th>dim93</th>\n",
       "      <th>dim94</th>\n",
       "      <th>dim95</th>\n",
       "      <th>dim96</th>\n",
       "      <th>dim97</th>\n",
       "      <th>dim98</th>\n",
       "      <th>dim99</th>\n",
       "      <th>dim100</th>\n",
       "    </tr>\n",
       "  </thead>\n",
       "  <tbody>\n",
       "    <tr>\n",
       "      <th>الله</th>\n",
       "      <td>-0.581672</td>\n",
       "      <td>0.506454</td>\n",
       "      <td>0.260383</td>\n",
       "      <td>0.474504</td>\n",
       "      <td>0.130020</td>\n",
       "      <td>-0.762126</td>\n",
       "      <td>0.271873</td>\n",
       "      <td>0.922216</td>\n",
       "      <td>-0.038793</td>\n",
       "      <td>-0.699522</td>\n",
       "      <td>...</td>\n",
       "      <td>0.791490</td>\n",
       "      <td>-0.287693</td>\n",
       "      <td>-0.204714</td>\n",
       "      <td>0.013217</td>\n",
       "      <td>0.134877</td>\n",
       "      <td>0.597489</td>\n",
       "      <td>0.233000</td>\n",
       "      <td>-0.471277</td>\n",
       "      <td>-0.591226</td>\n",
       "      <td>0.298798</td>\n",
       "    </tr>\n",
       "    <tr>\n",
       "      <th>قال</th>\n",
       "      <td>-0.160204</td>\n",
       "      <td>0.288215</td>\n",
       "      <td>-0.017648</td>\n",
       "      <td>0.135081</td>\n",
       "      <td>0.000573</td>\n",
       "      <td>-0.890786</td>\n",
       "      <td>-0.190906</td>\n",
       "      <td>0.800500</td>\n",
       "      <td>0.042703</td>\n",
       "      <td>-0.551774</td>\n",
       "      <td>...</td>\n",
       "      <td>0.887152</td>\n",
       "      <td>-0.189887</td>\n",
       "      <td>0.054013</td>\n",
       "      <td>-0.096380</td>\n",
       "      <td>0.601814</td>\n",
       "      <td>0.378610</td>\n",
       "      <td>0.080101</td>\n",
       "      <td>-0.459989</td>\n",
       "      <td>-0.238983</td>\n",
       "      <td>-0.069465</td>\n",
       "    </tr>\n",
       "    <tr>\n",
       "      <th>ارض</th>\n",
       "      <td>-0.543904</td>\n",
       "      <td>0.228231</td>\n",
       "      <td>0.386849</td>\n",
       "      <td>0.076920</td>\n",
       "      <td>-0.062351</td>\n",
       "      <td>-0.206321</td>\n",
       "      <td>0.329613</td>\n",
       "      <td>0.796125</td>\n",
       "      <td>-0.419521</td>\n",
       "      <td>-0.125212</td>\n",
       "      <td>...</td>\n",
       "      <td>0.784184</td>\n",
       "      <td>0.009199</td>\n",
       "      <td>0.038003</td>\n",
       "      <td>-0.210601</td>\n",
       "      <td>0.264895</td>\n",
       "      <td>0.720293</td>\n",
       "      <td>0.216214</td>\n",
       "      <td>-0.633463</td>\n",
       "      <td>-0.061126</td>\n",
       "      <td>0.180519</td>\n",
       "    </tr>\n",
       "    <tr>\n",
       "      <th>كفر</th>\n",
       "      <td>0.269946</td>\n",
       "      <td>0.066882</td>\n",
       "      <td>-0.183793</td>\n",
       "      <td>0.206383</td>\n",
       "      <td>0.016098</td>\n",
       "      <td>-0.661337</td>\n",
       "      <td>0.273203</td>\n",
       "      <td>0.663339</td>\n",
       "      <td>-0.419699</td>\n",
       "      <td>-0.340568</td>\n",
       "      <td>...</td>\n",
       "      <td>0.717427</td>\n",
       "      <td>0.167538</td>\n",
       "      <td>-0.195613</td>\n",
       "      <td>0.182291</td>\n",
       "      <td>0.405093</td>\n",
       "      <td>0.136319</td>\n",
       "      <td>-0.112406</td>\n",
       "      <td>-0.381449</td>\n",
       "      <td>-0.210813</td>\n",
       "      <td>-0.143939</td>\n",
       "    </tr>\n",
       "    <tr>\n",
       "      <th>يوم</th>\n",
       "      <td>0.103223</td>\n",
       "      <td>-0.399507</td>\n",
       "      <td>-0.175135</td>\n",
       "      <td>0.066671</td>\n",
       "      <td>-0.577980</td>\n",
       "      <td>-0.546201</td>\n",
       "      <td>0.520201</td>\n",
       "      <td>0.641276</td>\n",
       "      <td>-0.862847</td>\n",
       "      <td>-0.274719</td>\n",
       "      <td>...</td>\n",
       "      <td>0.802177</td>\n",
       "      <td>0.441532</td>\n",
       "      <td>-0.271336</td>\n",
       "      <td>0.084851</td>\n",
       "      <td>0.497773</td>\n",
       "      <td>0.136686</td>\n",
       "      <td>-0.141118</td>\n",
       "      <td>-0.270648</td>\n",
       "      <td>-0.005923</td>\n",
       "      <td>-0.197282</td>\n",
       "    </tr>\n",
       "    <tr>\n",
       "      <th>...</th>\n",
       "      <td>...</td>\n",
       "      <td>...</td>\n",
       "      <td>...</td>\n",
       "      <td>...</td>\n",
       "      <td>...</td>\n",
       "      <td>...</td>\n",
       "      <td>...</td>\n",
       "      <td>...</td>\n",
       "      <td>...</td>\n",
       "      <td>...</td>\n",
       "      <td>...</td>\n",
       "      <td>...</td>\n",
       "      <td>...</td>\n",
       "      <td>...</td>\n",
       "      <td>...</td>\n",
       "      <td>...</td>\n",
       "      <td>...</td>\n",
       "      <td>...</td>\n",
       "      <td>...</td>\n",
       "      <td>...</td>\n",
       "      <td>...</td>\n",
       "    </tr>\n",
       "    <tr>\n",
       "      <th>رئاء</th>\n",
       "      <td>-0.009282</td>\n",
       "      <td>0.054321</td>\n",
       "      <td>-0.023433</td>\n",
       "      <td>0.072457</td>\n",
       "      <td>0.045702</td>\n",
       "      <td>-0.246662</td>\n",
       "      <td>0.087323</td>\n",
       "      <td>0.259920</td>\n",
       "      <td>-0.164073</td>\n",
       "      <td>-0.135572</td>\n",
       "      <td>...</td>\n",
       "      <td>0.248764</td>\n",
       "      <td>0.038674</td>\n",
       "      <td>-0.062862</td>\n",
       "      <td>0.034049</td>\n",
       "      <td>0.189084</td>\n",
       "      <td>0.121789</td>\n",
       "      <td>0.017085</td>\n",
       "      <td>-0.175613</td>\n",
       "      <td>-0.020052</td>\n",
       "      <td>0.023801</td>\n",
       "    </tr>\n",
       "    <tr>\n",
       "      <th>تخشو</th>\n",
       "      <td>-0.059468</td>\n",
       "      <td>0.125097</td>\n",
       "      <td>-0.027185</td>\n",
       "      <td>0.149061</td>\n",
       "      <td>0.034175</td>\n",
       "      <td>-0.439266</td>\n",
       "      <td>0.124443</td>\n",
       "      <td>0.496678</td>\n",
       "      <td>-0.212350</td>\n",
       "      <td>-0.239060</td>\n",
       "      <td>...</td>\n",
       "      <td>0.488067</td>\n",
       "      <td>0.054553</td>\n",
       "      <td>-0.071305</td>\n",
       "      <td>0.061725</td>\n",
       "      <td>0.346669</td>\n",
       "      <td>0.270369</td>\n",
       "      <td>0.026670</td>\n",
       "      <td>-0.340076</td>\n",
       "      <td>-0.040113</td>\n",
       "      <td>0.041190</td>\n",
       "    </tr>\n",
       "    <tr>\n",
       "      <th>ذلول</th>\n",
       "      <td>-0.071529</td>\n",
       "      <td>0.136534</td>\n",
       "      <td>-0.012143</td>\n",
       "      <td>0.177681</td>\n",
       "      <td>0.031918</td>\n",
       "      <td>-0.462784</td>\n",
       "      <td>0.124123</td>\n",
       "      <td>0.531884</td>\n",
       "      <td>-0.226292</td>\n",
       "      <td>-0.263073</td>\n",
       "      <td>...</td>\n",
       "      <td>0.538110</td>\n",
       "      <td>0.061405</td>\n",
       "      <td>-0.086424</td>\n",
       "      <td>0.063268</td>\n",
       "      <td>0.362429</td>\n",
       "      <td>0.294729</td>\n",
       "      <td>0.025914</td>\n",
       "      <td>-0.370077</td>\n",
       "      <td>-0.039035</td>\n",
       "      <td>0.028635</td>\n",
       "    </tr>\n",
       "    <tr>\n",
       "      <th>أثار</th>\n",
       "      <td>-0.080403</td>\n",
       "      <td>0.142594</td>\n",
       "      <td>-0.010289</td>\n",
       "      <td>0.184723</td>\n",
       "      <td>0.054877</td>\n",
       "      <td>-0.548327</td>\n",
       "      <td>0.147540</td>\n",
       "      <td>0.635229</td>\n",
       "      <td>-0.260275</td>\n",
       "      <td>-0.300595</td>\n",
       "      <td>...</td>\n",
       "      <td>0.645035</td>\n",
       "      <td>0.055452</td>\n",
       "      <td>-0.089239</td>\n",
       "      <td>0.088591</td>\n",
       "      <td>0.452942</td>\n",
       "      <td>0.377966</td>\n",
       "      <td>0.045080</td>\n",
       "      <td>-0.449009</td>\n",
       "      <td>-0.041404</td>\n",
       "      <td>0.045157</td>\n",
       "    </tr>\n",
       "    <tr>\n",
       "      <th>متشبه</th>\n",
       "      <td>-0.043275</td>\n",
       "      <td>0.112873</td>\n",
       "      <td>-0.021150</td>\n",
       "      <td>0.143206</td>\n",
       "      <td>0.042199</td>\n",
       "      <td>-0.422516</td>\n",
       "      <td>0.122221</td>\n",
       "      <td>0.476161</td>\n",
       "      <td>-0.218451</td>\n",
       "      <td>-0.239928</td>\n",
       "      <td>...</td>\n",
       "      <td>0.457190</td>\n",
       "      <td>0.045947</td>\n",
       "      <td>-0.066224</td>\n",
       "      <td>0.064116</td>\n",
       "      <td>0.329203</td>\n",
       "      <td>0.263319</td>\n",
       "      <td>0.027752</td>\n",
       "      <td>-0.329997</td>\n",
       "      <td>-0.025221</td>\n",
       "      <td>0.032565</td>\n",
       "    </tr>\n",
       "  </tbody>\n",
       "</table>\n",
       "<p>2078 rows × 100 columns</p>\n",
       "</div>"
      ],
      "text/plain": [
       "           dim1      dim2      dim3      dim4      dim5      dim6      dim7  \\\n",
       "الله  -0.581672  0.506454  0.260383  0.474504  0.130020 -0.762126  0.271873   \n",
       "قال   -0.160204  0.288215 -0.017648  0.135081  0.000573 -0.890786 -0.190906   \n",
       "ارض   -0.543904  0.228231  0.386849  0.076920 -0.062351 -0.206321  0.329613   \n",
       "كفر    0.269946  0.066882 -0.183793  0.206383  0.016098 -0.661337  0.273203   \n",
       "يوم    0.103223 -0.399507 -0.175135  0.066671 -0.577980 -0.546201  0.520201   \n",
       "...         ...       ...       ...       ...       ...       ...       ...   \n",
       "رئاء  -0.009282  0.054321 -0.023433  0.072457  0.045702 -0.246662  0.087323   \n",
       "تخشو  -0.059468  0.125097 -0.027185  0.149061  0.034175 -0.439266  0.124443   \n",
       "ذلول  -0.071529  0.136534 -0.012143  0.177681  0.031918 -0.462784  0.124123   \n",
       "أثار  -0.080403  0.142594 -0.010289  0.184723  0.054877 -0.548327  0.147540   \n",
       "متشبه -0.043275  0.112873 -0.021150  0.143206  0.042199 -0.422516  0.122221   \n",
       "\n",
       "           dim8      dim9     dim10  ...     dim91     dim92     dim93  \\\n",
       "الله   0.922216 -0.038793 -0.699522  ...  0.791490 -0.287693 -0.204714   \n",
       "قال    0.800500  0.042703 -0.551774  ...  0.887152 -0.189887  0.054013   \n",
       "ارض    0.796125 -0.419521 -0.125212  ...  0.784184  0.009199  0.038003   \n",
       "كفر    0.663339 -0.419699 -0.340568  ...  0.717427  0.167538 -0.195613   \n",
       "يوم    0.641276 -0.862847 -0.274719  ...  0.802177  0.441532 -0.271336   \n",
       "...         ...       ...       ...  ...       ...       ...       ...   \n",
       "رئاء   0.259920 -0.164073 -0.135572  ...  0.248764  0.038674 -0.062862   \n",
       "تخشو   0.496678 -0.212350 -0.239060  ...  0.488067  0.054553 -0.071305   \n",
       "ذلول   0.531884 -0.226292 -0.263073  ...  0.538110  0.061405 -0.086424   \n",
       "أثار   0.635229 -0.260275 -0.300595  ...  0.645035  0.055452 -0.089239   \n",
       "متشبه  0.476161 -0.218451 -0.239928  ...  0.457190  0.045947 -0.066224   \n",
       "\n",
       "          dim94     dim95     dim96     dim97     dim98     dim99    dim100  \n",
       "الله   0.013217  0.134877  0.597489  0.233000 -0.471277 -0.591226  0.298798  \n",
       "قال   -0.096380  0.601814  0.378610  0.080101 -0.459989 -0.238983 -0.069465  \n",
       "ارض   -0.210601  0.264895  0.720293  0.216214 -0.633463 -0.061126  0.180519  \n",
       "كفر    0.182291  0.405093  0.136319 -0.112406 -0.381449 -0.210813 -0.143939  \n",
       "يوم    0.084851  0.497773  0.136686 -0.141118 -0.270648 -0.005923 -0.197282  \n",
       "...         ...       ...       ...       ...       ...       ...       ...  \n",
       "رئاء   0.034049  0.189084  0.121789  0.017085 -0.175613 -0.020052  0.023801  \n",
       "تخشو   0.061725  0.346669  0.270369  0.026670 -0.340076 -0.040113  0.041190  \n",
       "ذلول   0.063268  0.362429  0.294729  0.025914 -0.370077 -0.039035  0.028635  \n",
       "أثار   0.088591  0.452942  0.377966  0.045080 -0.449009 -0.041404  0.045157  \n",
       "متشبه  0.064116  0.329203  0.263319  0.027752 -0.329997 -0.025221  0.032565  \n",
       "\n",
       "[2078 rows x 100 columns]"
      ]
     },
     "execution_count": 585,
     "metadata": {},
     "output_type": "execute_result"
    }
   ],
   "source": [
    "# Dataframe of words & vectors\n",
    "word_vec_df = pd.DataFrame(model.wv.vectors, index=model.wv.key_to_index)\n",
    "word_vec_df.columns = [f'dim{i+1}' for i in word_vec_df.columns]\n",
    "word_vec_df"
   ]
  },
  {
   "cell_type": "markdown",
   "metadata": {},
   "source": [
    "<h3>A class that computes and plots PCA & UMAP embeddings by specific words or by all words in 3D word embedding"
   ]
  },
  {
   "cell_type": "code",
   "execution_count": 1405,
   "metadata": {},
   "outputs": [],
   "source": [
    "import pandas as pd\n",
    "from gensim.models import Word2Vec\n",
    "import plotly.express as px\n",
    "from sklearn.decomposition import PCA\n",
    "from umap.umap_ import UMAP\n",
    "import warnings\n",
    "warnings.filterwarnings('ignore')\n",
    "\n",
    "class WordVec():\n",
    "    \"\"\"This class serves for visualizing PCA & UMAP based on search text. Note that it may not work with other types of dataframes or may take quite the time to load larger datasets\"\"\"\n",
    "    \n",
    "    def __init__(self):\n",
    "        # <--------- Main model and dataframe --------->\n",
    "        self.gmodel = Word2Vec.load('quran_w2v.model')\n",
    "        self.vectors = self.gmodel.wv.vectors\n",
    "        self.words = self.gmodel.wv.index_to_key\n",
    "        self.df = pd.DataFrame(self.gmodel.wv.vectors, index=self.gmodel.wv.key_to_index)\n",
    "        self.df = self.df.reset_index().rename(columns={'index':'word'})\n",
    "        # PCA\n",
    "        pca = PCA(n_components=3)\n",
    "        df = self.df.set_index('word')\n",
    "        pca_data = pca.fit_transform(df)\n",
    "        self.pca_df = pd.DataFrame(pca_data, index=df.index, columns=['dim1','dim2','dim3'])\n",
    "        # UMAP\n",
    "        reducer = umap.UMAP(n_neighbors=15, min_dist=0.1, n_components=3, metric='cosine') # cosine gave better results than euclidean\n",
    "        df = self.df.set_index('word')\n",
    "        umap_data = reducer.fit_transform(df)\n",
    "        self.umap_df = pd.DataFrame(umap_data, index=self.df['word'], columns=['dim1','dim2','dim3']).reset_index().rename(columns={'index':'word'})\n",
    "        \n",
    "\n",
    "    def flatten(self, l): # <--- Flatten list of lists\n",
    "        return [item if type(sublist) == list else sublist for sublist in l for item in sublist]\n",
    "        \n",
    "    def find_most_similar(self, word): # <--- Most similar words\n",
    "        try:\n",
    "            list_words = []\n",
    "            if type(word) == list:\n",
    "                for w in word:\n",
    "                    list_words.append(list(np.stack(model.wv.most_similar(w), axis=1)[0]) + [w])\n",
    "                return self.flatten(list_words)\n",
    "            else:\n",
    "                word = [word]\n",
    "                return list(np.stack(model.wv.most_similar(word), axis=1)[0]) + word\n",
    "        except:\n",
    "            return\n",
    "    \n",
    "    def map_ref(self, value, dictionary): # <--- Map the dictionary for the right keys...\n",
    "        for k, v in dictionary.items():\n",
    "            if value in v:\n",
    "                return k\n",
    "    \n",
    "    def df_most_similar(self, word): # <--- Return dataframe of vectors of the most similar words\n",
    "        try:\n",
    "            df = self.df\n",
    "            if type(word) == list:\n",
    "                lookup = []\n",
    "                reference = {}\n",
    "                for w in word:\n",
    "                    for sim in find_most_similar(w):\n",
    "                        lookup.append(sim)\n",
    "                        reference[sim] = w\n",
    "                df = df[df.word.isin(lookup)]\n",
    "                reference = {v:[i for i in reference.keys() if reference[i] == v ] for k,v in reference.items()}\n",
    "                df['ref'] = df['word'].progress_map(lambda x : map_ref(x, reference))\n",
    "                return df\n",
    "            else:\n",
    "                df = df[df.word.isin(self.find_most_similar(word))]\n",
    "                df['ref'] = word\n",
    "                return df\n",
    "        except:\n",
    "            return 'Try some other words'\n",
    "            \n",
    "    def df_most_similar_(self, df, word):\n",
    "        try:\n",
    "            if type(word) == list:\n",
    "                lookup = []\n",
    "                reference = {}\n",
    "                for w in word:\n",
    "                    for sim in find_most_similar(w):\n",
    "                        lookup.append(sim)\n",
    "                        reference[sim] = w\n",
    "                df = df[df.word.isin(lookup)]\n",
    "                reference = {v:[i for i in reference.keys() if reference[i] == v ] for k,v in reference.items()}\n",
    "                df['ref'] = df['word'].progress_map(lambda x : self.map_ref(x, reference))\n",
    "                return df\n",
    "            else:\n",
    "                df = df[df.word.isin(find_most_similar(word))]\n",
    "                df['ref'] = word\n",
    "                return df\n",
    "        except Exception as e:\n",
    "            return f'Try some other words. Error: {e}'\n",
    "    \n",
    "    def plot_pca_all(self): # <--- PCA\n",
    "        fig_pca = px.scatter_3d(self.pca_df, x='dim1', y='dim2', z='dim3', text=self.pca_df.index, width=1000)\n",
    "        fig_pca.update_layout(margin=dict(l=0, r=0, b=0, t=0))\n",
    "        fig_pca.show()\n",
    "        \n",
    "    def plot_pca_similar(self, words): # <--- PCA Similar words to particular word(s) plot\n",
    "        df = self.df_most_similar_(self.pca_df.reset_index(), words)\n",
    "        fig_pca = px.scatter_3d(df, x='dim1', y='dim2', z='dim3', color='ref', text='word', width=1000)\n",
    "        fig_pca.update_layout(margin=dict(l=0, r=0, b=0, t=0))\n",
    "        # fig_pca.show()\n",
    "        return fig_pca\n",
    "        \n",
    "    def plot_umap_all(self): # <--- UMAP (all is not very informative)\n",
    "        fig_umap = px.scatter_3d(self.umap_df, x='dim1', y='dim2', z='dim3', text='word', width=1000)\n",
    "        fig_umap.update_layout(margin=dict(l=0, r=0, b=0, t=0))\n",
    "        fig_umap.show()\n",
    "    \n",
    "    def plot_umap_similar(self, words):\n",
    "        df = self.df_most_similar_(self.umap_df, words)\n",
    "        fig_umap = px.scatter_3d(df, x='dim1',y='dim2',z='dim3',text='word',color='ref', width=1000)\n",
    "        fig_umap.update_layout(margin=dict(l=0, r=0, b=0, t=0))\n",
    "        # fig_umap.show()\n",
    "        return fig_umap\n",
    "\n",
    "w2v = WordVec()"
   ]
  },
  {
   "cell_type": "code",
   "execution_count": 1369,
   "metadata": {},
   "outputs": [
    {
     "name": "stderr",
     "output_type": "stream",
     "text": [
      "100%|██████████| 20/20 [00:00<?, ?it/s]\n"
     ]
    },
    {
     "data": {
      "application/vnd.plotly.v1+json": {
       "config": {
        "plotlyServerURL": "https://plot.ly"
       },
       "data": [
        {
         "hovertemplate": "ref=الله<br>dim1=%{x}<br>dim2=%{y}<br>dim3=%{z}<br>word=%{text}<extra></extra>",
         "legendgroup": "الله",
         "marker": {
          "color": "#636efa",
          "symbol": "circle"
         },
         "mode": "markers+text",
         "name": "الله",
         "scene": "scene",
         "showlegend": true,
         "text": [
          "فان",
          "اعلم",
          "عباد",
          "غيب",
          "غفر",
          "سميع",
          "قدير",
          "استغفر",
          "كفى",
          "حليم"
         ],
         "type": "scatter3d",
         "x": [
          12.009333610534668,
          12.072565078735352,
          12.086803436279297,
          11.408408164978027,
          11.322576522827148,
          11.802852630615234,
          11.796963691711426,
          12.011311531066895,
          12.337263107299805,
          11.258989334106445
         ],
         "y": [
          11.175415992736816,
          11.161541938781738,
          11.33692455291748,
          11.59146785736084,
          11.442649841308594,
          11.598161697387695,
          11.649271011352539,
          11.210236549377441,
          11.162257194519043,
          11.305436134338379
         ],
         "z": [
          5.412642955780029,
          5.486289024353027,
          5.448806285858154,
          5.709015369415283,
          5.641896724700928,
          5.367326736450195,
          5.346194744110107,
          5.467784881591797,
          5.593835353851318,
          5.777288436889648
         ]
        },
        {
         "hovertemplate": "ref=محمد<br>dim1=%{x}<br>dim2=%{y}<br>dim3=%{z}<br>word=%{text}<extra></extra>",
         "legendgroup": "محمد",
         "marker": {
          "color": "#EF553B",
          "symbol": "circle"
         },
         "mode": "markers+text",
         "name": "محمد",
         "scene": "scene",
         "showlegend": true,
         "text": [
          "خشي",
          "قل",
          "سل",
          "تقوى",
          "بلد",
          "فقير",
          "توبة",
          "ركع",
          "المن",
          "اهتد"
         ],
         "type": "scatter3d",
         "x": [
          13.9390869140625,
          13.992532730102539,
          13.714922904968262,
          13.968226432800293,
          13.405801773071289,
          13.899672508239746,
          13.328816413879395,
          13.928156852722168,
          13.260672569274902,
          12.860690116882324
         ],
         "y": [
          9.602721214294434,
          9.149697303771973,
          9.433960914611816,
          9.935302734375,
          10.20212173461914,
          9.65849494934082,
          10.468888282775879,
          9.975786209106445,
          9.754301071166992,
          9.893248558044434
         ],
         "z": [
          8.031564712524414,
          8.069655418395996,
          9.460248947143555,
          8.439927101135254,
          8.307989120483398,
          8.025397300720215,
          9.605114936828613,
          8.57100772857666,
          9.427971839904785,
          8.9346284866333
         ]
        }
       ],
       "layout": {
        "legend": {
         "title": {
          "text": "ref"
         },
         "tracegroupgap": 0
        },
        "margin": {
         "b": 0,
         "l": 0,
         "r": 0,
         "t": 0
        },
        "scene": {
         "domain": {
          "x": [
           0,
           1
          ],
          "y": [
           0,
           1
          ]
         },
         "xaxis": {
          "title": {
           "text": "dim1"
          }
         },
         "yaxis": {
          "title": {
           "text": "dim2"
          }
         },
         "zaxis": {
          "title": {
           "text": "dim3"
          }
         }
        },
        "template": {
         "data": {
          "bar": [
           {
            "error_x": {
             "color": "#2a3f5f"
            },
            "error_y": {
             "color": "#2a3f5f"
            },
            "marker": {
             "line": {
              "color": "#E5ECF6",
              "width": 0.5
             },
             "pattern": {
              "fillmode": "overlay",
              "size": 10,
              "solidity": 0.2
             }
            },
            "type": "bar"
           }
          ],
          "barpolar": [
           {
            "marker": {
             "line": {
              "color": "#E5ECF6",
              "width": 0.5
             },
             "pattern": {
              "fillmode": "overlay",
              "size": 10,
              "solidity": 0.2
             }
            },
            "type": "barpolar"
           }
          ],
          "carpet": [
           {
            "aaxis": {
             "endlinecolor": "#2a3f5f",
             "gridcolor": "white",
             "linecolor": "white",
             "minorgridcolor": "white",
             "startlinecolor": "#2a3f5f"
            },
            "baxis": {
             "endlinecolor": "#2a3f5f",
             "gridcolor": "white",
             "linecolor": "white",
             "minorgridcolor": "white",
             "startlinecolor": "#2a3f5f"
            },
            "type": "carpet"
           }
          ],
          "choropleth": [
           {
            "colorbar": {
             "outlinewidth": 0,
             "ticks": ""
            },
            "type": "choropleth"
           }
          ],
          "contour": [
           {
            "colorbar": {
             "outlinewidth": 0,
             "ticks": ""
            },
            "colorscale": [
             [
              0,
              "#0d0887"
             ],
             [
              0.1111111111111111,
              "#46039f"
             ],
             [
              0.2222222222222222,
              "#7201a8"
             ],
             [
              0.3333333333333333,
              "#9c179e"
             ],
             [
              0.4444444444444444,
              "#bd3786"
             ],
             [
              0.5555555555555556,
              "#d8576b"
             ],
             [
              0.6666666666666666,
              "#ed7953"
             ],
             [
              0.7777777777777778,
              "#fb9f3a"
             ],
             [
              0.8888888888888888,
              "#fdca26"
             ],
             [
              1,
              "#f0f921"
             ]
            ],
            "type": "contour"
           }
          ],
          "contourcarpet": [
           {
            "colorbar": {
             "outlinewidth": 0,
             "ticks": ""
            },
            "type": "contourcarpet"
           }
          ],
          "heatmap": [
           {
            "colorbar": {
             "outlinewidth": 0,
             "ticks": ""
            },
            "colorscale": [
             [
              0,
              "#0d0887"
             ],
             [
              0.1111111111111111,
              "#46039f"
             ],
             [
              0.2222222222222222,
              "#7201a8"
             ],
             [
              0.3333333333333333,
              "#9c179e"
             ],
             [
              0.4444444444444444,
              "#bd3786"
             ],
             [
              0.5555555555555556,
              "#d8576b"
             ],
             [
              0.6666666666666666,
              "#ed7953"
             ],
             [
              0.7777777777777778,
              "#fb9f3a"
             ],
             [
              0.8888888888888888,
              "#fdca26"
             ],
             [
              1,
              "#f0f921"
             ]
            ],
            "type": "heatmap"
           }
          ],
          "heatmapgl": [
           {
            "colorbar": {
             "outlinewidth": 0,
             "ticks": ""
            },
            "colorscale": [
             [
              0,
              "#0d0887"
             ],
             [
              0.1111111111111111,
              "#46039f"
             ],
             [
              0.2222222222222222,
              "#7201a8"
             ],
             [
              0.3333333333333333,
              "#9c179e"
             ],
             [
              0.4444444444444444,
              "#bd3786"
             ],
             [
              0.5555555555555556,
              "#d8576b"
             ],
             [
              0.6666666666666666,
              "#ed7953"
             ],
             [
              0.7777777777777778,
              "#fb9f3a"
             ],
             [
              0.8888888888888888,
              "#fdca26"
             ],
             [
              1,
              "#f0f921"
             ]
            ],
            "type": "heatmapgl"
           }
          ],
          "histogram": [
           {
            "marker": {
             "pattern": {
              "fillmode": "overlay",
              "size": 10,
              "solidity": 0.2
             }
            },
            "type": "histogram"
           }
          ],
          "histogram2d": [
           {
            "colorbar": {
             "outlinewidth": 0,
             "ticks": ""
            },
            "colorscale": [
             [
              0,
              "#0d0887"
             ],
             [
              0.1111111111111111,
              "#46039f"
             ],
             [
              0.2222222222222222,
              "#7201a8"
             ],
             [
              0.3333333333333333,
              "#9c179e"
             ],
             [
              0.4444444444444444,
              "#bd3786"
             ],
             [
              0.5555555555555556,
              "#d8576b"
             ],
             [
              0.6666666666666666,
              "#ed7953"
             ],
             [
              0.7777777777777778,
              "#fb9f3a"
             ],
             [
              0.8888888888888888,
              "#fdca26"
             ],
             [
              1,
              "#f0f921"
             ]
            ],
            "type": "histogram2d"
           }
          ],
          "histogram2dcontour": [
           {
            "colorbar": {
             "outlinewidth": 0,
             "ticks": ""
            },
            "colorscale": [
             [
              0,
              "#0d0887"
             ],
             [
              0.1111111111111111,
              "#46039f"
             ],
             [
              0.2222222222222222,
              "#7201a8"
             ],
             [
              0.3333333333333333,
              "#9c179e"
             ],
             [
              0.4444444444444444,
              "#bd3786"
             ],
             [
              0.5555555555555556,
              "#d8576b"
             ],
             [
              0.6666666666666666,
              "#ed7953"
             ],
             [
              0.7777777777777778,
              "#fb9f3a"
             ],
             [
              0.8888888888888888,
              "#fdca26"
             ],
             [
              1,
              "#f0f921"
             ]
            ],
            "type": "histogram2dcontour"
           }
          ],
          "mesh3d": [
           {
            "colorbar": {
             "outlinewidth": 0,
             "ticks": ""
            },
            "type": "mesh3d"
           }
          ],
          "parcoords": [
           {
            "line": {
             "colorbar": {
              "outlinewidth": 0,
              "ticks": ""
             }
            },
            "type": "parcoords"
           }
          ],
          "pie": [
           {
            "automargin": true,
            "type": "pie"
           }
          ],
          "scatter": [
           {
            "marker": {
             "colorbar": {
              "outlinewidth": 0,
              "ticks": ""
             }
            },
            "type": "scatter"
           }
          ],
          "scatter3d": [
           {
            "line": {
             "colorbar": {
              "outlinewidth": 0,
              "ticks": ""
             }
            },
            "marker": {
             "colorbar": {
              "outlinewidth": 0,
              "ticks": ""
             }
            },
            "type": "scatter3d"
           }
          ],
          "scattercarpet": [
           {
            "marker": {
             "colorbar": {
              "outlinewidth": 0,
              "ticks": ""
             }
            },
            "type": "scattercarpet"
           }
          ],
          "scattergeo": [
           {
            "marker": {
             "colorbar": {
              "outlinewidth": 0,
              "ticks": ""
             }
            },
            "type": "scattergeo"
           }
          ],
          "scattergl": [
           {
            "marker": {
             "colorbar": {
              "outlinewidth": 0,
              "ticks": ""
             }
            },
            "type": "scattergl"
           }
          ],
          "scattermapbox": [
           {
            "marker": {
             "colorbar": {
              "outlinewidth": 0,
              "ticks": ""
             }
            },
            "type": "scattermapbox"
           }
          ],
          "scatterpolar": [
           {
            "marker": {
             "colorbar": {
              "outlinewidth": 0,
              "ticks": ""
             }
            },
            "type": "scatterpolar"
           }
          ],
          "scatterpolargl": [
           {
            "marker": {
             "colorbar": {
              "outlinewidth": 0,
              "ticks": ""
             }
            },
            "type": "scatterpolargl"
           }
          ],
          "scatterternary": [
           {
            "marker": {
             "colorbar": {
              "outlinewidth": 0,
              "ticks": ""
             }
            },
            "type": "scatterternary"
           }
          ],
          "surface": [
           {
            "colorbar": {
             "outlinewidth": 0,
             "ticks": ""
            },
            "colorscale": [
             [
              0,
              "#0d0887"
             ],
             [
              0.1111111111111111,
              "#46039f"
             ],
             [
              0.2222222222222222,
              "#7201a8"
             ],
             [
              0.3333333333333333,
              "#9c179e"
             ],
             [
              0.4444444444444444,
              "#bd3786"
             ],
             [
              0.5555555555555556,
              "#d8576b"
             ],
             [
              0.6666666666666666,
              "#ed7953"
             ],
             [
              0.7777777777777778,
              "#fb9f3a"
             ],
             [
              0.8888888888888888,
              "#fdca26"
             ],
             [
              1,
              "#f0f921"
             ]
            ],
            "type": "surface"
           }
          ],
          "table": [
           {
            "cells": {
             "fill": {
              "color": "#EBF0F8"
             },
             "line": {
              "color": "white"
             }
            },
            "header": {
             "fill": {
              "color": "#C8D4E3"
             },
             "line": {
              "color": "white"
             }
            },
            "type": "table"
           }
          ]
         },
         "layout": {
          "annotationdefaults": {
           "arrowcolor": "#2a3f5f",
           "arrowhead": 0,
           "arrowwidth": 1
          },
          "autotypenumbers": "strict",
          "coloraxis": {
           "colorbar": {
            "outlinewidth": 0,
            "ticks": ""
           }
          },
          "colorscale": {
           "diverging": [
            [
             0,
             "#8e0152"
            ],
            [
             0.1,
             "#c51b7d"
            ],
            [
             0.2,
             "#de77ae"
            ],
            [
             0.3,
             "#f1b6da"
            ],
            [
             0.4,
             "#fde0ef"
            ],
            [
             0.5,
             "#f7f7f7"
            ],
            [
             0.6,
             "#e6f5d0"
            ],
            [
             0.7,
             "#b8e186"
            ],
            [
             0.8,
             "#7fbc41"
            ],
            [
             0.9,
             "#4d9221"
            ],
            [
             1,
             "#276419"
            ]
           ],
           "sequential": [
            [
             0,
             "#0d0887"
            ],
            [
             0.1111111111111111,
             "#46039f"
            ],
            [
             0.2222222222222222,
             "#7201a8"
            ],
            [
             0.3333333333333333,
             "#9c179e"
            ],
            [
             0.4444444444444444,
             "#bd3786"
            ],
            [
             0.5555555555555556,
             "#d8576b"
            ],
            [
             0.6666666666666666,
             "#ed7953"
            ],
            [
             0.7777777777777778,
             "#fb9f3a"
            ],
            [
             0.8888888888888888,
             "#fdca26"
            ],
            [
             1,
             "#f0f921"
            ]
           ],
           "sequentialminus": [
            [
             0,
             "#0d0887"
            ],
            [
             0.1111111111111111,
             "#46039f"
            ],
            [
             0.2222222222222222,
             "#7201a8"
            ],
            [
             0.3333333333333333,
             "#9c179e"
            ],
            [
             0.4444444444444444,
             "#bd3786"
            ],
            [
             0.5555555555555556,
             "#d8576b"
            ],
            [
             0.6666666666666666,
             "#ed7953"
            ],
            [
             0.7777777777777778,
             "#fb9f3a"
            ],
            [
             0.8888888888888888,
             "#fdca26"
            ],
            [
             1,
             "#f0f921"
            ]
           ]
          },
          "colorway": [
           "#636efa",
           "#EF553B",
           "#00cc96",
           "#ab63fa",
           "#FFA15A",
           "#19d3f3",
           "#FF6692",
           "#B6E880",
           "#FF97FF",
           "#FECB52"
          ],
          "font": {
           "color": "#2a3f5f"
          },
          "geo": {
           "bgcolor": "white",
           "lakecolor": "white",
           "landcolor": "#E5ECF6",
           "showlakes": true,
           "showland": true,
           "subunitcolor": "white"
          },
          "hoverlabel": {
           "align": "left"
          },
          "hovermode": "closest",
          "mapbox": {
           "style": "light"
          },
          "paper_bgcolor": "white",
          "plot_bgcolor": "#E5ECF6",
          "polar": {
           "angularaxis": {
            "gridcolor": "white",
            "linecolor": "white",
            "ticks": ""
           },
           "bgcolor": "#E5ECF6",
           "radialaxis": {
            "gridcolor": "white",
            "linecolor": "white",
            "ticks": ""
           }
          },
          "scene": {
           "xaxis": {
            "backgroundcolor": "#E5ECF6",
            "gridcolor": "white",
            "gridwidth": 2,
            "linecolor": "white",
            "showbackground": true,
            "ticks": "",
            "zerolinecolor": "white"
           },
           "yaxis": {
            "backgroundcolor": "#E5ECF6",
            "gridcolor": "white",
            "gridwidth": 2,
            "linecolor": "white",
            "showbackground": true,
            "ticks": "",
            "zerolinecolor": "white"
           },
           "zaxis": {
            "backgroundcolor": "#E5ECF6",
            "gridcolor": "white",
            "gridwidth": 2,
            "linecolor": "white",
            "showbackground": true,
            "ticks": "",
            "zerolinecolor": "white"
           }
          },
          "shapedefaults": {
           "line": {
            "color": "#2a3f5f"
           }
          },
          "ternary": {
           "aaxis": {
            "gridcolor": "white",
            "linecolor": "white",
            "ticks": ""
           },
           "baxis": {
            "gridcolor": "white",
            "linecolor": "white",
            "ticks": ""
           },
           "bgcolor": "#E5ECF6",
           "caxis": {
            "gridcolor": "white",
            "linecolor": "white",
            "ticks": ""
           }
          },
          "title": {
           "x": 0.05
          },
          "xaxis": {
           "automargin": true,
           "gridcolor": "white",
           "linecolor": "white",
           "ticks": "",
           "title": {
            "standoff": 15
           },
           "zerolinecolor": "white",
           "zerolinewidth": 2
          },
          "yaxis": {
           "automargin": true,
           "gridcolor": "white",
           "linecolor": "white",
           "ticks": "",
           "title": {
            "standoff": 15
           },
           "zerolinecolor": "white",
           "zerolinewidth": 2
          }
         }
        },
        "width": 1000
       }
      }
     },
     "metadata": {},
     "output_type": "display_data"
    }
   ],
   "source": [
    "w2v.plot_umap_similar(['الله','محمد'])"
   ]
  },
  {
   "cell_type": "code",
   "execution_count": 1244,
   "metadata": {},
   "outputs": [
    {
     "name": "stderr",
     "output_type": "stream",
     "text": [
      "100%|██████████| 40/40 [00:00<?, ?it/s]\n"
     ]
    },
    {
     "data": {
      "application/vnd.plotly.v1+json": {
       "config": {
        "plotlyServerURL": "https://plot.ly"
       },
       "data": [
        {
         "hovertemplate": "ref=الله<br>0=%{x}<br>1=%{y}<br>2=%{z}<br>word=%{text}<extra></extra>",
         "legendgroup": "الله",
         "marker": {
          "color": "#636efa",
          "symbol": "circle"
         },
         "mode": "markers+text",
         "name": "الله",
         "scene": "scene",
         "showlegend": true,
         "text": [
          "فان",
          "اعلم",
          "عباد",
          "غيب",
          "غفر",
          "سميع",
          "قدير",
          "استغفر",
          "كفى",
          "حليم"
         ],
         "type": "scatter3d",
         "x": [
          1.1620787382125854,
          1.0862988233566284,
          1.2081995010375977,
          1.3104513883590698,
          1.002000093460083,
          0.9869030714035034,
          1.2504258155822754,
          0.913947343826294,
          0.6673721671104431,
          0.17026622593402863
         ],
         "y": [
          -0.47532814741134644,
          -0.8721662759780884,
          -0.3625572621822357,
          0.06750638037919998,
          0.35706546902656555,
          -0.30646654963493347,
          -0.5882912278175354,
          -0.34803494811058044,
          -0.48007869720458984,
          0.016602426767349243
         ],
         "z": [
          1.0540834665298462,
          1.1701195240020752,
          0.7238628268241882,
          0.989888072013855,
          1.359778642654419,
          1.3327170610427856,
          1.449201226234436,
          0.8322672247886658,
          0.519516110420227,
          0.6568787693977356
         ]
        },
        {
         "hovertemplate": "ref=مريم<br>0=%{x}<br>1=%{y}<br>2=%{z}<br>word=%{text}<extra></extra>",
         "legendgroup": "مريم",
         "marker": {
          "color": "#EF553B",
          "symbol": "circle"
         },
         "mode": "markers+text",
         "name": "مريم",
         "scene": "scene",
         "showlegend": true,
         "text": [
          "اول",
          "عيسى",
          "ابي",
          "اخا",
          "بينة",
          "سلط",
          "هرو",
          "مسيح",
          "يهودي",
          "بني"
         ],
         "type": "scatter3d",
         "x": [
          1.239343523979187,
          0.881037175655365,
          0.4182530641555786,
          0.4611031711101532,
          0.9318172931671143,
          0.16610728204250336,
          1.0158597230911255,
          -0.3503718078136444,
          0.542382001876831,
          -0.1466808021068573
         ],
         "y": [
          -0.6991963982582092,
          -0.48772844672203064,
          -0.32607805728912354,
          -0.43469664454460144,
          -0.34819504618644714,
          -0.2542375922203064,
          -0.3706258535385132,
          -0.21740402281284332,
          -0.28857704997062683,
          -0.21625834703445435
         ],
         "z": [
          -0.023210078477859497,
          -0.19466924667358398,
          -0.08595115691423416,
          -0.11767809838056564,
          0.001531513873487711,
          -0.0388697013258934,
          -0.140259250998497,
          0.07011186331510544,
          -0.024746762588620186,
          -0.06675787270069122
         ]
        },
        {
         "hovertemplate": "ref=جنة<br>0=%{x}<br>1=%{y}<br>2=%{z}<br>word=%{text}<extra></extra>",
         "legendgroup": "جنة",
         "marker": {
          "color": "#00cc96",
          "symbol": "circle"
         },
         "mode": "markers+text",
         "name": "جنة",
         "scene": "scene",
         "showlegend": true,
         "text": [
          "جهنم",
          "دخل",
          "خلد",
          "سي",
          "جزاء",
          "مغفرة",
          "فوز",
          "نعيم",
          "عدن",
          "عقبى"
         ],
         "type": "scatter3d",
         "x": [
          1.1340456008911133,
          1.1090503931045532,
          1.2785232067108154,
          0.8462233543395996,
          1.0678691864013672,
          0.6951144337654114,
          0.6112571358680725,
          -0.10767753422260284,
          0.12415700405836105,
          -0.8223065137863159
         ],
         "y": [
          1.824009656906128,
          1.8489022254943848,
          3.0896213054656982,
          1.0318992137908936,
          1.2659400701522827,
          0.9037733674049377,
          1.411782145500183,
          0.6638134121894836,
          1.09114408493042,
          0.3399145305156708
         ],
         "z": [
          -0.18084529042243958,
          -0.5928435325622559,
          -0.07367455214262009,
          -0.46364665031433105,
          -0.07694610953330994,
          -0.35143300890922546,
          -0.1264060139656067,
          -0.22522681951522827,
          -0.19731438159942627,
          -0.03833255544304848
         ]
        },
        {
         "hovertemplate": "ref=محمد<br>0=%{x}<br>1=%{y}<br>2=%{z}<br>word=%{text}<extra></extra>",
         "legendgroup": "محمد",
         "marker": {
          "color": "#ab63fa",
          "symbol": "circle"
         },
         "mode": "markers+text",
         "name": "محمد",
         "scene": "scene",
         "showlegend": true,
         "text": [
          "خشي",
          "قل",
          "سل",
          "تقوى",
          "بلد",
          "فقير",
          "توبة",
          "ركع",
          "المن",
          "اهتد"
         ],
         "type": "scatter3d",
         "x": [
          0.5120602250099182,
          0.5802860260009766,
          0.949657678604126,
          0.40480878949165344,
          0.399946928024292,
          0.21562279760837555,
          -0.034576673060655594,
          0.8253084421157837,
          0.9369156360626221,
          0.49699461460113525
         ],
         "y": [
          -0.18266335129737854,
          -0.260553240776062,
          -0.1591448336839676,
          -0.18917179107666016,
          -0.13806362450122833,
          -0.15189094841480255,
          -0.051312223076820374,
          -0.21234756708145142,
          -0.12567783892154694,
          -0.09780310094356537
         ],
         "z": [
          -0.04062701389193535,
          -0.05628456547856331,
          -0.14786452054977417,
          -0.019706007093191147,
          -0.00609181122854352,
          -0.005785936024039984,
          -0.03998454660177231,
          -0.05879441276192665,
          -0.07580282539129257,
          -0.03292955085635185
         ]
        }
       ],
       "layout": {
        "legend": {
         "title": {
          "text": "ref"
         },
         "tracegroupgap": 0
        },
        "margin": {
         "b": 0,
         "l": 0,
         "r": 0,
         "t": 0
        },
        "scene": {
         "domain": {
          "x": [
           0,
           1
          ],
          "y": [
           0,
           1
          ]
         },
         "xaxis": {
          "title": {
           "text": "0"
          }
         },
         "yaxis": {
          "title": {
           "text": "1"
          }
         },
         "zaxis": {
          "title": {
           "text": "2"
          }
         }
        },
        "template": {
         "data": {
          "bar": [
           {
            "error_x": {
             "color": "#2a3f5f"
            },
            "error_y": {
             "color": "#2a3f5f"
            },
            "marker": {
             "line": {
              "color": "#E5ECF6",
              "width": 0.5
             },
             "pattern": {
              "fillmode": "overlay",
              "size": 10,
              "solidity": 0.2
             }
            },
            "type": "bar"
           }
          ],
          "barpolar": [
           {
            "marker": {
             "line": {
              "color": "#E5ECF6",
              "width": 0.5
             },
             "pattern": {
              "fillmode": "overlay",
              "size": 10,
              "solidity": 0.2
             }
            },
            "type": "barpolar"
           }
          ],
          "carpet": [
           {
            "aaxis": {
             "endlinecolor": "#2a3f5f",
             "gridcolor": "white",
             "linecolor": "white",
             "minorgridcolor": "white",
             "startlinecolor": "#2a3f5f"
            },
            "baxis": {
             "endlinecolor": "#2a3f5f",
             "gridcolor": "white",
             "linecolor": "white",
             "minorgridcolor": "white",
             "startlinecolor": "#2a3f5f"
            },
            "type": "carpet"
           }
          ],
          "choropleth": [
           {
            "colorbar": {
             "outlinewidth": 0,
             "ticks": ""
            },
            "type": "choropleth"
           }
          ],
          "contour": [
           {
            "colorbar": {
             "outlinewidth": 0,
             "ticks": ""
            },
            "colorscale": [
             [
              0,
              "#0d0887"
             ],
             [
              0.1111111111111111,
              "#46039f"
             ],
             [
              0.2222222222222222,
              "#7201a8"
             ],
             [
              0.3333333333333333,
              "#9c179e"
             ],
             [
              0.4444444444444444,
              "#bd3786"
             ],
             [
              0.5555555555555556,
              "#d8576b"
             ],
             [
              0.6666666666666666,
              "#ed7953"
             ],
             [
              0.7777777777777778,
              "#fb9f3a"
             ],
             [
              0.8888888888888888,
              "#fdca26"
             ],
             [
              1,
              "#f0f921"
             ]
            ],
            "type": "contour"
           }
          ],
          "contourcarpet": [
           {
            "colorbar": {
             "outlinewidth": 0,
             "ticks": ""
            },
            "type": "contourcarpet"
           }
          ],
          "heatmap": [
           {
            "colorbar": {
             "outlinewidth": 0,
             "ticks": ""
            },
            "colorscale": [
             [
              0,
              "#0d0887"
             ],
             [
              0.1111111111111111,
              "#46039f"
             ],
             [
              0.2222222222222222,
              "#7201a8"
             ],
             [
              0.3333333333333333,
              "#9c179e"
             ],
             [
              0.4444444444444444,
              "#bd3786"
             ],
             [
              0.5555555555555556,
              "#d8576b"
             ],
             [
              0.6666666666666666,
              "#ed7953"
             ],
             [
              0.7777777777777778,
              "#fb9f3a"
             ],
             [
              0.8888888888888888,
              "#fdca26"
             ],
             [
              1,
              "#f0f921"
             ]
            ],
            "type": "heatmap"
           }
          ],
          "heatmapgl": [
           {
            "colorbar": {
             "outlinewidth": 0,
             "ticks": ""
            },
            "colorscale": [
             [
              0,
              "#0d0887"
             ],
             [
              0.1111111111111111,
              "#46039f"
             ],
             [
              0.2222222222222222,
              "#7201a8"
             ],
             [
              0.3333333333333333,
              "#9c179e"
             ],
             [
              0.4444444444444444,
              "#bd3786"
             ],
             [
              0.5555555555555556,
              "#d8576b"
             ],
             [
              0.6666666666666666,
              "#ed7953"
             ],
             [
              0.7777777777777778,
              "#fb9f3a"
             ],
             [
              0.8888888888888888,
              "#fdca26"
             ],
             [
              1,
              "#f0f921"
             ]
            ],
            "type": "heatmapgl"
           }
          ],
          "histogram": [
           {
            "marker": {
             "pattern": {
              "fillmode": "overlay",
              "size": 10,
              "solidity": 0.2
             }
            },
            "type": "histogram"
           }
          ],
          "histogram2d": [
           {
            "colorbar": {
             "outlinewidth": 0,
             "ticks": ""
            },
            "colorscale": [
             [
              0,
              "#0d0887"
             ],
             [
              0.1111111111111111,
              "#46039f"
             ],
             [
              0.2222222222222222,
              "#7201a8"
             ],
             [
              0.3333333333333333,
              "#9c179e"
             ],
             [
              0.4444444444444444,
              "#bd3786"
             ],
             [
              0.5555555555555556,
              "#d8576b"
             ],
             [
              0.6666666666666666,
              "#ed7953"
             ],
             [
              0.7777777777777778,
              "#fb9f3a"
             ],
             [
              0.8888888888888888,
              "#fdca26"
             ],
             [
              1,
              "#f0f921"
             ]
            ],
            "type": "histogram2d"
           }
          ],
          "histogram2dcontour": [
           {
            "colorbar": {
             "outlinewidth": 0,
             "ticks": ""
            },
            "colorscale": [
             [
              0,
              "#0d0887"
             ],
             [
              0.1111111111111111,
              "#46039f"
             ],
             [
              0.2222222222222222,
              "#7201a8"
             ],
             [
              0.3333333333333333,
              "#9c179e"
             ],
             [
              0.4444444444444444,
              "#bd3786"
             ],
             [
              0.5555555555555556,
              "#d8576b"
             ],
             [
              0.6666666666666666,
              "#ed7953"
             ],
             [
              0.7777777777777778,
              "#fb9f3a"
             ],
             [
              0.8888888888888888,
              "#fdca26"
             ],
             [
              1,
              "#f0f921"
             ]
            ],
            "type": "histogram2dcontour"
           }
          ],
          "mesh3d": [
           {
            "colorbar": {
             "outlinewidth": 0,
             "ticks": ""
            },
            "type": "mesh3d"
           }
          ],
          "parcoords": [
           {
            "line": {
             "colorbar": {
              "outlinewidth": 0,
              "ticks": ""
             }
            },
            "type": "parcoords"
           }
          ],
          "pie": [
           {
            "automargin": true,
            "type": "pie"
           }
          ],
          "scatter": [
           {
            "marker": {
             "colorbar": {
              "outlinewidth": 0,
              "ticks": ""
             }
            },
            "type": "scatter"
           }
          ],
          "scatter3d": [
           {
            "line": {
             "colorbar": {
              "outlinewidth": 0,
              "ticks": ""
             }
            },
            "marker": {
             "colorbar": {
              "outlinewidth": 0,
              "ticks": ""
             }
            },
            "type": "scatter3d"
           }
          ],
          "scattercarpet": [
           {
            "marker": {
             "colorbar": {
              "outlinewidth": 0,
              "ticks": ""
             }
            },
            "type": "scattercarpet"
           }
          ],
          "scattergeo": [
           {
            "marker": {
             "colorbar": {
              "outlinewidth": 0,
              "ticks": ""
             }
            },
            "type": "scattergeo"
           }
          ],
          "scattergl": [
           {
            "marker": {
             "colorbar": {
              "outlinewidth": 0,
              "ticks": ""
             }
            },
            "type": "scattergl"
           }
          ],
          "scattermapbox": [
           {
            "marker": {
             "colorbar": {
              "outlinewidth": 0,
              "ticks": ""
             }
            },
            "type": "scattermapbox"
           }
          ],
          "scatterpolar": [
           {
            "marker": {
             "colorbar": {
              "outlinewidth": 0,
              "ticks": ""
             }
            },
            "type": "scatterpolar"
           }
          ],
          "scatterpolargl": [
           {
            "marker": {
             "colorbar": {
              "outlinewidth": 0,
              "ticks": ""
             }
            },
            "type": "scatterpolargl"
           }
          ],
          "scatterternary": [
           {
            "marker": {
             "colorbar": {
              "outlinewidth": 0,
              "ticks": ""
             }
            },
            "type": "scatterternary"
           }
          ],
          "surface": [
           {
            "colorbar": {
             "outlinewidth": 0,
             "ticks": ""
            },
            "colorscale": [
             [
              0,
              "#0d0887"
             ],
             [
              0.1111111111111111,
              "#46039f"
             ],
             [
              0.2222222222222222,
              "#7201a8"
             ],
             [
              0.3333333333333333,
              "#9c179e"
             ],
             [
              0.4444444444444444,
              "#bd3786"
             ],
             [
              0.5555555555555556,
              "#d8576b"
             ],
             [
              0.6666666666666666,
              "#ed7953"
             ],
             [
              0.7777777777777778,
              "#fb9f3a"
             ],
             [
              0.8888888888888888,
              "#fdca26"
             ],
             [
              1,
              "#f0f921"
             ]
            ],
            "type": "surface"
           }
          ],
          "table": [
           {
            "cells": {
             "fill": {
              "color": "#EBF0F8"
             },
             "line": {
              "color": "white"
             }
            },
            "header": {
             "fill": {
              "color": "#C8D4E3"
             },
             "line": {
              "color": "white"
             }
            },
            "type": "table"
           }
          ]
         },
         "layout": {
          "annotationdefaults": {
           "arrowcolor": "#2a3f5f",
           "arrowhead": 0,
           "arrowwidth": 1
          },
          "autotypenumbers": "strict",
          "coloraxis": {
           "colorbar": {
            "outlinewidth": 0,
            "ticks": ""
           }
          },
          "colorscale": {
           "diverging": [
            [
             0,
             "#8e0152"
            ],
            [
             0.1,
             "#c51b7d"
            ],
            [
             0.2,
             "#de77ae"
            ],
            [
             0.3,
             "#f1b6da"
            ],
            [
             0.4,
             "#fde0ef"
            ],
            [
             0.5,
             "#f7f7f7"
            ],
            [
             0.6,
             "#e6f5d0"
            ],
            [
             0.7,
             "#b8e186"
            ],
            [
             0.8,
             "#7fbc41"
            ],
            [
             0.9,
             "#4d9221"
            ],
            [
             1,
             "#276419"
            ]
           ],
           "sequential": [
            [
             0,
             "#0d0887"
            ],
            [
             0.1111111111111111,
             "#46039f"
            ],
            [
             0.2222222222222222,
             "#7201a8"
            ],
            [
             0.3333333333333333,
             "#9c179e"
            ],
            [
             0.4444444444444444,
             "#bd3786"
            ],
            [
             0.5555555555555556,
             "#d8576b"
            ],
            [
             0.6666666666666666,
             "#ed7953"
            ],
            [
             0.7777777777777778,
             "#fb9f3a"
            ],
            [
             0.8888888888888888,
             "#fdca26"
            ],
            [
             1,
             "#f0f921"
            ]
           ],
           "sequentialminus": [
            [
             0,
             "#0d0887"
            ],
            [
             0.1111111111111111,
             "#46039f"
            ],
            [
             0.2222222222222222,
             "#7201a8"
            ],
            [
             0.3333333333333333,
             "#9c179e"
            ],
            [
             0.4444444444444444,
             "#bd3786"
            ],
            [
             0.5555555555555556,
             "#d8576b"
            ],
            [
             0.6666666666666666,
             "#ed7953"
            ],
            [
             0.7777777777777778,
             "#fb9f3a"
            ],
            [
             0.8888888888888888,
             "#fdca26"
            ],
            [
             1,
             "#f0f921"
            ]
           ]
          },
          "colorway": [
           "#636efa",
           "#EF553B",
           "#00cc96",
           "#ab63fa",
           "#FFA15A",
           "#19d3f3",
           "#FF6692",
           "#B6E880",
           "#FF97FF",
           "#FECB52"
          ],
          "font": {
           "color": "#2a3f5f"
          },
          "geo": {
           "bgcolor": "white",
           "lakecolor": "white",
           "landcolor": "#E5ECF6",
           "showlakes": true,
           "showland": true,
           "subunitcolor": "white"
          },
          "hoverlabel": {
           "align": "left"
          },
          "hovermode": "closest",
          "mapbox": {
           "style": "light"
          },
          "paper_bgcolor": "white",
          "plot_bgcolor": "#E5ECF6",
          "polar": {
           "angularaxis": {
            "gridcolor": "white",
            "linecolor": "white",
            "ticks": ""
           },
           "bgcolor": "#E5ECF6",
           "radialaxis": {
            "gridcolor": "white",
            "linecolor": "white",
            "ticks": ""
           }
          },
          "scene": {
           "xaxis": {
            "backgroundcolor": "#E5ECF6",
            "gridcolor": "white",
            "gridwidth": 2,
            "linecolor": "white",
            "showbackground": true,
            "ticks": "",
            "zerolinecolor": "white"
           },
           "yaxis": {
            "backgroundcolor": "#E5ECF6",
            "gridcolor": "white",
            "gridwidth": 2,
            "linecolor": "white",
            "showbackground": true,
            "ticks": "",
            "zerolinecolor": "white"
           },
           "zaxis": {
            "backgroundcolor": "#E5ECF6",
            "gridcolor": "white",
            "gridwidth": 2,
            "linecolor": "white",
            "showbackground": true,
            "ticks": "",
            "zerolinecolor": "white"
           }
          },
          "shapedefaults": {
           "line": {
            "color": "#2a3f5f"
           }
          },
          "ternary": {
           "aaxis": {
            "gridcolor": "white",
            "linecolor": "white",
            "ticks": ""
           },
           "baxis": {
            "gridcolor": "white",
            "linecolor": "white",
            "ticks": ""
           },
           "bgcolor": "#E5ECF6",
           "caxis": {
            "gridcolor": "white",
            "linecolor": "white",
            "ticks": ""
           }
          },
          "title": {
           "x": 0.05
          },
          "xaxis": {
           "automargin": true,
           "gridcolor": "white",
           "linecolor": "white",
           "ticks": "",
           "title": {
            "standoff": 15
           },
           "zerolinecolor": "white",
           "zerolinewidth": 2
          },
          "yaxis": {
           "automargin": true,
           "gridcolor": "white",
           "linecolor": "white",
           "ticks": "",
           "title": {
            "standoff": 15
           },
           "zerolinecolor": "white",
           "zerolinewidth": 2
          }
         }
        },
        "width": 1000
       }
      }
     },
     "metadata": {},
     "output_type": "display_data"
    }
   ],
   "source": [
    "w2v.plot_pca_similar(['محمد','جنة','مريم','الله'])"
   ]
  },
  {
   "cell_type": "code",
   "execution_count": null,
   "metadata": {},
   "outputs": [],
   "source": []
  },
  {
   "cell_type": "code",
   "execution_count": null,
   "metadata": {},
   "outputs": [],
   "source": []
  },
  {
   "cell_type": "markdown",
   "metadata": {},
   "source": [
    "<h3>Web App for the visualizations (data hosted on github)"
   ]
  },
  {
   "cell_type": "code",
   "execution_count": null,
   "metadata": {},
   "outputs": [],
   "source": [
    "# # <<<<< To be hosted on Github >>>>>\n",
    "# pd.read_csv((r'CSVs_&_other_files\\pca_df.csv'))\n",
    "# w2v.umap_df.to_csv(r'CSVs_&_other_files\\umap_df.csv')"
   ]
  },
  {
   "cell_type": "code",
   "execution_count": 1377,
   "metadata": {},
   "outputs": [
    {
     "data": {
      "text/plain": [
       "['اعلم',\n",
       " 'فان',\n",
       " 'استغفر',\n",
       " 'حليم',\n",
       " 'سميع',\n",
       " 'كفى',\n",
       " 'قدير',\n",
       " 'غفر',\n",
       " 'غيب',\n",
       " 'عباد',\n",
       " 'دخل',\n",
       " 'عدن',\n",
       " 'جهنم',\n",
       " 'جزاء',\n",
       " 'خلد',\n",
       " 'فوز',\n",
       " 'نعيم',\n",
       " 'سي',\n",
       " 'مغفرة',\n",
       " 'عقبى']"
      ]
     },
     "execution_count": 1377,
     "metadata": {},
     "output_type": "execute_result"
    }
   ],
   "source": [
    "# For flattening list of lists\n",
    "def flatten(t):\n",
    "    return [item if type(sublist) == list else sublist for sublist in t for item in sublist]\n",
    "\n",
    "# Return list of the most similar words\n",
    "def find_most_similar(word):\n",
    "    lists = []\n",
    "    if type(word) == list:\n",
    "        for w in word:\n",
    "            lists.append(list(np.stack(model.wv.most_similar(w), axis=1)[0]))\n",
    "        return flatten(lists)\n",
    "    else:\n",
    "        word = [word]\n",
    "        return list(np.stack(model.wv.most_similar(word), axis=1)[0])\n",
    "# Test\n",
    "find_most_similar(['الله', 'جنة'])"
   ]
  },
  {
   "cell_type": "code",
   "execution_count": 1380,
   "metadata": {},
   "outputs": [
    {
     "name": "stderr",
     "output_type": "stream",
     "text": [
      "100%|██████████| 30/30 [00:00<?, ?it/s]\n"
     ]
    },
    {
     "data": {
      "text/html": [
       "<div>\n",
       "<style scoped>\n",
       "    .dataframe tbody tr th:only-of-type {\n",
       "        vertical-align: middle;\n",
       "    }\n",
       "\n",
       "    .dataframe tbody tr th {\n",
       "        vertical-align: top;\n",
       "    }\n",
       "\n",
       "    .dataframe thead th {\n",
       "        text-align: right;\n",
       "    }\n",
       "</style>\n",
       "<table border=\"1\" class=\"dataframe\">\n",
       "  <thead>\n",
       "    <tr style=\"text-align: right;\">\n",
       "      <th></th>\n",
       "      <th>Unnamed: 0</th>\n",
       "      <th>word</th>\n",
       "      <th>dim1</th>\n",
       "      <th>dim2</th>\n",
       "      <th>dim3</th>\n",
       "      <th>ref</th>\n",
       "    </tr>\n",
       "  </thead>\n",
       "  <tbody>\n",
       "    <tr>\n",
       "      <th>82</th>\n",
       "      <td>82</td>\n",
       "      <td>جهنم</td>\n",
       "      <td>5.188981</td>\n",
       "      <td>11.675048</td>\n",
       "      <td>8.597157</td>\n",
       "      <td>جنة</td>\n",
       "    </tr>\n",
       "    <tr>\n",
       "      <th>94</th>\n",
       "      <td>94</td>\n",
       "      <td>دخل</td>\n",
       "      <td>4.788421</td>\n",
       "      <td>11.976626</td>\n",
       "      <td>8.465084</td>\n",
       "      <td>جنة</td>\n",
       "    </tr>\n",
       "    <tr>\n",
       "      <th>120</th>\n",
       "      <td>120</td>\n",
       "      <td>خلد</td>\n",
       "      <td>4.763490</td>\n",
       "      <td>11.958874</td>\n",
       "      <td>8.467862</td>\n",
       "      <td>جنة</td>\n",
       "    </tr>\n",
       "    <tr>\n",
       "      <th>168</th>\n",
       "      <td>168</td>\n",
       "      <td>مسلم</td>\n",
       "      <td>12.978327</td>\n",
       "      <td>8.965808</td>\n",
       "      <td>8.973332</td>\n",
       "      <td>عيسى</td>\n",
       "    </tr>\n",
       "    <tr>\n",
       "      <th>210</th>\n",
       "      <td>210</td>\n",
       "      <td>سي</td>\n",
       "      <td>4.907259</td>\n",
       "      <td>12.013995</td>\n",
       "      <td>8.488084</td>\n",
       "      <td>جنة</td>\n",
       "    </tr>\n",
       "    <tr>\n",
       "      <th>225</th>\n",
       "      <td>225</td>\n",
       "      <td>جزاء</td>\n",
       "      <td>5.079129</td>\n",
       "      <td>11.943936</td>\n",
       "      <td>8.515624</td>\n",
       "      <td>جنة</td>\n",
       "    </tr>\n",
       "    <tr>\n",
       "      <th>265</th>\n",
       "      <td>265</td>\n",
       "      <td>خشي</td>\n",
       "      <td>12.739668</td>\n",
       "      <td>10.241031</td>\n",
       "      <td>8.544175</td>\n",
       "      <td>محمد</td>\n",
       "    </tr>\n",
       "    <tr>\n",
       "      <th>275</th>\n",
       "      <td>275</td>\n",
       "      <td>مريم</td>\n",
       "      <td>12.977746</td>\n",
       "      <td>9.087133</td>\n",
       "      <td>8.944938</td>\n",
       "      <td>عيسى</td>\n",
       "    </tr>\n",
       "    <tr>\n",
       "      <th>287</th>\n",
       "      <td>287</td>\n",
       "      <td>مغفرة</td>\n",
       "      <td>4.997922</td>\n",
       "      <td>12.008388</td>\n",
       "      <td>8.499711</td>\n",
       "      <td>جنة</td>\n",
       "    </tr>\n",
       "    <tr>\n",
       "      <th>350</th>\n",
       "      <td>350</td>\n",
       "      <td>قل</td>\n",
       "      <td>12.908656</td>\n",
       "      <td>9.994680</td>\n",
       "      <td>8.734095</td>\n",
       "      <td>محمد</td>\n",
       "    </tr>\n",
       "    <tr>\n",
       "      <th>391</th>\n",
       "      <td>391</td>\n",
       "      <td>ابي</td>\n",
       "      <td>12.935174</td>\n",
       "      <td>9.274163</td>\n",
       "      <td>9.161478</td>\n",
       "      <td>عيسى</td>\n",
       "    </tr>\n",
       "    <tr>\n",
       "      <th>399</th>\n",
       "      <td>399</td>\n",
       "      <td>اوتي</td>\n",
       "      <td>13.105291</td>\n",
       "      <td>9.102811</td>\n",
       "      <td>9.590876</td>\n",
       "      <td>عيسى</td>\n",
       "    </tr>\n",
       "    <tr>\n",
       "      <th>431</th>\n",
       "      <td>431</td>\n",
       "      <td>فوز</td>\n",
       "      <td>4.918421</td>\n",
       "      <td>11.902653</td>\n",
       "      <td>8.491117</td>\n",
       "      <td>جنة</td>\n",
       "    </tr>\n",
       "    <tr>\n",
       "      <th>438</th>\n",
       "      <td>438</td>\n",
       "      <td>سل</td>\n",
       "      <td>12.257312</td>\n",
       "      <td>10.662818</td>\n",
       "      <td>9.701520</td>\n",
       "      <td>محمد</td>\n",
       "    </tr>\n",
       "    <tr>\n",
       "      <th>444</th>\n",
       "      <td>444</td>\n",
       "      <td>اخا</td>\n",
       "      <td>13.014503</td>\n",
       "      <td>9.071802</td>\n",
       "      <td>9.056869</td>\n",
       "      <td>عيسى</td>\n",
       "    </tr>\n",
       "    <tr>\n",
       "      <th>462</th>\n",
       "      <td>462</td>\n",
       "      <td>تقوى</td>\n",
       "      <td>12.675628</td>\n",
       "      <td>10.679206</td>\n",
       "      <td>8.644714</td>\n",
       "      <td>محمد</td>\n",
       "    </tr>\n",
       "    <tr>\n",
       "      <th>475</th>\n",
       "      <td>475</td>\n",
       "      <td>نعيم</td>\n",
       "      <td>4.912855</td>\n",
       "      <td>12.066114</td>\n",
       "      <td>8.459304</td>\n",
       "      <td>جنة</td>\n",
       "    </tr>\n",
       "    <tr>\n",
       "      <th>499</th>\n",
       "      <td>499</td>\n",
       "      <td>يعقوب</td>\n",
       "      <td>13.062694</td>\n",
       "      <td>9.506058</td>\n",
       "      <td>9.053230</td>\n",
       "      <td>عيسى</td>\n",
       "    </tr>\n",
       "    <tr>\n",
       "      <th>534</th>\n",
       "      <td>534</td>\n",
       "      <td>استمع</td>\n",
       "      <td>12.936923</td>\n",
       "      <td>9.289040</td>\n",
       "      <td>9.472719</td>\n",
       "      <td>عيسى</td>\n",
       "    </tr>\n",
       "    <tr>\n",
       "      <th>541</th>\n",
       "      <td>541</td>\n",
       "      <td>بلد</td>\n",
       "      <td>12.274107</td>\n",
       "      <td>10.865224</td>\n",
       "      <td>8.340657</td>\n",
       "      <td>محمد</td>\n",
       "    </tr>\n",
       "    <tr>\n",
       "      <th>587</th>\n",
       "      <td>587</td>\n",
       "      <td>عدن</td>\n",
       "      <td>4.830749</td>\n",
       "      <td>11.993973</td>\n",
       "      <td>8.471442</td>\n",
       "      <td>جنة</td>\n",
       "    </tr>\n",
       "    <tr>\n",
       "      <th>640</th>\n",
       "      <td>640</td>\n",
       "      <td>فقير</td>\n",
       "      <td>12.715488</td>\n",
       "      <td>10.278954</td>\n",
       "      <td>8.455910</td>\n",
       "      <td>محمد</td>\n",
       "    </tr>\n",
       "    <tr>\n",
       "      <th>648</th>\n",
       "      <td>648</td>\n",
       "      <td>هرو</td>\n",
       "      <td>12.748114</td>\n",
       "      <td>9.395552</td>\n",
       "      <td>9.190807</td>\n",
       "      <td>عيسى</td>\n",
       "    </tr>\n",
       "    <tr>\n",
       "      <th>843</th>\n",
       "      <td>843</td>\n",
       "      <td>بني</td>\n",
       "      <td>12.828551</td>\n",
       "      <td>9.307334</td>\n",
       "      <td>9.271765</td>\n",
       "      <td>عيسى</td>\n",
       "    </tr>\n",
       "    <tr>\n",
       "      <th>963</th>\n",
       "      <td>963</td>\n",
       "      <td>توبة</td>\n",
       "      <td>11.819508</td>\n",
       "      <td>11.565845</td>\n",
       "      <td>9.174177</td>\n",
       "      <td>محمد</td>\n",
       "    </tr>\n",
       "    <tr>\n",
       "      <th>1103</th>\n",
       "      <td>1103</td>\n",
       "      <td>ركع</td>\n",
       "      <td>12.654452</td>\n",
       "      <td>10.796034</td>\n",
       "      <td>8.716441</td>\n",
       "      <td>محمد</td>\n",
       "    </tr>\n",
       "    <tr>\n",
       "      <th>1221</th>\n",
       "      <td>1221</td>\n",
       "      <td>وءاباؤكم</td>\n",
       "      <td>13.099583</td>\n",
       "      <td>9.084304</td>\n",
       "      <td>9.542960</td>\n",
       "      <td>عيسى</td>\n",
       "    </tr>\n",
       "    <tr>\n",
       "      <th>1333</th>\n",
       "      <td>1333</td>\n",
       "      <td>عقبى</td>\n",
       "      <td>5.160305</td>\n",
       "      <td>11.931948</td>\n",
       "      <td>8.537851</td>\n",
       "      <td>جنة</td>\n",
       "    </tr>\n",
       "    <tr>\n",
       "      <th>1408</th>\n",
       "      <td>1408</td>\n",
       "      <td>المن</td>\n",
       "      <td>11.797750</td>\n",
       "      <td>10.894561</td>\n",
       "      <td>9.453691</td>\n",
       "      <td>محمد</td>\n",
       "    </tr>\n",
       "    <tr>\n",
       "      <th>1453</th>\n",
       "      <td>1453</td>\n",
       "      <td>اهتد</td>\n",
       "      <td>11.488244</td>\n",
       "      <td>10.728524</td>\n",
       "      <td>8.926040</td>\n",
       "      <td>محمد</td>\n",
       "    </tr>\n",
       "  </tbody>\n",
       "</table>\n",
       "</div>"
      ],
      "text/plain": [
       "      Unnamed: 0      word       dim1       dim2      dim3   ref\n",
       "82            82      جهنم   5.188981  11.675048  8.597157   جنة\n",
       "94            94       دخل   4.788421  11.976626  8.465084   جنة\n",
       "120          120       خلد   4.763490  11.958874  8.467862   جنة\n",
       "168          168      مسلم  12.978327   8.965808  8.973332  عيسى\n",
       "210          210        سي   4.907259  12.013995  8.488084   جنة\n",
       "225          225      جزاء   5.079129  11.943936  8.515624   جنة\n",
       "265          265       خشي  12.739668  10.241031  8.544175  محمد\n",
       "275          275      مريم  12.977746   9.087133  8.944938  عيسى\n",
       "287          287     مغفرة   4.997922  12.008388  8.499711   جنة\n",
       "350          350        قل  12.908656   9.994680  8.734095  محمد\n",
       "391          391       ابي  12.935174   9.274163  9.161478  عيسى\n",
       "399          399      اوتي  13.105291   9.102811  9.590876  عيسى\n",
       "431          431       فوز   4.918421  11.902653  8.491117   جنة\n",
       "438          438        سل  12.257312  10.662818  9.701520  محمد\n",
       "444          444       اخا  13.014503   9.071802  9.056869  عيسى\n",
       "462          462      تقوى  12.675628  10.679206  8.644714  محمد\n",
       "475          475      نعيم   4.912855  12.066114  8.459304   جنة\n",
       "499          499     يعقوب  13.062694   9.506058  9.053230  عيسى\n",
       "534          534     استمع  12.936923   9.289040  9.472719  عيسى\n",
       "541          541       بلد  12.274107  10.865224  8.340657  محمد\n",
       "587          587       عدن   4.830749  11.993973  8.471442   جنة\n",
       "640          640      فقير  12.715488  10.278954  8.455910  محمد\n",
       "648          648       هرو  12.748114   9.395552  9.190807  عيسى\n",
       "843          843       بني  12.828551   9.307334  9.271765  عيسى\n",
       "963          963      توبة  11.819508  11.565845  9.174177  محمد\n",
       "1103        1103       ركع  12.654452  10.796034  8.716441  محمد\n",
       "1221        1221  وءاباؤكم  13.099583   9.084304  9.542960  عيسى\n",
       "1333        1333      عقبى   5.160305  11.931948  8.537851   جنة\n",
       "1408        1408      المن  11.797750  10.894561  9.453691  محمد\n",
       "1453        1453      اهتد  11.488244  10.728524  8.926040  محمد"
      ]
     },
     "execution_count": 1380,
     "metadata": {},
     "output_type": "execute_result"
    }
   ],
   "source": [
    "# Map the right words looked for, for each word\n",
    "def map_ref(x, d):\n",
    "    for k, v in d.items():\n",
    "        if x in v:\n",
    "            return k\n",
    "\n",
    "# Return a dataframe of vectors for the target word's most similar words\n",
    "def lookup_df(df, look_for):\n",
    "    if type(look_for) == list:\n",
    "        lookup = []\n",
    "        reference = {}\n",
    "        for w in look_for:\n",
    "            for sim in find_most_similar(w):\n",
    "                lookup.append(sim)\n",
    "                reference[sim] = w\n",
    "        df = df[df.word.isin(lookup)]\n",
    "        reference = {v:[i for i in reference.keys() if reference[i] == v ] for k,v in reference.items()}\n",
    "        df['ref'] = df['word'].progress_map(lambda x : map_ref(x, reference))\n",
    "        return df\n",
    "    else:\n",
    "        df = df[df.word.isin(find_most_similar(look_for))]\n",
    "        df['ref'] = look_for\n",
    "        return df\n",
    "\n",
    "# Test\n",
    "look_for = ['محمد','جنة','عيسى']\n",
    "lookup_df(umap_df, look_for)"
   ]
  },
  {
   "cell_type": "code",
   "execution_count": 1401,
   "metadata": {},
   "outputs": [
    {
     "data": {
      "application/vnd.plotly.v1+json": {
       "config": {
        "plotlyServerURL": "https://plot.ly"
       },
       "data": [
        {
         "hovertemplate": "ref=الله<br>dim1=%{x}<br>dim2=%{y}<br>dim3=%{z}<br>word=%{text}<extra></extra>",
         "legendgroup": "الله",
         "marker": {
          "color": "#636efa",
          "symbol": "circle"
         },
         "mode": "markers+text",
         "name": "الله",
         "scene": "scene",
         "showlegend": true,
         "text": [
          "فان",
          "اعلم",
          "عباد",
          "غيب",
          "غفر",
          "سميع",
          "قدير",
          "استغفر",
          "كفى",
          "حليم"
         ],
         "type": "scatter3d",
         "x": [
          11.410795211791992,
          11.52982234954834,
          11.652664184570312,
          10.951155662536621,
          10.879817008972168,
          11.495386123657227,
          11.433837890625,
          11.467195510864258,
          11.821650505065918,
          10.785985946655273
         ],
         "y": [
          10.932723045349121,
          10.931148529052734,
          11.091326713562012,
          11.503471374511719,
          11.363485336303711,
          11.45344066619873,
          11.460827827453613,
          10.997916221618652,
          10.9315767288208,
          11.266263008117676
         ],
         "z": [
          6.391121864318848,
          6.436557292938232,
          6.4463911056518555,
          6.584898948669434,
          6.507896900177002,
          6.365861892700195,
          6.295679569244385,
          6.414097309112549,
          6.569035530090332,
          6.6168951988220215
         ]
        }
       ],
       "layout": {
        "legend": {
         "title": {
          "text": "ref"
         },
         "tracegroupgap": 0
        },
        "margin": {
         "b": 0,
         "l": 0,
         "r": 0,
         "t": 0
        },
        "scene": {
         "domain": {
          "x": [
           0,
           1
          ],
          "y": [
           0,
           1
          ]
         },
         "xaxis": {
          "title": {
           "text": "dim1"
          }
         },
         "yaxis": {
          "title": {
           "text": "dim2"
          }
         },
         "zaxis": {
          "title": {
           "text": "dim3"
          }
         }
        },
        "template": {
         "data": {
          "bar": [
           {
            "error_x": {
             "color": "#2a3f5f"
            },
            "error_y": {
             "color": "#2a3f5f"
            },
            "marker": {
             "line": {
              "color": "#E5ECF6",
              "width": 0.5
             },
             "pattern": {
              "fillmode": "overlay",
              "size": 10,
              "solidity": 0.2
             }
            },
            "type": "bar"
           }
          ],
          "barpolar": [
           {
            "marker": {
             "line": {
              "color": "#E5ECF6",
              "width": 0.5
             },
             "pattern": {
              "fillmode": "overlay",
              "size": 10,
              "solidity": 0.2
             }
            },
            "type": "barpolar"
           }
          ],
          "carpet": [
           {
            "aaxis": {
             "endlinecolor": "#2a3f5f",
             "gridcolor": "white",
             "linecolor": "white",
             "minorgridcolor": "white",
             "startlinecolor": "#2a3f5f"
            },
            "baxis": {
             "endlinecolor": "#2a3f5f",
             "gridcolor": "white",
             "linecolor": "white",
             "minorgridcolor": "white",
             "startlinecolor": "#2a3f5f"
            },
            "type": "carpet"
           }
          ],
          "choropleth": [
           {
            "colorbar": {
             "outlinewidth": 0,
             "ticks": ""
            },
            "type": "choropleth"
           }
          ],
          "contour": [
           {
            "colorbar": {
             "outlinewidth": 0,
             "ticks": ""
            },
            "colorscale": [
             [
              0,
              "#0d0887"
             ],
             [
              0.1111111111111111,
              "#46039f"
             ],
             [
              0.2222222222222222,
              "#7201a8"
             ],
             [
              0.3333333333333333,
              "#9c179e"
             ],
             [
              0.4444444444444444,
              "#bd3786"
             ],
             [
              0.5555555555555556,
              "#d8576b"
             ],
             [
              0.6666666666666666,
              "#ed7953"
             ],
             [
              0.7777777777777778,
              "#fb9f3a"
             ],
             [
              0.8888888888888888,
              "#fdca26"
             ],
             [
              1,
              "#f0f921"
             ]
            ],
            "type": "contour"
           }
          ],
          "contourcarpet": [
           {
            "colorbar": {
             "outlinewidth": 0,
             "ticks": ""
            },
            "type": "contourcarpet"
           }
          ],
          "heatmap": [
           {
            "colorbar": {
             "outlinewidth": 0,
             "ticks": ""
            },
            "colorscale": [
             [
              0,
              "#0d0887"
             ],
             [
              0.1111111111111111,
              "#46039f"
             ],
             [
              0.2222222222222222,
              "#7201a8"
             ],
             [
              0.3333333333333333,
              "#9c179e"
             ],
             [
              0.4444444444444444,
              "#bd3786"
             ],
             [
              0.5555555555555556,
              "#d8576b"
             ],
             [
              0.6666666666666666,
              "#ed7953"
             ],
             [
              0.7777777777777778,
              "#fb9f3a"
             ],
             [
              0.8888888888888888,
              "#fdca26"
             ],
             [
              1,
              "#f0f921"
             ]
            ],
            "type": "heatmap"
           }
          ],
          "heatmapgl": [
           {
            "colorbar": {
             "outlinewidth": 0,
             "ticks": ""
            },
            "colorscale": [
             [
              0,
              "#0d0887"
             ],
             [
              0.1111111111111111,
              "#46039f"
             ],
             [
              0.2222222222222222,
              "#7201a8"
             ],
             [
              0.3333333333333333,
              "#9c179e"
             ],
             [
              0.4444444444444444,
              "#bd3786"
             ],
             [
              0.5555555555555556,
              "#d8576b"
             ],
             [
              0.6666666666666666,
              "#ed7953"
             ],
             [
              0.7777777777777778,
              "#fb9f3a"
             ],
             [
              0.8888888888888888,
              "#fdca26"
             ],
             [
              1,
              "#f0f921"
             ]
            ],
            "type": "heatmapgl"
           }
          ],
          "histogram": [
           {
            "marker": {
             "pattern": {
              "fillmode": "overlay",
              "size": 10,
              "solidity": 0.2
             }
            },
            "type": "histogram"
           }
          ],
          "histogram2d": [
           {
            "colorbar": {
             "outlinewidth": 0,
             "ticks": ""
            },
            "colorscale": [
             [
              0,
              "#0d0887"
             ],
             [
              0.1111111111111111,
              "#46039f"
             ],
             [
              0.2222222222222222,
              "#7201a8"
             ],
             [
              0.3333333333333333,
              "#9c179e"
             ],
             [
              0.4444444444444444,
              "#bd3786"
             ],
             [
              0.5555555555555556,
              "#d8576b"
             ],
             [
              0.6666666666666666,
              "#ed7953"
             ],
             [
              0.7777777777777778,
              "#fb9f3a"
             ],
             [
              0.8888888888888888,
              "#fdca26"
             ],
             [
              1,
              "#f0f921"
             ]
            ],
            "type": "histogram2d"
           }
          ],
          "histogram2dcontour": [
           {
            "colorbar": {
             "outlinewidth": 0,
             "ticks": ""
            },
            "colorscale": [
             [
              0,
              "#0d0887"
             ],
             [
              0.1111111111111111,
              "#46039f"
             ],
             [
              0.2222222222222222,
              "#7201a8"
             ],
             [
              0.3333333333333333,
              "#9c179e"
             ],
             [
              0.4444444444444444,
              "#bd3786"
             ],
             [
              0.5555555555555556,
              "#d8576b"
             ],
             [
              0.6666666666666666,
              "#ed7953"
             ],
             [
              0.7777777777777778,
              "#fb9f3a"
             ],
             [
              0.8888888888888888,
              "#fdca26"
             ],
             [
              1,
              "#f0f921"
             ]
            ],
            "type": "histogram2dcontour"
           }
          ],
          "mesh3d": [
           {
            "colorbar": {
             "outlinewidth": 0,
             "ticks": ""
            },
            "type": "mesh3d"
           }
          ],
          "parcoords": [
           {
            "line": {
             "colorbar": {
              "outlinewidth": 0,
              "ticks": ""
             }
            },
            "type": "parcoords"
           }
          ],
          "pie": [
           {
            "automargin": true,
            "type": "pie"
           }
          ],
          "scatter": [
           {
            "marker": {
             "colorbar": {
              "outlinewidth": 0,
              "ticks": ""
             }
            },
            "type": "scatter"
           }
          ],
          "scatter3d": [
           {
            "line": {
             "colorbar": {
              "outlinewidth": 0,
              "ticks": ""
             }
            },
            "marker": {
             "colorbar": {
              "outlinewidth": 0,
              "ticks": ""
             }
            },
            "type": "scatter3d"
           }
          ],
          "scattercarpet": [
           {
            "marker": {
             "colorbar": {
              "outlinewidth": 0,
              "ticks": ""
             }
            },
            "type": "scattercarpet"
           }
          ],
          "scattergeo": [
           {
            "marker": {
             "colorbar": {
              "outlinewidth": 0,
              "ticks": ""
             }
            },
            "type": "scattergeo"
           }
          ],
          "scattergl": [
           {
            "marker": {
             "colorbar": {
              "outlinewidth": 0,
              "ticks": ""
             }
            },
            "type": "scattergl"
           }
          ],
          "scattermapbox": [
           {
            "marker": {
             "colorbar": {
              "outlinewidth": 0,
              "ticks": ""
             }
            },
            "type": "scattermapbox"
           }
          ],
          "scatterpolar": [
           {
            "marker": {
             "colorbar": {
              "outlinewidth": 0,
              "ticks": ""
             }
            },
            "type": "scatterpolar"
           }
          ],
          "scatterpolargl": [
           {
            "marker": {
             "colorbar": {
              "outlinewidth": 0,
              "ticks": ""
             }
            },
            "type": "scatterpolargl"
           }
          ],
          "scatterternary": [
           {
            "marker": {
             "colorbar": {
              "outlinewidth": 0,
              "ticks": ""
             }
            },
            "type": "scatterternary"
           }
          ],
          "surface": [
           {
            "colorbar": {
             "outlinewidth": 0,
             "ticks": ""
            },
            "colorscale": [
             [
              0,
              "#0d0887"
             ],
             [
              0.1111111111111111,
              "#46039f"
             ],
             [
              0.2222222222222222,
              "#7201a8"
             ],
             [
              0.3333333333333333,
              "#9c179e"
             ],
             [
              0.4444444444444444,
              "#bd3786"
             ],
             [
              0.5555555555555556,
              "#d8576b"
             ],
             [
              0.6666666666666666,
              "#ed7953"
             ],
             [
              0.7777777777777778,
              "#fb9f3a"
             ],
             [
              0.8888888888888888,
              "#fdca26"
             ],
             [
              1,
              "#f0f921"
             ]
            ],
            "type": "surface"
           }
          ],
          "table": [
           {
            "cells": {
             "fill": {
              "color": "#EBF0F8"
             },
             "line": {
              "color": "white"
             }
            },
            "header": {
             "fill": {
              "color": "#C8D4E3"
             },
             "line": {
              "color": "white"
             }
            },
            "type": "table"
           }
          ]
         },
         "layout": {
          "annotationdefaults": {
           "arrowcolor": "#2a3f5f",
           "arrowhead": 0,
           "arrowwidth": 1
          },
          "autotypenumbers": "strict",
          "coloraxis": {
           "colorbar": {
            "outlinewidth": 0,
            "ticks": ""
           }
          },
          "colorscale": {
           "diverging": [
            [
             0,
             "#8e0152"
            ],
            [
             0.1,
             "#c51b7d"
            ],
            [
             0.2,
             "#de77ae"
            ],
            [
             0.3,
             "#f1b6da"
            ],
            [
             0.4,
             "#fde0ef"
            ],
            [
             0.5,
             "#f7f7f7"
            ],
            [
             0.6,
             "#e6f5d0"
            ],
            [
             0.7,
             "#b8e186"
            ],
            [
             0.8,
             "#7fbc41"
            ],
            [
             0.9,
             "#4d9221"
            ],
            [
             1,
             "#276419"
            ]
           ],
           "sequential": [
            [
             0,
             "#0d0887"
            ],
            [
             0.1111111111111111,
             "#46039f"
            ],
            [
             0.2222222222222222,
             "#7201a8"
            ],
            [
             0.3333333333333333,
             "#9c179e"
            ],
            [
             0.4444444444444444,
             "#bd3786"
            ],
            [
             0.5555555555555556,
             "#d8576b"
            ],
            [
             0.6666666666666666,
             "#ed7953"
            ],
            [
             0.7777777777777778,
             "#fb9f3a"
            ],
            [
             0.8888888888888888,
             "#fdca26"
            ],
            [
             1,
             "#f0f921"
            ]
           ],
           "sequentialminus": [
            [
             0,
             "#0d0887"
            ],
            [
             0.1111111111111111,
             "#46039f"
            ],
            [
             0.2222222222222222,
             "#7201a8"
            ],
            [
             0.3333333333333333,
             "#9c179e"
            ],
            [
             0.4444444444444444,
             "#bd3786"
            ],
            [
             0.5555555555555556,
             "#d8576b"
            ],
            [
             0.6666666666666666,
             "#ed7953"
            ],
            [
             0.7777777777777778,
             "#fb9f3a"
            ],
            [
             0.8888888888888888,
             "#fdca26"
            ],
            [
             1,
             "#f0f921"
            ]
           ]
          },
          "colorway": [
           "#636efa",
           "#EF553B",
           "#00cc96",
           "#ab63fa",
           "#FFA15A",
           "#19d3f3",
           "#FF6692",
           "#B6E880",
           "#FF97FF",
           "#FECB52"
          ],
          "font": {
           "color": "#2a3f5f"
          },
          "geo": {
           "bgcolor": "white",
           "lakecolor": "white",
           "landcolor": "#E5ECF6",
           "showlakes": true,
           "showland": true,
           "subunitcolor": "white"
          },
          "hoverlabel": {
           "align": "left"
          },
          "hovermode": "closest",
          "mapbox": {
           "style": "light"
          },
          "paper_bgcolor": "white",
          "plot_bgcolor": "#E5ECF6",
          "polar": {
           "angularaxis": {
            "gridcolor": "white",
            "linecolor": "white",
            "ticks": ""
           },
           "bgcolor": "#E5ECF6",
           "radialaxis": {
            "gridcolor": "white",
            "linecolor": "white",
            "ticks": ""
           }
          },
          "scene": {
           "xaxis": {
            "backgroundcolor": "#E5ECF6",
            "gridcolor": "white",
            "gridwidth": 2,
            "linecolor": "white",
            "showbackground": true,
            "ticks": "",
            "zerolinecolor": "white"
           },
           "yaxis": {
            "backgroundcolor": "#E5ECF6",
            "gridcolor": "white",
            "gridwidth": 2,
            "linecolor": "white",
            "showbackground": true,
            "ticks": "",
            "zerolinecolor": "white"
           },
           "zaxis": {
            "backgroundcolor": "#E5ECF6",
            "gridcolor": "white",
            "gridwidth": 2,
            "linecolor": "white",
            "showbackground": true,
            "ticks": "",
            "zerolinecolor": "white"
           }
          },
          "shapedefaults": {
           "line": {
            "color": "#2a3f5f"
           }
          },
          "ternary": {
           "aaxis": {
            "gridcolor": "white",
            "linecolor": "white",
            "ticks": ""
           },
           "baxis": {
            "gridcolor": "white",
            "linecolor": "white",
            "ticks": ""
           },
           "bgcolor": "#E5ECF6",
           "caxis": {
            "gridcolor": "white",
            "linecolor": "white",
            "ticks": ""
           }
          },
          "title": {
           "x": 0.05
          },
          "xaxis": {
           "automargin": true,
           "gridcolor": "white",
           "linecolor": "white",
           "ticks": "",
           "title": {
            "standoff": 15
           },
           "zerolinecolor": "white",
           "zerolinewidth": 2
          },
          "yaxis": {
           "automargin": true,
           "gridcolor": "white",
           "linecolor": "white",
           "ticks": "",
           "title": {
            "standoff": 15
           },
           "zerolinecolor": "white",
           "zerolinewidth": 2
          }
         }
        },
        "width": 1000
       }
      }
     },
     "metadata": {},
     "output_type": "display_data"
    }
   ],
   "source": [
    "w2v.plot_umap_similar('الله')"
   ]
  },
  {
   "cell_type": "code",
   "execution_count": 1421,
   "metadata": {},
   "outputs": [],
   "source": []
  },
  {
   "cell_type": "code",
   "execution_count": null,
   "metadata": {},
   "outputs": [],
   "source": []
  },
  {
   "cell_type": "markdown",
   "metadata": {},
   "source": [
    "<h1>Draft"
   ]
  },
  {
   "cell_type": "markdown",
   "metadata": {},
   "source": [
    "<h5>PCA"
   ]
  },
  {
   "cell_type": "code",
   "execution_count": 586,
   "metadata": {},
   "outputs": [
    {
     "data": {
      "text/html": [
       "<div>\n",
       "<style scoped>\n",
       "    .dataframe tbody tr th:only-of-type {\n",
       "        vertical-align: middle;\n",
       "    }\n",
       "\n",
       "    .dataframe tbody tr th {\n",
       "        vertical-align: top;\n",
       "    }\n",
       "\n",
       "    .dataframe thead th {\n",
       "        text-align: right;\n",
       "    }\n",
       "</style>\n",
       "<table border=\"1\" class=\"dataframe\">\n",
       "  <thead>\n",
       "    <tr style=\"text-align: right;\">\n",
       "      <th></th>\n",
       "      <th>word</th>\n",
       "      <th>dim1</th>\n",
       "      <th>dim2</th>\n",
       "      <th>dim3</th>\n",
       "    </tr>\n",
       "  </thead>\n",
       "  <tbody>\n",
       "    <tr>\n",
       "      <th>0</th>\n",
       "      <td>الله</td>\n",
       "      <td>1.232349</td>\n",
       "      <td>-0.630090</td>\n",
       "      <td>1.854579</td>\n",
       "    </tr>\n",
       "    <tr>\n",
       "      <th>1</th>\n",
       "      <td>قال</td>\n",
       "      <td>0.973762</td>\n",
       "      <td>-1.262608</td>\n",
       "      <td>-0.071664</td>\n",
       "    </tr>\n",
       "    <tr>\n",
       "      <th>2</th>\n",
       "      <td>ارض</td>\n",
       "      <td>1.323124</td>\n",
       "      <td>0.743003</td>\n",
       "      <td>2.682454</td>\n",
       "    </tr>\n",
       "    <tr>\n",
       "      <th>3</th>\n",
       "      <td>كفر</td>\n",
       "      <td>1.032295</td>\n",
       "      <td>0.699143</td>\n",
       "      <td>-0.670529</td>\n",
       "    </tr>\n",
       "    <tr>\n",
       "      <th>4</th>\n",
       "      <td>يوم</td>\n",
       "      <td>1.338632</td>\n",
       "      <td>2.789065</td>\n",
       "      <td>-0.443455</td>\n",
       "    </tr>\n",
       "  </tbody>\n",
       "</table>\n",
       "</div>"
      ],
      "text/plain": [
       "   word      dim1      dim2      dim3\n",
       "0  الله  1.232349 -0.630090  1.854579\n",
       "1   قال  0.973762 -1.262608 -0.071664\n",
       "2   ارض  1.323124  0.743003  2.682454\n",
       "3   كفر  1.032295  0.699143 -0.670529\n",
       "4   يوم  1.338632  2.789065 -0.443455"
      ]
     },
     "execution_count": 586,
     "metadata": {},
     "output_type": "execute_result"
    }
   ],
   "source": [
    "from sklearn.decomposition import PCA\n",
    "pca = PCA(n_components=3)\n",
    "\n",
    "pca_data = pca.fit_transform(word_vec_df)\n",
    "pca_w2v_df = pd.DataFrame(pca_data, index=word_vec_df.index).reset_index()\n",
    "pca_w2v_df.columns = ['word', 'dim1','dim2','dim3']\n",
    "pca_w2v_df.head()"
   ]
  },
  {
   "cell_type": "code",
   "execution_count": 1057,
   "metadata": {},
   "outputs": [
    {
     "data": {
      "text/plain": [
       "['توبة', 'تقوى', 'فقير', 'ركع', 'اهتد', 'المن', 'قل', 'سل', 'بلد', 'خشي']"
      ]
     },
     "execution_count": 1057,
     "metadata": {},
     "output_type": "execute_result"
    }
   ],
   "source": [
    "find_most_similar('محمد')"
   ]
  },
  {
   "cell_type": "code",
   "execution_count": 1152,
   "metadata": {},
   "outputs": [
    {
     "name": "stderr",
     "output_type": "stream",
     "text": [
      "100%|██████████| 30/30 [00:00<?, ?it/s]\n"
     ]
    },
    {
     "data": {
      "application/vnd.plotly.v1+json": {
       "config": {
        "plotlyServerURL": "https://plot.ly"
       },
       "data": [
        {
         "hovertemplate": "ref=الله<br>dim1=%{x}<br>dim2=%{y}<br>dim3=%{z}<br>word=%{text}<extra></extra>",
         "legendgroup": "الله",
         "marker": {
          "color": "#636efa",
          "symbol": "circle"
         },
         "mode": "markers+text",
         "name": "الله",
         "scene": "scene",
         "showlegend": true,
         "text": [
          "فان",
          "اعلم",
          "عباد",
          "غيب",
          "غفر",
          "سميع",
          "قدير",
          "استغفر",
          "كفى",
          "حليم"
         ],
         "type": "scatter3d",
         "x": [
          1.1620793342590332,
          1.086300015449524,
          1.2082000970840454,
          1.3104522228240967,
          1.002000093460083,
          0.9869034886360168,
          1.250425934791565,
          0.9139477610588074,
          0.6673725843429565,
          0.17026667296886444
         ],
         "y": [
          -0.47532761096954346,
          -0.8721655011177063,
          -0.3625568151473999,
          0.06750702857971191,
          0.35706618428230286,
          -0.30646610260009766,
          -0.588290810585022,
          -0.348034530878067,
          -0.4800783395767212,
          0.016602693125605583
         ],
         "z": [
          1.054084062576294,
          1.1701208353042603,
          0.7238629460334778,
          0.9898884892463684,
          1.3597790002822876,
          1.3327171802520752,
          1.449201226234436,
          0.8322678208351135,
          0.5195167064666748,
          0.6568790674209595
         ]
        },
        {
         "hovertemplate": "ref=جنة<br>dim1=%{x}<br>dim2=%{y}<br>dim3=%{z}<br>word=%{text}<extra></extra>",
         "legendgroup": "جنة",
         "marker": {
          "color": "#EF553B",
          "symbol": "circle"
         },
         "mode": "markers+text",
         "name": "جنة",
         "scene": "scene",
         "showlegend": true,
         "text": [
          "جهنم",
          "دخل",
          "خلد",
          "سي",
          "جزاء",
          "مغفرة",
          "فوز",
          "نعيم",
          "عدن",
          "عقبى"
         ],
         "type": "scatter3d",
         "x": [
          1.1340453624725342,
          1.109049677848816,
          1.2785227298736572,
          0.8462234139442444,
          1.067868947982788,
          0.6951145529747009,
          0.6112571954727173,
          -0.10767748951911926,
          0.12415693700313568,
          -0.8223060369491577
         ],
         "y": [
          1.8240092992782593,
          1.8489021062850952,
          3.0896217823028564,
          1.0318989753723145,
          1.2659401893615723,
          0.9037736058235168,
          1.4117825031280518,
          0.6638131737709045,
          1.0911444425582886,
          0.33991435170173645
         ],
         "z": [
          -0.18084605038166046,
          -0.59284508228302,
          -0.07367539405822754,
          -0.4636472463607788,
          -0.07694671303033829,
          -0.351433664560318,
          -0.1264064610004425,
          -0.22522731125354767,
          -0.19731490314006805,
          -0.038332611322402954
         ]
        },
        {
         "hovertemplate": "ref=محمد<br>dim1=%{x}<br>dim2=%{y}<br>dim3=%{z}<br>word=%{text}<extra></extra>",
         "legendgroup": "محمد",
         "marker": {
          "color": "#00cc96",
          "symbol": "circle"
         },
         "mode": "markers+text",
         "name": "محمد",
         "scene": "scene",
         "showlegend": true,
         "text": [
          "خشي",
          "قل",
          "سل",
          "تقوى",
          "بلد",
          "فقير",
          "توبة",
          "ركع",
          "المن",
          "اهتد"
         ],
         "type": "scatter3d",
         "x": [
          0.5120607614517212,
          0.5802863836288452,
          0.9496579766273499,
          0.40480929613113403,
          0.39994731545448303,
          0.2156231850385666,
          -0.03457631170749664,
          0.8253090381622314,
          0.9369160532951355,
          0.49699515104293823
         ],
         "y": [
          -0.18266339600086212,
          -0.2605532109737396,
          -0.15914474427700043,
          -0.18917182087898254,
          -0.13806363940238953,
          -0.15189090371131897,
          -0.051312271505594254,
          -0.21234764158725739,
          -0.12567779421806335,
          -0.09780310839414597
         ],
         "z": [
          -0.04062696546316147,
          -0.0562845803797245,
          -0.14786465466022491,
          -0.019706066697835922,
          -0.00609182333573699,
          -0.005785929039120674,
          -0.039984602481126785,
          -0.05879440903663635,
          -0.07580288499593735,
          -0.03292950242757797
         ]
        }
       ],
       "layout": {
        "legend": {
         "title": {
          "text": "ref"
         },
         "tracegroupgap": 0
        },
        "margin": {
         "b": 0,
         "l": 0,
         "r": 0,
         "t": 0
        },
        "scene": {
         "domain": {
          "x": [
           0,
           1
          ],
          "y": [
           0,
           1
          ]
         },
         "xaxis": {
          "title": {
           "text": "dim1"
          }
         },
         "yaxis": {
          "title": {
           "text": "dim2"
          }
         },
         "zaxis": {
          "title": {
           "text": "dim3"
          }
         }
        },
        "template": {
         "data": {
          "bar": [
           {
            "error_x": {
             "color": "#2a3f5f"
            },
            "error_y": {
             "color": "#2a3f5f"
            },
            "marker": {
             "line": {
              "color": "#E5ECF6",
              "width": 0.5
             },
             "pattern": {
              "fillmode": "overlay",
              "size": 10,
              "solidity": 0.2
             }
            },
            "type": "bar"
           }
          ],
          "barpolar": [
           {
            "marker": {
             "line": {
              "color": "#E5ECF6",
              "width": 0.5
             },
             "pattern": {
              "fillmode": "overlay",
              "size": 10,
              "solidity": 0.2
             }
            },
            "type": "barpolar"
           }
          ],
          "carpet": [
           {
            "aaxis": {
             "endlinecolor": "#2a3f5f",
             "gridcolor": "white",
             "linecolor": "white",
             "minorgridcolor": "white",
             "startlinecolor": "#2a3f5f"
            },
            "baxis": {
             "endlinecolor": "#2a3f5f",
             "gridcolor": "white",
             "linecolor": "white",
             "minorgridcolor": "white",
             "startlinecolor": "#2a3f5f"
            },
            "type": "carpet"
           }
          ],
          "choropleth": [
           {
            "colorbar": {
             "outlinewidth": 0,
             "ticks": ""
            },
            "type": "choropleth"
           }
          ],
          "contour": [
           {
            "colorbar": {
             "outlinewidth": 0,
             "ticks": ""
            },
            "colorscale": [
             [
              0,
              "#0d0887"
             ],
             [
              0.1111111111111111,
              "#46039f"
             ],
             [
              0.2222222222222222,
              "#7201a8"
             ],
             [
              0.3333333333333333,
              "#9c179e"
             ],
             [
              0.4444444444444444,
              "#bd3786"
             ],
             [
              0.5555555555555556,
              "#d8576b"
             ],
             [
              0.6666666666666666,
              "#ed7953"
             ],
             [
              0.7777777777777778,
              "#fb9f3a"
             ],
             [
              0.8888888888888888,
              "#fdca26"
             ],
             [
              1,
              "#f0f921"
             ]
            ],
            "type": "contour"
           }
          ],
          "contourcarpet": [
           {
            "colorbar": {
             "outlinewidth": 0,
             "ticks": ""
            },
            "type": "contourcarpet"
           }
          ],
          "heatmap": [
           {
            "colorbar": {
             "outlinewidth": 0,
             "ticks": ""
            },
            "colorscale": [
             [
              0,
              "#0d0887"
             ],
             [
              0.1111111111111111,
              "#46039f"
             ],
             [
              0.2222222222222222,
              "#7201a8"
             ],
             [
              0.3333333333333333,
              "#9c179e"
             ],
             [
              0.4444444444444444,
              "#bd3786"
             ],
             [
              0.5555555555555556,
              "#d8576b"
             ],
             [
              0.6666666666666666,
              "#ed7953"
             ],
             [
              0.7777777777777778,
              "#fb9f3a"
             ],
             [
              0.8888888888888888,
              "#fdca26"
             ],
             [
              1,
              "#f0f921"
             ]
            ],
            "type": "heatmap"
           }
          ],
          "heatmapgl": [
           {
            "colorbar": {
             "outlinewidth": 0,
             "ticks": ""
            },
            "colorscale": [
             [
              0,
              "#0d0887"
             ],
             [
              0.1111111111111111,
              "#46039f"
             ],
             [
              0.2222222222222222,
              "#7201a8"
             ],
             [
              0.3333333333333333,
              "#9c179e"
             ],
             [
              0.4444444444444444,
              "#bd3786"
             ],
             [
              0.5555555555555556,
              "#d8576b"
             ],
             [
              0.6666666666666666,
              "#ed7953"
             ],
             [
              0.7777777777777778,
              "#fb9f3a"
             ],
             [
              0.8888888888888888,
              "#fdca26"
             ],
             [
              1,
              "#f0f921"
             ]
            ],
            "type": "heatmapgl"
           }
          ],
          "histogram": [
           {
            "marker": {
             "pattern": {
              "fillmode": "overlay",
              "size": 10,
              "solidity": 0.2
             }
            },
            "type": "histogram"
           }
          ],
          "histogram2d": [
           {
            "colorbar": {
             "outlinewidth": 0,
             "ticks": ""
            },
            "colorscale": [
             [
              0,
              "#0d0887"
             ],
             [
              0.1111111111111111,
              "#46039f"
             ],
             [
              0.2222222222222222,
              "#7201a8"
             ],
             [
              0.3333333333333333,
              "#9c179e"
             ],
             [
              0.4444444444444444,
              "#bd3786"
             ],
             [
              0.5555555555555556,
              "#d8576b"
             ],
             [
              0.6666666666666666,
              "#ed7953"
             ],
             [
              0.7777777777777778,
              "#fb9f3a"
             ],
             [
              0.8888888888888888,
              "#fdca26"
             ],
             [
              1,
              "#f0f921"
             ]
            ],
            "type": "histogram2d"
           }
          ],
          "histogram2dcontour": [
           {
            "colorbar": {
             "outlinewidth": 0,
             "ticks": ""
            },
            "colorscale": [
             [
              0,
              "#0d0887"
             ],
             [
              0.1111111111111111,
              "#46039f"
             ],
             [
              0.2222222222222222,
              "#7201a8"
             ],
             [
              0.3333333333333333,
              "#9c179e"
             ],
             [
              0.4444444444444444,
              "#bd3786"
             ],
             [
              0.5555555555555556,
              "#d8576b"
             ],
             [
              0.6666666666666666,
              "#ed7953"
             ],
             [
              0.7777777777777778,
              "#fb9f3a"
             ],
             [
              0.8888888888888888,
              "#fdca26"
             ],
             [
              1,
              "#f0f921"
             ]
            ],
            "type": "histogram2dcontour"
           }
          ],
          "mesh3d": [
           {
            "colorbar": {
             "outlinewidth": 0,
             "ticks": ""
            },
            "type": "mesh3d"
           }
          ],
          "parcoords": [
           {
            "line": {
             "colorbar": {
              "outlinewidth": 0,
              "ticks": ""
             }
            },
            "type": "parcoords"
           }
          ],
          "pie": [
           {
            "automargin": true,
            "type": "pie"
           }
          ],
          "scatter": [
           {
            "marker": {
             "colorbar": {
              "outlinewidth": 0,
              "ticks": ""
             }
            },
            "type": "scatter"
           }
          ],
          "scatter3d": [
           {
            "line": {
             "colorbar": {
              "outlinewidth": 0,
              "ticks": ""
             }
            },
            "marker": {
             "colorbar": {
              "outlinewidth": 0,
              "ticks": ""
             }
            },
            "type": "scatter3d"
           }
          ],
          "scattercarpet": [
           {
            "marker": {
             "colorbar": {
              "outlinewidth": 0,
              "ticks": ""
             }
            },
            "type": "scattercarpet"
           }
          ],
          "scattergeo": [
           {
            "marker": {
             "colorbar": {
              "outlinewidth": 0,
              "ticks": ""
             }
            },
            "type": "scattergeo"
           }
          ],
          "scattergl": [
           {
            "marker": {
             "colorbar": {
              "outlinewidth": 0,
              "ticks": ""
             }
            },
            "type": "scattergl"
           }
          ],
          "scattermapbox": [
           {
            "marker": {
             "colorbar": {
              "outlinewidth": 0,
              "ticks": ""
             }
            },
            "type": "scattermapbox"
           }
          ],
          "scatterpolar": [
           {
            "marker": {
             "colorbar": {
              "outlinewidth": 0,
              "ticks": ""
             }
            },
            "type": "scatterpolar"
           }
          ],
          "scatterpolargl": [
           {
            "marker": {
             "colorbar": {
              "outlinewidth": 0,
              "ticks": ""
             }
            },
            "type": "scatterpolargl"
           }
          ],
          "scatterternary": [
           {
            "marker": {
             "colorbar": {
              "outlinewidth": 0,
              "ticks": ""
             }
            },
            "type": "scatterternary"
           }
          ],
          "surface": [
           {
            "colorbar": {
             "outlinewidth": 0,
             "ticks": ""
            },
            "colorscale": [
             [
              0,
              "#0d0887"
             ],
             [
              0.1111111111111111,
              "#46039f"
             ],
             [
              0.2222222222222222,
              "#7201a8"
             ],
             [
              0.3333333333333333,
              "#9c179e"
             ],
             [
              0.4444444444444444,
              "#bd3786"
             ],
             [
              0.5555555555555556,
              "#d8576b"
             ],
             [
              0.6666666666666666,
              "#ed7953"
             ],
             [
              0.7777777777777778,
              "#fb9f3a"
             ],
             [
              0.8888888888888888,
              "#fdca26"
             ],
             [
              1,
              "#f0f921"
             ]
            ],
            "type": "surface"
           }
          ],
          "table": [
           {
            "cells": {
             "fill": {
              "color": "#EBF0F8"
             },
             "line": {
              "color": "white"
             }
            },
            "header": {
             "fill": {
              "color": "#C8D4E3"
             },
             "line": {
              "color": "white"
             }
            },
            "type": "table"
           }
          ]
         },
         "layout": {
          "annotationdefaults": {
           "arrowcolor": "#2a3f5f",
           "arrowhead": 0,
           "arrowwidth": 1
          },
          "autotypenumbers": "strict",
          "coloraxis": {
           "colorbar": {
            "outlinewidth": 0,
            "ticks": ""
           }
          },
          "colorscale": {
           "diverging": [
            [
             0,
             "#8e0152"
            ],
            [
             0.1,
             "#c51b7d"
            ],
            [
             0.2,
             "#de77ae"
            ],
            [
             0.3,
             "#f1b6da"
            ],
            [
             0.4,
             "#fde0ef"
            ],
            [
             0.5,
             "#f7f7f7"
            ],
            [
             0.6,
             "#e6f5d0"
            ],
            [
             0.7,
             "#b8e186"
            ],
            [
             0.8,
             "#7fbc41"
            ],
            [
             0.9,
             "#4d9221"
            ],
            [
             1,
             "#276419"
            ]
           ],
           "sequential": [
            [
             0,
             "#0d0887"
            ],
            [
             0.1111111111111111,
             "#46039f"
            ],
            [
             0.2222222222222222,
             "#7201a8"
            ],
            [
             0.3333333333333333,
             "#9c179e"
            ],
            [
             0.4444444444444444,
             "#bd3786"
            ],
            [
             0.5555555555555556,
             "#d8576b"
            ],
            [
             0.6666666666666666,
             "#ed7953"
            ],
            [
             0.7777777777777778,
             "#fb9f3a"
            ],
            [
             0.8888888888888888,
             "#fdca26"
            ],
            [
             1,
             "#f0f921"
            ]
           ],
           "sequentialminus": [
            [
             0,
             "#0d0887"
            ],
            [
             0.1111111111111111,
             "#46039f"
            ],
            [
             0.2222222222222222,
             "#7201a8"
            ],
            [
             0.3333333333333333,
             "#9c179e"
            ],
            [
             0.4444444444444444,
             "#bd3786"
            ],
            [
             0.5555555555555556,
             "#d8576b"
            ],
            [
             0.6666666666666666,
             "#ed7953"
            ],
            [
             0.7777777777777778,
             "#fb9f3a"
            ],
            [
             0.8888888888888888,
             "#fdca26"
            ],
            [
             1,
             "#f0f921"
            ]
           ]
          },
          "colorway": [
           "#636efa",
           "#EF553B",
           "#00cc96",
           "#ab63fa",
           "#FFA15A",
           "#19d3f3",
           "#FF6692",
           "#B6E880",
           "#FF97FF",
           "#FECB52"
          ],
          "font": {
           "color": "#2a3f5f"
          },
          "geo": {
           "bgcolor": "white",
           "lakecolor": "white",
           "landcolor": "#E5ECF6",
           "showlakes": true,
           "showland": true,
           "subunitcolor": "white"
          },
          "hoverlabel": {
           "align": "left"
          },
          "hovermode": "closest",
          "mapbox": {
           "style": "light"
          },
          "paper_bgcolor": "white",
          "plot_bgcolor": "#E5ECF6",
          "polar": {
           "angularaxis": {
            "gridcolor": "white",
            "linecolor": "white",
            "ticks": ""
           },
           "bgcolor": "#E5ECF6",
           "radialaxis": {
            "gridcolor": "white",
            "linecolor": "white",
            "ticks": ""
           }
          },
          "scene": {
           "xaxis": {
            "backgroundcolor": "#E5ECF6",
            "gridcolor": "white",
            "gridwidth": 2,
            "linecolor": "white",
            "showbackground": true,
            "ticks": "",
            "zerolinecolor": "white"
           },
           "yaxis": {
            "backgroundcolor": "#E5ECF6",
            "gridcolor": "white",
            "gridwidth": 2,
            "linecolor": "white",
            "showbackground": true,
            "ticks": "",
            "zerolinecolor": "white"
           },
           "zaxis": {
            "backgroundcolor": "#E5ECF6",
            "gridcolor": "white",
            "gridwidth": 2,
            "linecolor": "white",
            "showbackground": true,
            "ticks": "",
            "zerolinecolor": "white"
           }
          },
          "shapedefaults": {
           "line": {
            "color": "#2a3f5f"
           }
          },
          "ternary": {
           "aaxis": {
            "gridcolor": "white",
            "linecolor": "white",
            "ticks": ""
           },
           "baxis": {
            "gridcolor": "white",
            "linecolor": "white",
            "ticks": ""
           },
           "bgcolor": "#E5ECF6",
           "caxis": {
            "gridcolor": "white",
            "linecolor": "white",
            "ticks": ""
           }
          },
          "title": {
           "x": 0.05
          },
          "xaxis": {
           "automargin": true,
           "gridcolor": "white",
           "linecolor": "white",
           "ticks": "",
           "title": {
            "standoff": 15
           },
           "zerolinecolor": "white",
           "zerolinewidth": 2
          },
          "yaxis": {
           "automargin": true,
           "gridcolor": "white",
           "linecolor": "white",
           "ticks": "",
           "title": {
            "standoff": 15
           },
           "zerolinecolor": "white",
           "zerolinewidth": 2
          }
         }
        },
        "width": 1000
       }
      }
     },
     "metadata": {},
     "output_type": "display_data"
    }
   ],
   "source": [
    "# Search for words (change the look_for value)\n",
    "look_for = ['الله','محمد', 'جنة']\n",
    "fig_pca = px.scatter_3d(lookup_df(pca_w2v_df, look_for), x='dim1', y='dim2', z='dim3', text='word', width=1000,color='ref')\n",
    "fig_pca.update_layout(margin=dict(l=0, r=0, b=0, t=0))\n",
    "fig_pca.show()"
   ]
  },
  {
   "cell_type": "markdown",
   "metadata": {},
   "source": [
    "<h3>Umap"
   ]
  },
  {
   "cell_type": "code",
   "execution_count": 325,
   "metadata": {},
   "outputs": [],
   "source": [
    "# Umap import and setup\n",
    "import umap.umap_ as umap\n",
    "reducer = umap.UMAP(n_neighbors=15, min_dist=0.1, n_components=3, metric='cosine') # cosine gave better results than euclidean\n",
    "\n",
    "# Main reduced_dataframe\n",
    "umap_data = reducer.fit_transform(word_vec_df)\n",
    "umap_df = pd.DataFrame(umap_data, index=word_vec_df.index, columns=['dim1','dim2','dim3']).reset_index().rename(columns={'index':'word'})"
   ]
  },
  {
   "cell_type": "code",
   "execution_count": 1133,
   "metadata": {},
   "outputs": [
    {
     "name": "stdout",
     "output_type": "stream",
     "text": [
      "اعلم الله\n",
      "فان الله\n",
      "استغفر الله\n",
      "حليم الله\n",
      "سميع الله\n",
      "كفى الله\n",
      "قدير الله\n",
      "غفر الله\n",
      "غيب الله\n",
      "عباد الله\n",
      "توبة محمد\n",
      "تقوى محمد\n",
      "فقير محمد\n",
      "ركع محمد\n",
      "اهتد محمد\n",
      "المن محمد\n",
      "قل محمد\n",
      "سل محمد\n",
      "بلد محمد\n",
      "خشي محمد\n"
     ]
    },
    {
     "name": "stderr",
     "output_type": "stream",
     "text": [
      "100%|██████████| 20/20 [00:00<?, ?it/s]\n"
     ]
    },
    {
     "data": {
      "application/vnd.plotly.v1+json": {
       "config": {
        "plotlyServerURL": "https://plot.ly"
       },
       "data": [
        {
         "hovertemplate": "ref=الله<br>dim1=%{x}<br>dim2=%{y}<br>dim3=%{z}<br>word=%{text}<extra></extra>",
         "legendgroup": "الله",
         "marker": {
          "color": "#636efa",
          "symbol": "circle"
         },
         "mode": "markers+text",
         "name": "الله",
         "scene": "scene",
         "showlegend": true,
         "text": [
          "فان",
          "اعلم",
          "عباد",
          "غيب",
          "غفر",
          "سميع",
          "قدير",
          "استغفر",
          "كفى",
          "حليم"
         ],
         "type": "scatter3d",
         "x": [
          11.829032897949219,
          11.885431289672852,
          11.970664024353027,
          11.285387992858887,
          11.201857566833496,
          11.73393440246582,
          11.73851203918457,
          11.840567588806152,
          12.230375289916992,
          11.138714790344238
         ],
         "y": [
          11.46329402923584,
          11.489280700683594,
          11.634076118469238,
          12.000377655029297,
          11.87324047088623,
          11.938404083251953,
          11.955049514770508,
          11.541741371154785,
          11.453195571899414,
          11.773371696472168
         ],
         "z": [
          5.351363658905029,
          5.443851947784424,
          5.370489120483398,
          5.5538105964660645,
          5.525566577911377,
          5.247649192810059,
          5.240586757659912,
          5.382874011993408,
          5.571420669555664,
          5.637308597564697
         ]
        },
        {
         "hovertemplate": "ref=محمد<br>dim1=%{x}<br>dim2=%{y}<br>dim3=%{z}<br>word=%{text}<extra></extra>",
         "legendgroup": "محمد",
         "marker": {
          "color": "#EF553B",
          "symbol": "circle"
         },
         "mode": "markers+text",
         "name": "محمد",
         "scene": "scene",
         "showlegend": true,
         "text": [
          "خشي",
          "قل",
          "سل",
          "تقوى",
          "بلد",
          "فقير",
          "توبة",
          "ركع",
          "المن",
          "اهتد"
         ],
         "type": "scatter3d",
         "x": [
          13.515573501586914,
          13.51227855682373,
          13.225030899047852,
          13.549931526184082,
          13.07130241394043,
          13.471513748168945,
          12.796855926513672,
          13.491057395935059,
          12.755359649658203,
          12.372471809387207
         ],
         "y": [
          9.956305503845215,
          9.533473014831543,
          9.921331405639648,
          10.289717674255371,
          10.695646286010742,
          10.043181419372559,
          11.127619743347168,
          10.417919158935547,
          10.283516883850098,
          10.410950660705566
         ],
         "z": [
          8.223843574523926,
          8.261717796325684,
          9.574994087219238,
          8.522531509399414,
          8.435385704040527,
          8.179226875305176,
          9.576436996459961,
          8.635921478271484,
          9.462207794189453,
          8.961787223815918
         ]
        }
       ],
       "layout": {
        "legend": {
         "title": {
          "text": "ref"
         },
         "tracegroupgap": 0
        },
        "margin": {
         "b": 0,
         "l": 0,
         "r": 0,
         "t": 0
        },
        "scene": {
         "domain": {
          "x": [
           0,
           1
          ],
          "y": [
           0,
           1
          ]
         },
         "xaxis": {
          "title": {
           "text": "dim1"
          }
         },
         "yaxis": {
          "title": {
           "text": "dim2"
          }
         },
         "zaxis": {
          "title": {
           "text": "dim3"
          }
         }
        },
        "template": {
         "data": {
          "bar": [
           {
            "error_x": {
             "color": "#2a3f5f"
            },
            "error_y": {
             "color": "#2a3f5f"
            },
            "marker": {
             "line": {
              "color": "#E5ECF6",
              "width": 0.5
             },
             "pattern": {
              "fillmode": "overlay",
              "size": 10,
              "solidity": 0.2
             }
            },
            "type": "bar"
           }
          ],
          "barpolar": [
           {
            "marker": {
             "line": {
              "color": "#E5ECF6",
              "width": 0.5
             },
             "pattern": {
              "fillmode": "overlay",
              "size": 10,
              "solidity": 0.2
             }
            },
            "type": "barpolar"
           }
          ],
          "carpet": [
           {
            "aaxis": {
             "endlinecolor": "#2a3f5f",
             "gridcolor": "white",
             "linecolor": "white",
             "minorgridcolor": "white",
             "startlinecolor": "#2a3f5f"
            },
            "baxis": {
             "endlinecolor": "#2a3f5f",
             "gridcolor": "white",
             "linecolor": "white",
             "minorgridcolor": "white",
             "startlinecolor": "#2a3f5f"
            },
            "type": "carpet"
           }
          ],
          "choropleth": [
           {
            "colorbar": {
             "outlinewidth": 0,
             "ticks": ""
            },
            "type": "choropleth"
           }
          ],
          "contour": [
           {
            "colorbar": {
             "outlinewidth": 0,
             "ticks": ""
            },
            "colorscale": [
             [
              0,
              "#0d0887"
             ],
             [
              0.1111111111111111,
              "#46039f"
             ],
             [
              0.2222222222222222,
              "#7201a8"
             ],
             [
              0.3333333333333333,
              "#9c179e"
             ],
             [
              0.4444444444444444,
              "#bd3786"
             ],
             [
              0.5555555555555556,
              "#d8576b"
             ],
             [
              0.6666666666666666,
              "#ed7953"
             ],
             [
              0.7777777777777778,
              "#fb9f3a"
             ],
             [
              0.8888888888888888,
              "#fdca26"
             ],
             [
              1,
              "#f0f921"
             ]
            ],
            "type": "contour"
           }
          ],
          "contourcarpet": [
           {
            "colorbar": {
             "outlinewidth": 0,
             "ticks": ""
            },
            "type": "contourcarpet"
           }
          ],
          "heatmap": [
           {
            "colorbar": {
             "outlinewidth": 0,
             "ticks": ""
            },
            "colorscale": [
             [
              0,
              "#0d0887"
             ],
             [
              0.1111111111111111,
              "#46039f"
             ],
             [
              0.2222222222222222,
              "#7201a8"
             ],
             [
              0.3333333333333333,
              "#9c179e"
             ],
             [
              0.4444444444444444,
              "#bd3786"
             ],
             [
              0.5555555555555556,
              "#d8576b"
             ],
             [
              0.6666666666666666,
              "#ed7953"
             ],
             [
              0.7777777777777778,
              "#fb9f3a"
             ],
             [
              0.8888888888888888,
              "#fdca26"
             ],
             [
              1,
              "#f0f921"
             ]
            ],
            "type": "heatmap"
           }
          ],
          "heatmapgl": [
           {
            "colorbar": {
             "outlinewidth": 0,
             "ticks": ""
            },
            "colorscale": [
             [
              0,
              "#0d0887"
             ],
             [
              0.1111111111111111,
              "#46039f"
             ],
             [
              0.2222222222222222,
              "#7201a8"
             ],
             [
              0.3333333333333333,
              "#9c179e"
             ],
             [
              0.4444444444444444,
              "#bd3786"
             ],
             [
              0.5555555555555556,
              "#d8576b"
             ],
             [
              0.6666666666666666,
              "#ed7953"
             ],
             [
              0.7777777777777778,
              "#fb9f3a"
             ],
             [
              0.8888888888888888,
              "#fdca26"
             ],
             [
              1,
              "#f0f921"
             ]
            ],
            "type": "heatmapgl"
           }
          ],
          "histogram": [
           {
            "marker": {
             "pattern": {
              "fillmode": "overlay",
              "size": 10,
              "solidity": 0.2
             }
            },
            "type": "histogram"
           }
          ],
          "histogram2d": [
           {
            "colorbar": {
             "outlinewidth": 0,
             "ticks": ""
            },
            "colorscale": [
             [
              0,
              "#0d0887"
             ],
             [
              0.1111111111111111,
              "#46039f"
             ],
             [
              0.2222222222222222,
              "#7201a8"
             ],
             [
              0.3333333333333333,
              "#9c179e"
             ],
             [
              0.4444444444444444,
              "#bd3786"
             ],
             [
              0.5555555555555556,
              "#d8576b"
             ],
             [
              0.6666666666666666,
              "#ed7953"
             ],
             [
              0.7777777777777778,
              "#fb9f3a"
             ],
             [
              0.8888888888888888,
              "#fdca26"
             ],
             [
              1,
              "#f0f921"
             ]
            ],
            "type": "histogram2d"
           }
          ],
          "histogram2dcontour": [
           {
            "colorbar": {
             "outlinewidth": 0,
             "ticks": ""
            },
            "colorscale": [
             [
              0,
              "#0d0887"
             ],
             [
              0.1111111111111111,
              "#46039f"
             ],
             [
              0.2222222222222222,
              "#7201a8"
             ],
             [
              0.3333333333333333,
              "#9c179e"
             ],
             [
              0.4444444444444444,
              "#bd3786"
             ],
             [
              0.5555555555555556,
              "#d8576b"
             ],
             [
              0.6666666666666666,
              "#ed7953"
             ],
             [
              0.7777777777777778,
              "#fb9f3a"
             ],
             [
              0.8888888888888888,
              "#fdca26"
             ],
             [
              1,
              "#f0f921"
             ]
            ],
            "type": "histogram2dcontour"
           }
          ],
          "mesh3d": [
           {
            "colorbar": {
             "outlinewidth": 0,
             "ticks": ""
            },
            "type": "mesh3d"
           }
          ],
          "parcoords": [
           {
            "line": {
             "colorbar": {
              "outlinewidth": 0,
              "ticks": ""
             }
            },
            "type": "parcoords"
           }
          ],
          "pie": [
           {
            "automargin": true,
            "type": "pie"
           }
          ],
          "scatter": [
           {
            "marker": {
             "colorbar": {
              "outlinewidth": 0,
              "ticks": ""
             }
            },
            "type": "scatter"
           }
          ],
          "scatter3d": [
           {
            "line": {
             "colorbar": {
              "outlinewidth": 0,
              "ticks": ""
             }
            },
            "marker": {
             "colorbar": {
              "outlinewidth": 0,
              "ticks": ""
             }
            },
            "type": "scatter3d"
           }
          ],
          "scattercarpet": [
           {
            "marker": {
             "colorbar": {
              "outlinewidth": 0,
              "ticks": ""
             }
            },
            "type": "scattercarpet"
           }
          ],
          "scattergeo": [
           {
            "marker": {
             "colorbar": {
              "outlinewidth": 0,
              "ticks": ""
             }
            },
            "type": "scattergeo"
           }
          ],
          "scattergl": [
           {
            "marker": {
             "colorbar": {
              "outlinewidth": 0,
              "ticks": ""
             }
            },
            "type": "scattergl"
           }
          ],
          "scattermapbox": [
           {
            "marker": {
             "colorbar": {
              "outlinewidth": 0,
              "ticks": ""
             }
            },
            "type": "scattermapbox"
           }
          ],
          "scatterpolar": [
           {
            "marker": {
             "colorbar": {
              "outlinewidth": 0,
              "ticks": ""
             }
            },
            "type": "scatterpolar"
           }
          ],
          "scatterpolargl": [
           {
            "marker": {
             "colorbar": {
              "outlinewidth": 0,
              "ticks": ""
             }
            },
            "type": "scatterpolargl"
           }
          ],
          "scatterternary": [
           {
            "marker": {
             "colorbar": {
              "outlinewidth": 0,
              "ticks": ""
             }
            },
            "type": "scatterternary"
           }
          ],
          "surface": [
           {
            "colorbar": {
             "outlinewidth": 0,
             "ticks": ""
            },
            "colorscale": [
             [
              0,
              "#0d0887"
             ],
             [
              0.1111111111111111,
              "#46039f"
             ],
             [
              0.2222222222222222,
              "#7201a8"
             ],
             [
              0.3333333333333333,
              "#9c179e"
             ],
             [
              0.4444444444444444,
              "#bd3786"
             ],
             [
              0.5555555555555556,
              "#d8576b"
             ],
             [
              0.6666666666666666,
              "#ed7953"
             ],
             [
              0.7777777777777778,
              "#fb9f3a"
             ],
             [
              0.8888888888888888,
              "#fdca26"
             ],
             [
              1,
              "#f0f921"
             ]
            ],
            "type": "surface"
           }
          ],
          "table": [
           {
            "cells": {
             "fill": {
              "color": "#EBF0F8"
             },
             "line": {
              "color": "white"
             }
            },
            "header": {
             "fill": {
              "color": "#C8D4E3"
             },
             "line": {
              "color": "white"
             }
            },
            "type": "table"
           }
          ]
         },
         "layout": {
          "annotationdefaults": {
           "arrowcolor": "#2a3f5f",
           "arrowhead": 0,
           "arrowwidth": 1
          },
          "autotypenumbers": "strict",
          "coloraxis": {
           "colorbar": {
            "outlinewidth": 0,
            "ticks": ""
           }
          },
          "colorscale": {
           "diverging": [
            [
             0,
             "#8e0152"
            ],
            [
             0.1,
             "#c51b7d"
            ],
            [
             0.2,
             "#de77ae"
            ],
            [
             0.3,
             "#f1b6da"
            ],
            [
             0.4,
             "#fde0ef"
            ],
            [
             0.5,
             "#f7f7f7"
            ],
            [
             0.6,
             "#e6f5d0"
            ],
            [
             0.7,
             "#b8e186"
            ],
            [
             0.8,
             "#7fbc41"
            ],
            [
             0.9,
             "#4d9221"
            ],
            [
             1,
             "#276419"
            ]
           ],
           "sequential": [
            [
             0,
             "#0d0887"
            ],
            [
             0.1111111111111111,
             "#46039f"
            ],
            [
             0.2222222222222222,
             "#7201a8"
            ],
            [
             0.3333333333333333,
             "#9c179e"
            ],
            [
             0.4444444444444444,
             "#bd3786"
            ],
            [
             0.5555555555555556,
             "#d8576b"
            ],
            [
             0.6666666666666666,
             "#ed7953"
            ],
            [
             0.7777777777777778,
             "#fb9f3a"
            ],
            [
             0.8888888888888888,
             "#fdca26"
            ],
            [
             1,
             "#f0f921"
            ]
           ],
           "sequentialminus": [
            [
             0,
             "#0d0887"
            ],
            [
             0.1111111111111111,
             "#46039f"
            ],
            [
             0.2222222222222222,
             "#7201a8"
            ],
            [
             0.3333333333333333,
             "#9c179e"
            ],
            [
             0.4444444444444444,
             "#bd3786"
            ],
            [
             0.5555555555555556,
             "#d8576b"
            ],
            [
             0.6666666666666666,
             "#ed7953"
            ],
            [
             0.7777777777777778,
             "#fb9f3a"
            ],
            [
             0.8888888888888888,
             "#fdca26"
            ],
            [
             1,
             "#f0f921"
            ]
           ]
          },
          "colorway": [
           "#636efa",
           "#EF553B",
           "#00cc96",
           "#ab63fa",
           "#FFA15A",
           "#19d3f3",
           "#FF6692",
           "#B6E880",
           "#FF97FF",
           "#FECB52"
          ],
          "font": {
           "color": "#2a3f5f"
          },
          "geo": {
           "bgcolor": "white",
           "lakecolor": "white",
           "landcolor": "#E5ECF6",
           "showlakes": true,
           "showland": true,
           "subunitcolor": "white"
          },
          "hoverlabel": {
           "align": "left"
          },
          "hovermode": "closest",
          "mapbox": {
           "style": "light"
          },
          "paper_bgcolor": "white",
          "plot_bgcolor": "#E5ECF6",
          "polar": {
           "angularaxis": {
            "gridcolor": "white",
            "linecolor": "white",
            "ticks": ""
           },
           "bgcolor": "#E5ECF6",
           "radialaxis": {
            "gridcolor": "white",
            "linecolor": "white",
            "ticks": ""
           }
          },
          "scene": {
           "xaxis": {
            "backgroundcolor": "#E5ECF6",
            "gridcolor": "white",
            "gridwidth": 2,
            "linecolor": "white",
            "showbackground": true,
            "ticks": "",
            "zerolinecolor": "white"
           },
           "yaxis": {
            "backgroundcolor": "#E5ECF6",
            "gridcolor": "white",
            "gridwidth": 2,
            "linecolor": "white",
            "showbackground": true,
            "ticks": "",
            "zerolinecolor": "white"
           },
           "zaxis": {
            "backgroundcolor": "#E5ECF6",
            "gridcolor": "white",
            "gridwidth": 2,
            "linecolor": "white",
            "showbackground": true,
            "ticks": "",
            "zerolinecolor": "white"
           }
          },
          "shapedefaults": {
           "line": {
            "color": "#2a3f5f"
           }
          },
          "ternary": {
           "aaxis": {
            "gridcolor": "white",
            "linecolor": "white",
            "ticks": ""
           },
           "baxis": {
            "gridcolor": "white",
            "linecolor": "white",
            "ticks": ""
           },
           "bgcolor": "#E5ECF6",
           "caxis": {
            "gridcolor": "white",
            "linecolor": "white",
            "ticks": ""
           }
          },
          "title": {
           "x": 0.05
          },
          "xaxis": {
           "automargin": true,
           "gridcolor": "white",
           "linecolor": "white",
           "ticks": "",
           "title": {
            "standoff": 15
           },
           "zerolinecolor": "white",
           "zerolinewidth": 2
          },
          "yaxis": {
           "automargin": true,
           "gridcolor": "white",
           "linecolor": "white",
           "ticks": "",
           "title": {
            "standoff": 15
           },
           "zerolinecolor": "white",
           "zerolinewidth": 2
          }
         }
        },
        "width": 1000
       }
      }
     },
     "metadata": {},
     "output_type": "display_data"
    }
   ],
   "source": [
    "# 3D Plot\n",
    "look_for = ['الله','محمد']\n",
    "fig_umap = px.scatter_3d(lookup_df(umap_df, look_for), x='dim1', y='dim2', z='dim3', text='word', width=1000, color='ref')\n",
    "fig_umap.update_layout(margin=dict(l=0, r=0, b=0, t=0))\n",
    "fig_umap.show()"
   ]
  },
  {
   "cell_type": "code",
   "execution_count": null,
   "metadata": {},
   "outputs": [],
   "source": []
  },
  {
   "cell_type": "code",
   "execution_count": null,
   "metadata": {},
   "outputs": [],
   "source": []
  }
 ],
 "metadata": {
  "interpreter": {
   "hash": "6a90448524f656655376e589a7c5d3deb138177bb112388cb30ddfc6b5ff35d8"
  },
  "kernelspec": {
   "display_name": "Python 3.9.10 64-bit",
   "language": "python",
   "name": "python3"
  },
  "language_info": {
   "codemirror_mode": {
    "name": "ipython",
    "version": 3
   },
   "file_extension": ".py",
   "mimetype": "text/x-python",
   "name": "python",
   "nbconvert_exporter": "python",
   "pygments_lexer": "ipython3",
   "version": "3.9.10"
  },
  "orig_nbformat": 4
 },
 "nbformat": 4,
 "nbformat_minor": 2
}
