{
 "cells": [
  {
   "cell_type": "markdown",
   "metadata": {},
   "source": [
    "<h3>Quran in CSV</h3>\n",
    "<i>Credit: </i><a href='https://data.mendeley.com/datasets/sg5j65kgdf/1#:~:text=Quran%20Dataset%20is%20a%20collection,original%20file%20in%20word%20format.&text=From%20the%20RDF%20files%20small,transform%20RDF%20to%20figure%20files.'>https://data.mendeley.com/datasets/sg5j65kgdf/1#:~:text=Quran%20Dataset%20is%20a%20collection,original%20file%20in%20word%20format.&text=From%20the%20RDF%20files%20small,transform%20RDF%20to%20figure%20files.</a>"
   ]
  },
  {
   "cell_type": "code",
   "execution_count": 36,
   "metadata": {},
   "outputs": [],
   "source": [
    "import pandas as pd\n",
    "import tqdm\n",
    "tqdm.tqdm.pandas()\n",
    "import ast\n",
    "quran_df = pd.read_csv(r\"CSVs_&_other_files\\quran.csv\", header=None, usecols=[3,10]).dropna()\n",
    "quran_df = quran_df[~(quran_df[3].str.startswith('سورة'))].rename(columns={3:'text',10:'sura'}) #  & ~(quran_df[3].str.len() < 25)"
   ]
  },
  {
   "cell_type": "code",
   "execution_count": 37,
   "metadata": {},
   "outputs": [
    {
     "data": {
      "text/plain": [
       "(114,)"
      ]
     },
     "execution_count": 37,
     "metadata": {},
     "output_type": "execute_result"
    }
   ],
   "source": [
    "quran_df.sura.unique().shape # Number of sura's"
   ]
  },
  {
   "cell_type": "code",
   "execution_count": 59,
   "metadata": {},
   "outputs": [
    {
     "data": {
      "text/html": [
       "<div>\n",
       "<style scoped>\n",
       "    .dataframe tbody tr th:only-of-type {\n",
       "        vertical-align: middle;\n",
       "    }\n",
       "\n",
       "    .dataframe tbody tr th {\n",
       "        vertical-align: top;\n",
       "    }\n",
       "\n",
       "    .dataframe thead th {\n",
       "        text-align: right;\n",
       "    }\n",
       "</style>\n",
       "<table border=\"1\" class=\"dataframe\">\n",
       "  <thead>\n",
       "    <tr style=\"text-align: right;\">\n",
       "      <th></th>\n",
       "      <th>sura</th>\n",
       "      <th>text</th>\n",
       "    </tr>\n",
       "  </thead>\n",
       "  <tbody>\n",
       "    <tr>\n",
       "      <th>0</th>\n",
       "      <td>سورة ابراهيم</td>\n",
       "      <td>[فلا تحسبن الله مخلف وعده رسله ان الله عزيز ذو...</td>\n",
       "    </tr>\n",
       "    <tr>\n",
       "      <th>1</th>\n",
       "      <td>سورة ال عمران</td>\n",
       "      <td>[بسم الله الرحمٰن الرحيم, الم, الله لا الٰه ال...</td>\n",
       "    </tr>\n",
       "    <tr>\n",
       "      <th>2</th>\n",
       "      <td>سورة الاحزاب</td>\n",
       "      <td>[ولقد كانوا عٰهدوا الله من قبل لا يولون الادبٰ...</td>\n",
       "    </tr>\n",
       "    <tr>\n",
       "      <th>3</th>\n",
       "      <td>سورة الاحقاف</td>\n",
       "      <td>[تنزيل الكتٰب من الله العزيز الحكيم, بسم الله ...</td>\n",
       "    </tr>\n",
       "    <tr>\n",
       "      <th>4</th>\n",
       "      <td>سورة الاخلاص</td>\n",
       "      <td>[بسم الله الرحمٰن الرحيم, قل هو الله احد, الله...</td>\n",
       "    </tr>\n",
       "  </tbody>\n",
       "</table>\n",
       "</div>"
      ],
      "text/plain": [
       "            sura                                               text\n",
       "0   سورة ابراهيم  [فلا تحسبن الله مخلف وعده رسله ان الله عزيز ذو...\n",
       "1  سورة ال عمران  [بسم الله الرحمٰن الرحيم, الم, الله لا الٰه ال...\n",
       "2   سورة الاحزاب  [ولقد كانوا عٰهدوا الله من قبل لا يولون الادبٰ...\n",
       "3   سورة الاحقاف  [تنزيل الكتٰب من الله العزيز الحكيم, بسم الله ...\n",
       "4   سورة الاخلاص  [بسم الله الرحمٰن الرحيم, قل هو الله احد, الله..."
      ]
     },
     "execution_count": 59,
     "metadata": {},
     "output_type": "execute_result"
    }
   ],
   "source": [
    "df = quran_df.groupby('sura').agg({'text':lambda x : list(x)}).reset_index()\n",
    "df.head()"
   ]
  },
  {
   "cell_type": "markdown",
   "metadata": {},
   "source": [
    "<h3>Stemming/Lemmatization"
   ]
  },
  {
   "cell_type": "markdown",
   "metadata": {},
   "source": [
    "<h5>1. NLTK ISRIStemmer (Very fast but not very accurate...)"
   ]
  },
  {
   "cell_type": "code",
   "execution_count": 16,
   "metadata": {},
   "outputs": [],
   "source": [
    "import nltk\n",
    "from nltk.stem.isri import ISRIStemmer\n",
    "st = ISRIStemmer()"
   ]
  },
  {
   "cell_type": "code",
   "execution_count": 26,
   "metadata": {},
   "outputs": [
    {
     "data": {
      "text/plain": [
       "'حمد'"
      ]
     },
     "execution_count": 26,
     "metadata": {},
     "output_type": "execute_result"
    }
   ],
   "source": [
    "# df.text.head(10).progress_map(lambda x : st.stem(x))\n",
    "st.stem('محمد')"
   ]
  },
  {
   "cell_type": "markdown",
   "metadata": {},
   "source": [
    "<h5>2. qalsadi lemmatizer (Fast enough, and better accuracy than NLTK)"
   ]
  },
  {
   "cell_type": "code",
   "execution_count": 9,
   "metadata": {},
   "outputs": [],
   "source": [
    "import qalsadi.lemmatizer\n",
    "lemmer = qalsadi.lemmatizer.Lemmatizer()"
   ]
  },
  {
   "cell_type": "code",
   "execution_count": 21,
   "metadata": {},
   "outputs": [
    {
     "name": "stderr",
     "output_type": "stream",
     "text": [
      "100%|██████████| 10/10 [00:00<00:00, 64.97it/s]\n"
     ]
    },
    {
     "data": {
      "text/plain": [
       "1                           [سم, الله, رحم, ٰ, ن, رحيم]\n",
       "2                            [حمد, له, رب, الع, ٰ, لما]\n",
       "3                                     [رحم, ٰ, ن, رحيم]\n",
       "4                                  [م, ٰ, لك, يوم, دين]\n",
       "5                            [اياك, عبد, واياك, استعان]\n",
       "6                               [هدن, صر, ٰ, ط, مستقيم]\n",
       "7     [صر, ٰ, ط, الذين, انعمت, على, غير, مغضوب, على,...\n",
       "9                           [سم, الله, رحم, ٰ, ن, رحيم]\n",
       "10                                                [لما]\n",
       "11      [ذ, ٰ, لك, كت, ٰ, ب, لا, ريب, في, هدى, للمتقين]\n",
       "Name: text, dtype: object"
      ]
     },
     "execution_count": 21,
     "metadata": {},
     "output_type": "execute_result"
    }
   ],
   "source": [
    "quran_df.text.head(10).progress_map(lambda x : lemmer.lemmatize_text(x))"
   ]
  },
  {
   "cell_type": "markdown",
   "metadata": {},
   "source": [
    "<h5>3. Farasa API lemmatizer (Slow because it relies on a web API, but the best in terms of accuracy)"
   ]
  },
  {
   "cell_type": "code",
   "execution_count": 65,
   "metadata": {},
   "outputs": [
    {
     "name": "stderr",
     "output_type": "stream",
     "text": [
      "100%|██████████| 10/10 [00:07<00:00,  1.27it/s]\n"
     ]
    }
   ],
   "source": [
    "def farasa_lemma(text):\n",
    "    import json\n",
    "    import http.client\n",
    "    # text = text.replace('\"', '')\n",
    "    conn = http.client.HTTPSConnection(\"farasa-api.qcri.org\")\n",
    "    payload = \"{\\\"text\\\":\\\"%s\\\"}\"% text\n",
    "    payload = payload.encode('utf-8')\n",
    "    headers = { 'content-type': \"application/json\", 'cache-control': \"no-cache\", }\n",
    "    conn.request(\"POST\", \"/msa/webapi/lemma\", payload, headers)\n",
    "    res = conn.getresponse()\n",
    "    data = res.read().decode('utf-8')\n",
    "    data_dict = json.loads(data)\n",
    "    return data_dict['result']\n",
    "\n",
    "# # Lemmatization code\n",
    "# quran_df['lemmatized'] = quran_df.text.progress_map(farasa_lemma)\n",
    "# quran_df.to_csv('quran_with_lemma.csv', index=None)\n",
    "\n",
    "# test\n",
    "test = df.head(10).text.progress_map(farasa_lemma)\n"
   ]
  },
  {
   "cell_type": "code",
   "execution_count": 93,
   "metadata": {},
   "outputs": [
    {
     "data": {
      "text/plain": [
       "['ر',\n",
       " 'كتب',\n",
       " 'انزلنه',\n",
       " 'يك',\n",
       " 'خرج',\n",
       " 'ناس',\n",
       " 'من',\n",
       " 'ظلم',\n",
       " 'الى',\n",
       " 'نور',\n",
       " 'اذن',\n",
       " 'رب',\n",
       " 'الى',\n",
       " 'صراط',\n",
       " 'عزيز',\n",
       " 'حميد']"
      ]
     },
     "execution_count": 93,
     "metadata": {},
     "output_type": "execute_result"
    }
   ],
   "source": [
    "farasa_lemma(df.iloc[0].text[2])"
   ]
  },
  {
   "cell_type": "code",
   "execution_count": 82,
   "metadata": {},
   "outputs": [
    {
     "data": {
      "text/plain": [
       "'بسم الله الرحمٰن الرحيم'"
      ]
     },
     "execution_count": 82,
     "metadata": {},
     "output_type": "execute_result"
    }
   ],
   "source": [
    "df.iloc[2].text[2]"
   ]
  }
 ],
 "metadata": {
  "interpreter": {
   "hash": "6a90448524f656655376e589a7c5d3deb138177bb112388cb30ddfc6b5ff35d8"
  },
  "kernelspec": {
   "display_name": "Python 3.9.10 64-bit",
   "language": "python",
   "name": "python3"
  },
  "language_info": {
   "codemirror_mode": {
    "name": "ipython",
    "version": 3
   },
   "file_extension": ".py",
   "mimetype": "text/x-python",
   "name": "python",
   "nbconvert_exporter": "python",
   "pygments_lexer": "ipython3",
   "version": "3.9.10"
  },
  "orig_nbformat": 4
 },
 "nbformat": 4,
 "nbformat_minor": 2
}
